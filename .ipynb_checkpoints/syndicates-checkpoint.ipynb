{
 "cells": [
  {
   "cell_type": "markdown",
   "metadata": {},
   "source": [
    "#### Imports"
   ]
  },
  {
   "cell_type": "code",
   "execution_count": 103,
   "metadata": {
    "collapsed": false
   },
   "outputs": [],
   "source": [
    "from bs4 import BeautifulSoup\n",
    "import requests\n",
    "import re\n",
    "from newspaper import Article\n",
    "from datetime import datetime"
   ]
  },
  {
   "cell_type": "markdown",
   "metadata": {},
   "source": [
    "#### Grab homepages, search from there\n",
    "start:\n",
    "- project Syndicate\n",
    "- WorldCrunch\n",
    "- Eurozine"
   ]
  },
  {
   "cell_type": "code",
   "execution_count": 314,
   "metadata": {
    "collapsed": false
   },
   "outputs": [],
   "source": [
    "sites = ['https://www.project-syndicate.org/', 'http://www.worldcrunch.com/business-finance', 'http://www.eurozine.com/']\n",
    "r = requests.get(sites[1])\n",
    "worldcrunch_soup = BeautifulSoup(r.text, 'lxml')"
   ]
  },
  {
   "cell_type": "code",
   "execution_count": 315,
   "metadata": {
    "collapsed": false
   },
   "outputs": [],
   "source": [
    "links = worldcrunch_soup.find_all('a')"
   ]
  },
  {
   "cell_type": "code",
   "execution_count": 316,
   "metadata": {
    "collapsed": false
   },
   "outputs": [
    {
     "name": "stdout",
     "output_type": "stream",
     "text": [
      "Number of links : 50\n",
      "Other links: 86\n"
     ]
    }
   ],
   "source": [
    "title = re.compile('[A-Z][\\w-]')\n",
    "\n",
    "article_links = []\n",
    "\n",
    "no_match = 0\n",
    "\n",
    "for link in links:\n",
    "    if title.match(link.text.strip()):\n",
    "        article_links.append(link)\n",
    "    else:\n",
    "        no_match += 1\n",
    "        \n",
    "print('Number of links : {}'.format(str(len(article_links))))\n",
    "print('Other links: {}'.format(str(no_match)))\n",
    "        "
   ]
  },
  {
   "cell_type": "markdown",
   "metadata": {},
   "source": [
    "## NOTE: have to do this multiple times to get to 29 links"
   ]
  },
  {
   "cell_type": "code",
   "execution_count": 319,
   "metadata": {
    "collapsed": false
   },
   "outputs": [
    {
     "name": "stdout",
     "output_type": "stream",
     "text": [
      "29\n"
     ]
    }
   ],
   "source": [
    "# stops = ['SUBSCRIBE', 'subscribe', 'Terms of Use', 'About Us', 'Privacy Policy']\n",
    "\n",
    "for link in article_links:\n",
    "    if len(link.text.split()) < 3:\n",
    "        article_links.remove(link)\n",
    "    elif '#' in str(link):\n",
    "        article_links.remove(link)\n",
    "\n",
    "print(len(article_links))"
   ]
  },
  {
   "cell_type": "markdown",
   "metadata": {},
   "source": [
    "#### use newspaper to extract articles from remaining links"
   ]
  },
  {
   "cell_type": "code",
   "execution_count": 320,
   "metadata": {
    "collapsed": false
   },
   "outputs": [],
   "source": [
    "base_url = 'http://www.worldcrunch.com/'\n",
    "\n",
    "def parseArticle(base_url, article_links):\n",
    "    \n",
    "    worldcrunch_dic = {}\n",
    "\n",
    "    for link in article_links[2:]:\n",
    "        url = base_url+link['href']\n",
    "        r = requests.get(url)\n",
    "        # Beautiful Soup\n",
    "        soup = BeautifulSoup(r.text, 'lxml')\n",
    "\n",
    "        try:\n",
    "            publish_date = soup.find(\"meta\", {\"name\":\"DISPLAYDATE\"})['content']\n",
    "            r_datetime = datetime.strptime(publish_date, '%Y-%m-%d %H:%M:%S')\n",
    "            dt = datetime.strftime(r_datetime, '%Y-%m-%d %H:%M:%S')\n",
    "            author = soup.find_all(\"p\", {\"class\":\"resize-auth\"})[0].find('a').text.strip()\n",
    "            raw_text = soup.find(\"div\", {\"class\":\"article-text\"}).text\n",
    "            worldcrunch_dic[dt] = (author, raw_text)\n",
    "        except:\n",
    "            pass\n",
    "    return worldcrunch_dic"
   ]
  },
  {
   "cell_type": "code",
   "execution_count": 321,
   "metadata": {
    "collapsed": false
   },
   "outputs": [
    {
     "ename": "TypeError",
     "evalue": "key datetime.datetime(2016, 11, 14, 11, 59, 54) is not a string",
     "output_type": "error",
     "traceback": [
      "\u001b[0;31m---------------------------------------------------------------------------\u001b[0m",
      "\u001b[0;31mTypeError\u001b[0m                                 Traceback (most recent call last)",
      "\u001b[0;32m<ipython-input-321-2110e3947df2>\u001b[0m in \u001b[0;36m<module>\u001b[0;34m()\u001b[0m\n\u001b[1;32m      1\u001b[0m \u001b[0;32mwith\u001b[0m \u001b[0mopen\u001b[0m\u001b[0;34m(\u001b[0m\u001b[0;34m'worldcrunch.json'\u001b[0m\u001b[0;34m,\u001b[0m \u001b[0;34m'w'\u001b[0m\u001b[0;34m)\u001b[0m \u001b[0;32mas\u001b[0m \u001b[0mfp\u001b[0m\u001b[0;34m:\u001b[0m\u001b[0;34m\u001b[0m\u001b[0m\n\u001b[0;32m----> 2\u001b[0;31m     \u001b[0mjson\u001b[0m\u001b[0;34m.\u001b[0m\u001b[0mdump\u001b[0m\u001b[0;34m(\u001b[0m\u001b[0mworldcrunch_dic\u001b[0m\u001b[0;34m,\u001b[0m \u001b[0mfp\u001b[0m\u001b[0;34m)\u001b[0m\u001b[0;34m\u001b[0m\u001b[0m\n\u001b[0m",
      "\u001b[0;32m/Users/hannahdeen/anaconda3/lib/python3.5/json/__init__.py\u001b[0m in \u001b[0;36mdump\u001b[0;34m(obj, fp, skipkeys, ensure_ascii, check_circular, allow_nan, cls, indent, separators, default, sort_keys, **kw)\u001b[0m\n\u001b[1;32m    176\u001b[0m     \u001b[0;31m# could accelerate with writelines in some versions of Python, at\u001b[0m\u001b[0;34m\u001b[0m\u001b[0;34m\u001b[0m\u001b[0m\n\u001b[1;32m    177\u001b[0m     \u001b[0;31m# a debuggability cost\u001b[0m\u001b[0;34m\u001b[0m\u001b[0;34m\u001b[0m\u001b[0m\n\u001b[0;32m--> 178\u001b[0;31m     \u001b[0;32mfor\u001b[0m \u001b[0mchunk\u001b[0m \u001b[0;32min\u001b[0m \u001b[0miterable\u001b[0m\u001b[0;34m:\u001b[0m\u001b[0;34m\u001b[0m\u001b[0m\n\u001b[0m\u001b[1;32m    179\u001b[0m         \u001b[0mfp\u001b[0m\u001b[0;34m.\u001b[0m\u001b[0mwrite\u001b[0m\u001b[0;34m(\u001b[0m\u001b[0mchunk\u001b[0m\u001b[0;34m)\u001b[0m\u001b[0;34m\u001b[0m\u001b[0m\n\u001b[1;32m    180\u001b[0m \u001b[0;34m\u001b[0m\u001b[0m\n",
      "\u001b[0;32m/Users/hannahdeen/anaconda3/lib/python3.5/json/encoder.py\u001b[0m in \u001b[0;36m_iterencode\u001b[0;34m(o, _current_indent_level)\u001b[0m\n\u001b[1;32m    427\u001b[0m             \u001b[0;32myield\u001b[0m \u001b[0;32mfrom\u001b[0m \u001b[0m_iterencode_list\u001b[0m\u001b[0;34m(\u001b[0m\u001b[0mo\u001b[0m\u001b[0;34m,\u001b[0m \u001b[0m_current_indent_level\u001b[0m\u001b[0;34m)\u001b[0m\u001b[0;34m\u001b[0m\u001b[0m\n\u001b[1;32m    428\u001b[0m         \u001b[0;32melif\u001b[0m \u001b[0misinstance\u001b[0m\u001b[0;34m(\u001b[0m\u001b[0mo\u001b[0m\u001b[0;34m,\u001b[0m \u001b[0mdict\u001b[0m\u001b[0;34m)\u001b[0m\u001b[0;34m:\u001b[0m\u001b[0;34m\u001b[0m\u001b[0m\n\u001b[0;32m--> 429\u001b[0;31m             \u001b[0;32myield\u001b[0m \u001b[0;32mfrom\u001b[0m \u001b[0m_iterencode_dict\u001b[0m\u001b[0;34m(\u001b[0m\u001b[0mo\u001b[0m\u001b[0;34m,\u001b[0m \u001b[0m_current_indent_level\u001b[0m\u001b[0;34m)\u001b[0m\u001b[0;34m\u001b[0m\u001b[0m\n\u001b[0m\u001b[1;32m    430\u001b[0m         \u001b[0;32melse\u001b[0m\u001b[0;34m:\u001b[0m\u001b[0;34m\u001b[0m\u001b[0m\n\u001b[1;32m    431\u001b[0m             \u001b[0;32mif\u001b[0m \u001b[0mmarkers\u001b[0m \u001b[0;32mis\u001b[0m \u001b[0;32mnot\u001b[0m \u001b[0;32mNone\u001b[0m\u001b[0;34m:\u001b[0m\u001b[0;34m\u001b[0m\u001b[0m\n",
      "\u001b[0;32m/Users/hannahdeen/anaconda3/lib/python3.5/json/encoder.py\u001b[0m in \u001b[0;36m_iterencode_dict\u001b[0;34m(dct, _current_indent_level)\u001b[0m\n\u001b[1;32m    373\u001b[0m                 \u001b[0;32mcontinue\u001b[0m\u001b[0;34m\u001b[0m\u001b[0m\n\u001b[1;32m    374\u001b[0m             \u001b[0;32melse\u001b[0m\u001b[0;34m:\u001b[0m\u001b[0;34m\u001b[0m\u001b[0m\n\u001b[0;32m--> 375\u001b[0;31m                 \u001b[0;32mraise\u001b[0m \u001b[0mTypeError\u001b[0m\u001b[0;34m(\u001b[0m\u001b[0;34m\"key \"\u001b[0m \u001b[0;34m+\u001b[0m \u001b[0mrepr\u001b[0m\u001b[0;34m(\u001b[0m\u001b[0mkey\u001b[0m\u001b[0;34m)\u001b[0m \u001b[0;34m+\u001b[0m \u001b[0;34m\" is not a string\"\u001b[0m\u001b[0;34m)\u001b[0m\u001b[0;34m\u001b[0m\u001b[0m\n\u001b[0m\u001b[1;32m    376\u001b[0m             \u001b[0;32mif\u001b[0m \u001b[0mfirst\u001b[0m\u001b[0;34m:\u001b[0m\u001b[0;34m\u001b[0m\u001b[0m\n\u001b[1;32m    377\u001b[0m                 \u001b[0mfirst\u001b[0m \u001b[0;34m=\u001b[0m \u001b[0;32mFalse\u001b[0m\u001b[0;34m\u001b[0m\u001b[0m\n",
      "\u001b[0;31mTypeError\u001b[0m: key datetime.datetime(2016, 11, 14, 11, 59, 54) is not a string"
     ]
    }
   ],
   "source": [
    "with open('worldcrunch.json', 'w') as fp:\n",
    "    json.dump(worldcrunch_dic, fp)"
   ]
  },
  {
   "cell_type": "code",
   "execution_count": 278,
   "metadata": {
    "collapsed": false
   },
   "outputs": [
    {
     "data": {
      "text/plain": [
       "<!DOCTYPE html>\n",
       "<html class=\"b-footer--transparent--dark-grey\" lang=\"en-GB\"> <head> <title>BBC - Search results for mario draghi</title> <meta content=\"BBC, Search\" name=\"keywords\"/> <meta content=\"Application\" name=\"description\"/> <meta content=\"text/html; charset=utf-8\" http-equiv=\"content-type\"/> <meta content=\"width=device-width, initial-scale=1.0\" name=\"viewport\"/> <!-- Nav Env: live -->\n",
       "<!-- Analytics Web Module: 62 -->\n",
       "<!-- NavID Web Module: 0.2.0-143 -->\n",
       "<!-- Searchbox Web Module: 126 -->\n",
       "<!-- Promo Web Module: 0.0.0-174.b4d6704 -->\n",
       "<meta content=\"width=device-width, initial-scale=1.0\" name=\"viewport\"/><meta content=\"100004154058350\" property=\"fb:admins\"/><link href=\"//nav.files.bbci.co.uk/orbit/1.0.0-346.93a6467/css/orb.min.css\" rel=\"stylesheet\"/><!--[if (lt IE 9) & (!IEMobile)]>\n",
       "    <link rel=\"stylesheet\" href=\"//nav.files.bbci.co.uk/orbit/1.0.0-346.93a6467/css/orb-ie.min.css\">\n",
       "    <![endif]--><script type=\"text/javascript\">/*<![CDATA[*/\n",
       "        window.orb = {\n",
       "            lang: 'en',\n",
       "            bbcBaseUrl: 'http://www.bbc.co.uk',\n",
       "            staticHost: '//nav.files.bbci.co.uk/orbit/1.0.0-346.93a6467',\n",
       "            figUrl: 'https://fig.bbc.co.uk/frameworks/fig/2/fig.js',\n",
       "            partialCookieOvenUrl: 'https://cookie-oven.api.bbc'\n",
       "        };\n",
       "\n",
       "        document.documentElement.className += (document.documentElement.className? ' ' : '') + 'orb-js';\n",
       "        window.orb.worldwideNavlinks = '<li class=\"orb-nav-newsdotcom\"><a href=\"http://www.bbc.com/news/\">News</a></li><li class=\"orb-nav-sport\"><a href=\"http://www.bbc.com/sport/\">Sport</a></li><li class=\"orb-nav-weather\"><a href=\"http://www.bbc.com/weather/\">Weather</a></li><li class=\"orb-nav-shop\"><a href=\"http://shop.bbc.com/\">Shop</a></li><li class=\"orb-nav-earthdotcom\"><a href=\"http://www.bbc.com/earth/\">Earth</a></li><li class=\"orb-nav-travel-dotcom\"><a href=\"http://www.bbc.com/travel/\">Travel</a></li><li class=\"orb-nav-capital\"><a href=\"http://www.bbc.com/capital/\">Capital</a></li><li class=\"orb-nav-culture\"><a href=\"http://www.bbc.com/culture/\">Culture</a></li><li class=\"orb-nav-autos\"><a href=\"http://www.bbc.com/autos/\">Autos</a></li><li class=\"orb-nav-future\"><a href=\"http://www.bbc.com/future/\">Future</a></li><li class=\"orb-nav-tv\"><a href=\"http://www.bbc.co.uk/tv/\">TV</a></li><li class=\"orb-nav-radio\"><a href=\"http://www.bbc.co.uk/radio/\">Radio</a></li><li class=\"orb-nav-cbbc\"><a href=\"http://www.bbc.co.uk/cbbc\">CBBC</a></li><li class=\"orb-nav-cbeebies\"><a href=\"http://www.bbc.co.uk/cbeebies\">CBeebies</a></li><li class=\"orb-nav-food\"><a href=\"http://www.bbc.co.uk/food/\">Food</a></li><li class=\"orb-nav-iwonder\"><a href=\"http://www.bbc.co.uk/iwonder\">iWonder</a></li><li class=\"orb-nav-bitesize\"><a href=\"http://www.bbc.co.uk/education\">Bitesize</a></li><li class=\"orb-nav-music\"><a href=\"http://www.bbc.co.uk/music/\">Music</a></li><li class=\"orb-nav-arts\"><a href=\"http://www.bbc.co.uk/arts/\">Arts</a></li><li class=\"orb-nav-makeitdigital\"><a href=\"http://www.bbc.co.uk/makeitdigital\">Make It Digital</a></li><li class=\"orb-nav-taster\"><a href=\"http://www.bbc.co.uk/taster\">Taster</a></li><li class=\"orb-nav-nature\"><a href=\"http://www.bbc.com/nature/\">Nature</a></li><li class=\"orb-nav-local\"><a href=\"http://www.bbc.co.uk/local/\">Local</a></li>';\n",
       "     /*]]>*/</script><!-- orb/api must be in the HEAD while the rest of orb.js should be at end of BODY --><script src=\"//nav.files.bbci.co.uk/orbit/1.0.0-346.93a6467/js/api.min.js\"></script><script type=\"text/javascript\">window.bbcFlagpoles_istats=\"ON\",require.config({paths:{\"istats-1\":\"//nav.files.bbci.co.uk/nav-analytics/0.1.0-62/js/istats-1\"}}),require.defined(\"orb/cookies\")||(window.bbccookies?define(\"orb/cookies\",function(){return window.bbccookies}):define(\"orb/cookies\",function(){return{isAllowed:function(e){return!1}}})),require([\"istats-1\",\"orb/cookies\"],function(e,o){if(o.isAllowed(\"s1\")){var n=\"//sa.bbc.co.uk/bbc/bbc/s\";e.addCollector({name:\"default\",url:n,separator:\"&\"});var i=\"unknown\";i&&\"unknown\"!==i&&e.setCountername(i),window.istats_countername&&e.setCountername(window.istats_countername),e.addLabels(\"ml_name=webmodule&ml_version=62&blq_e=orbit&blq_r=orbit&blq_s=orbit&blq_v=default&language=en&bbc_site=search\")}});</script><link href=\"//static.bbc.co.uk/id/0.36.25/style/id-cta.css\" rel=\"stylesheet\"/><link href=\"//static.bbc.co.uk/id/0.36.25/style/id-cta-v5.css\" rel=\"stylesheet\"/><!--[if IE 8]><link href=\"//static.bbc.co.uk/id/0.36.25/style/ie8.css\" rel=\"stylesheet\"/> <![endif]--><script type=\"text/javascript\">/* <![CDATA[ */ var map = {};  if (typeof(map['jssignals-1']) == 'undefined') { map['jssignals-1'] = 'https://static.bbc.co.uk/frameworks/jssignals/0.3.6/modules/jssignals-1'; }  require({paths: map}); /* ]]> */</script><script src=\"//static.bbc.co.uk/id/0.36.25/modules/idcta/dist/idcta-1.min.js\"></script><script type=\"text/javascript\">(function () { if (!window.require) { throw new Error('idcta: could not find require module'); } if(typeof(map) == 'undefined') { var map = {}; } if(!!document.createElementNS && !!document.createElementNS('http://www.w3.org/2000/svg', \"svg\").createSVGRect) { document.documentElement.className += ' id-svg'; } var ptrt = RegExp(\"[\\\\?&]ptrt=([^&#]*)\").exec(document.location.href); var ENDPOINT_URL = '//' + ((window.location.protocol == \"https:\") ? ('ssl.bbc.co.uk').replace(\"www.\", \"ssl.\") : ('ssl.bbc.co.uk').replace(\"ssl.\", \"www.\")); var ENDPOINT_CONFIG = ('/idcta/config?callback&amp;locale=en-GB&ptrt=' + encodeURI((ptrt ? ptrt[1] : document.location.href))).replace(/\\&amp;/g, '&'); var ENDPOINT_TRANSLATIONS = '/idcta/translations?callback&locale=en-GB'; map['idapp-1'] = '//static.bbc.co.uk/idapp/0.72.58/modules/idapp/idapp-1'; map['idcta'] = '//static.bbc.co.uk/id/0.36.25/modules/idcta'; map['idcta/config'] = [ENDPOINT_URL + ENDPOINT_CONFIG, '//static.bbc.co.uk/id/0.36.25/modules/idcta/fallbackConfig']; map['idcta/translations'] = [ENDPOINT_URL + ENDPOINT_TRANSLATIONS, '//static.bbc.co.uk/id/0.36.25/modules/idcta/fallbackTranslations']; require({paths: map}); /* * Temporary code * To be removed when old id-statusbar-config is no longer supported */ define('id-statusbar-config', ['idcta/id-config'], function(conf) { return conf; }); define('idcta/id-statusbar-config', ['idcta/id-config'], function(conf) { return conf; }); })();</script><link href=\"//mybbc.files.bbci.co.uk/notification-ui/2.6.10-mvt/css/main.min.css\" rel=\"stylesheet\"/><script type=\"text/javascript\">// Globally available search context\n",
       "  window.SEARCHBOX={\"variant\":\"default\",\"locale\":\"en\",\"navSearchboxStaticPrefix\":\"//nav.files.bbci.co.uk/searchbox/1.0.0-126\",\"searchboxAppStaticPrefix\":\"//search.files.bbci.co.uk/searchbox-app/1.0.11\",\"searchFormHtml\":\"<div tabindex=\\\"-1\\\" data-reactid=\\\".1ih4oyrvxts\\\" data-react-checksum=\\\"-157208892\\\"><div data-reactid=\\\".1ih4oyrvxts.0\\\"><section class=\\\"se-searchbox-panel\\\" data-reactid=\\\".1ih4oyrvxts.0.0\\\"><div class=\\\"se-g-wrap\\\" data-reactid=\\\".1ih4oyrvxts.0.0.0\\\"><div class=\\\"se-g-layout\\\" data-reactid=\\\".1ih4oyrvxts.0.0.0.0\\\"><div class=\\\"se-g-layout__item se-searchbox-title\\\" aria-hidden=\\\"true\\\" data-reactid=\\\".1ih4oyrvxts.0.0.0.0.0\\\">search</div><div class=\\\"se-g-layout__item se-searchbox\\\" data-reactid=\\\".1ih4oyrvxts.0.0.0.0.1\\\"><form accept-charset=\\\"utf-8\\\" id=\\\"searchboxDrawerForm\\\" method=\\\"get\\\" action=\\\"//search.bbc.co.uk/search\\\" data-reactid=\\\".1ih4oyrvxts.0.0.0.0.1.0\\\"><label class=\\\"se-searchbox__input\\\" for=\\\"se-searchbox-input-field\\\" data-reactid=\\\".1ih4oyrvxts.0.0.0.0.1.0.0\\\"><span class=\\\"se-sr-only\\\" data-reactid=\\\".1ih4oyrvxts.0.0.0.0.1.0.0.0\\\">Search Term</span><input name=\\\"q\\\" type=\\\"text\\\" value=\\\"\\\" id=\\\"se-searchbox-input-field\\\" class=\\\"se-searchbox__input__field\\\" maxlength=\\\"512\\\" autocomplete=\\\"off\\\" autocorrect=\\\"off\\\" autocapitalize=\\\"off\\\" spellcheck=\\\"false\\\" tabindex=\\\"0\\\" data-reactid=\\\".1ih4oyrvxts.0.0.0.0.1.0.0.1\\\"/></label><input type=\\\"hidden\\\" name=\\\"scope\\\" value=\\\"\\\" data-reactid=\\\".1ih4oyrvxts.0.0.0.0.1.0.2\\\"/><button type=\\\"submit\\\" class=\\\"se-searchbox__submit\\\" tabindex=\\\"0\\\" data-reactid=\\\".1ih4oyrvxts.0.0.0.0.1.0.3\\\">Search</button><button type=\\\"button\\\" class=\\\"se-searchbox__clear se-searchbox__clear--visible\\\" tabindex=\\\"0\\\" data-reactid=\\\".1ih4oyrvxts.0.0.0.0.1.0.4\\\">Close</button></form></div></div></div></section><div aria-live=\\\"polite\\\" aria-atomic=\\\"true\\\" class=\\\"se-suggestions-container\\\" data-reactid=\\\".1ih4oyrvxts.0.1\\\"><section class=\\\"se-g-wrap\\\" data-reactid=\\\".1ih4oyrvxts.0.1.0\\\"></section></div></div></div>\",\"searchScopePlaceholder\":\"\",\"searchScopeParam\":\"\",\"searchScopeTemplate\":\"\",\"searchPlaceholderWrapperStart\":\"\",\"searchPlaceholderWrapperEnd\":\"\"};\n",
       "  window.SEARCHBOX.suppress = false;\n",
       "  window.SEARCHBOX.searchScope = SEARCHBOX.searchScopeTemplate.split('-')[0];</script><link href=\"//nav.files.bbci.co.uk/searchbox/1.0.0-126/css/main.css\" rel=\"stylesheet\"/><!--[if IE 8]>\n",
       "  <script type=\"text/javascript\" src=\"//nav.files.bbci.co.uk/searchbox/1.0.0-126/script/html5shiv.min.js\"></script>\n",
       "  <script type=\"text/javascript\">window['searchboxIEVersion'] = 8;</script>\n",
       "  <link rel=\"stylesheet\" href=\"//nav.files.bbci.co.uk/searchbox/1.0.0-126/css/ie8.css\">\n",
       "<![endif]--><!--[if IE 9]>\n",
       "  <script type=\"text/javascript\">window['searchboxIEVersion'] = 9;</script>\n",
       "<![endif]--><script type=\"text/javascript\">require.config({\n",
       "        \"paths\": {\n",
       "            \"orb/async/_footerpromo\": '//nav.files.bbci.co.uk/nav-promo/0.0.0-174.b4d6704/js/async/_footerpromo'\n",
       "        }\n",
       "    });</script><!-- BBCDOTCOM head --><script type=\"text/javascript\">/*<![CDATA[*/ var _sf_startpt = (new Date()).getTime(); /*]]>*/</script><style type=\"text/css\">.bbccom_display_none{display:none;}</style><script type=\"text/javascript\">/*<![CDATA[*/ var bbcdotcomConfig, googletag = googletag || {}; googletag.cmd = googletag.cmd || []; var bbcdotcom = false; (function(){ if(typeof require !== 'undefined') { require({ paths:{ \"bbcdotcom\":\"https://static.bbc.co.uk/bbcdotcom/1.39.0/script\" } }); } })(); /*]]>*/</script><script type=\"text/javascript\">/*<![CDATA[*/ var bbcdotcom = { adverts: { keyValues: { set: function() {} } }, advert: { write: function () {}, show: function () {}, isActive: function () { return false; }, layout: function() { return { reset: function() {} } } }, config: { init: function() {}, isActive: function() {}, setSections: function() {}, isAdsEnabled: function() {}, setAdsEnabled: function() {}, isAnalyticsEnabled: function() {}, setAnalyticsEnabled: function() {}, setAssetPrefix: function() {}, setVersion: function () {}, setJsPrefix: function() {}, setSwfPrefix: function() {}, setCssPrefix: function() {}, setConfig: function() {}, getAssetPrefix: function() {}, getJsPrefix: function () {}, getSwfPrefix: function () {}, getCssPrefix: function () {} }, survey: { init: function(){ return false; } }, data: {}, init: function() {}, objects: function(str) { return false; }, locale: { set: function() {}, get: function() {} }, setAdKeyValue: function() {}, utils: { addEvent: function() {}, addHtmlTagClass: function() {}, log: function () {} }, addLoadEvent: function() {} }; /*]]>*/</script><script type=\"text/javascript\">/*<![CDATA[*/ (function(){ if (typeof orb !== 'undefined' && typeof orb.fig === 'function') { if (orb.fig('ad') && orb.fig('uk') == 0) { bbcdotcom.data = { ads: (orb.fig('ad') ? 1 : 0), stats: (orb.fig('uk') == 0 ? 1 : 0), statsProvider: orb.fig('ap') }; } } else { document.write('<script type=\"text/javascript\" src=\"'+('https:' == document.location.protocol ? 'https://ssl.bbc.com' : 'http://tps.bbc.com')+'/wwscripts/data\">\\x3C/script>'); } })(); /*]]>*/</script><script type=\"text/javascript\">/*<![CDATA[*/ (function(){ if (typeof orb === 'undefined' || typeof orb.fig !== 'function') { bbcdotcom.data = { ads: bbcdotcom.data.a, stats: bbcdotcom.data.b, statsProvider: bbcdotcom.data.c }; } if (bbcdotcom.data.ads == 1) { document.write('<script type=\"text/javascript\" src=\"'+('https:' == document.location.protocol ? 'https://ssl.bbc.co.uk' : 'http://www.bbc.co.uk')+'/wwscripts/flag\">\\x3C/script>'); } })(); /*]]>*/</script><script type=\"text/javascript\">/*<![CDATA[*/ (function(){ if (window.bbcdotcom && (typeof bbcdotcom.flag == 'undefined' || (typeof bbcdotcom.data.ads !== 'undefined' && bbcdotcom.flag.a != 1))) { bbcdotcom.data.ads = 0; } if (/[?|&]ads/.test(window.location.href) || /(^|; )ads=on; /.test(document.cookie) || /; ads=on(; |$)/.test(document.cookie)) { bbcdotcom.data.ads = 1; bbcdotcom.data.stats = 1; } if (window.bbcdotcom && (bbcdotcom.data.ads == 1 || bbcdotcom.data.stats == 1)) { bbcdotcom.assetPrefix = \"https://static.bbc.co.uk/bbcdotcom/1.39.0/\"; if (/(sandbox|int)(.dev)*.bbc.co*/.test(window.location.href) || /[?|&]ads-debug/.test(window.location.href) || document.cookie.indexOf('ads-debug=') !== -1) { document.write('<link rel=\"stylesheet\" type=\"text/css\" href=\"https://static.bbc.co.uk/bbcdotcom/1.39.0/style/dist/bbcdotcom.dev.css\" />'); } else { document.write('<link rel=\"stylesheet\" type=\"text/css\" href=\"https://static.bbc.co.uk/bbcdotcom/1.39.0/style/dist/bbcdotcom.css\" />'); } (function() { var useSSL = 'https:' == document.location.protocol; var src = (useSSL ? 'https:' : 'http:') + '//www.googletagservices.com/tag/js/gpt.js'; document.write('<scr' + 'ipt src=\"' + src + '\">\\x3C/script>'); })(); if (/(sandbox|int)(.dev)*.bbc.co*/.test(window.location.href) || /[?|&]ads-debug/.test(window.location.href) || document.cookie.indexOf('ads-debug=') !== -1) { document.write('<script type=\"text/javascript\" src=\"https://static.bbc.co.uk/bbcdotcom/1.39.0/script/dist/bbcdotcom.dev.js\">\\x3C/script>'); } else { document.write('<script type=\"text/javascript\" src=\"https://static.bbc.co.uk/bbcdotcom/1.39.0/script/dist/bbcdotcom.js\">\\x3C/script>'); } } })(); /*]]>*/</script><script type=\"text/javascript\">if (window.bbcdotcom && bbcdotcom.data.stats == 1) { document.write('<link rel=\"dns-prefetch\" href=\"//secure-us.imrworldwide.com/\">'); document.write('<link rel=\"dns-prefetch\" href=\"//me-cdn.effectivemeasure.net/\">'); document.write('<link rel=\"dns-prefetch\" href=\"//ssc.api.bbc.com/\">'); } if (window.bbcdotcom && bbcdotcom.data.ads == 1) { document.write('<link rel=\"dns-prefetch\" href=\"//www.googletagservices.com/\">'); }</script><script type=\"text/javascript\">/*<![CDATA[*/ (function(){ if (window.bbcdotcom && (bbcdotcom.data.ads == 1 || bbcdotcom.data.stats == 1)) { bbcdotcomConfig = {\"adFormat\":\"standard\",\"adKeyword\":\"\",\"adMode\":\"smart\",\"adsEnabled\":true,\"appAnalyticsSections\":\"\",\"asyncEnabled\":false,\"disableInitialLoad\":false,\"advertInfoPageUrl\":\"http:\\/\\/www.bbc.com\\/privacy\\/cookies\\/international\\/\",\"advertisementText\":\"Advertisement\",\"analyticsEnabled\":true,\"kruxEnabled\":true,\"newsTopStoriesMorph\":true,\"appName\":\"\",\"assetPrefix\":\"https:\\/\\/static.bbc.co.uk\\/bbcdotcom\\/1.39.0\\/\",\"customAdParams\":[],\"customStatsParams\":[],\"headline\":\"\",\"id\":\"\",\"inAssociationWithText\":\"in association with\",\"keywords\":\"\",\"language\":\"\",\"orbTransitional\":false,\"outbrainEnabled\":true,\"palEnv\":\"live\",\"productName\":\"\",\"sections\":[],\"comScoreEnabled\":true,\"comscoreSite\":\"bbc\",\"comscoreID\":\"19293874\",\"comscorePageName\":\"\",\"slots\":\"\",\"sponsoredByText\":\"is sponsored by\",\"adsByGoogleText\":\"Ads by Google\",\"summary\":\"\",\"type\":\"\",\"features\":{\"testfeature\":{\"name\":\"testfeature\",\"envs\":[\"sandbox\",\"int\",\"test\"],\"on\":true,\"options\":{},\"override\":null},\"lxadverts\":{\"name\":\"lxadverts\",\"envs\":[],\"on\":true,\"options\":{},\"override\":null}},\"staticBase\":\"\\/bbcdotcom\",\"staticHost\":\"https:\\/\\/static.bbc.co.uk\",\"staticVersion\":\"1.39.0\",\"staticPrefix\":\"https:\\/\\/static.bbc.co.uk\\/bbcdotcom\\/1.39.0\",\"dataHttp\":\"tps.bbc.com\",\"dataHttps\":\"ssl.bbc.com\",\"flagHttp\":\"www.bbc.co.uk\",\"flagHttps\":\"ssl.bbc.co.uk\",\"analyticsHttp\":\"sa.bbc.com\",\"analyticsHttps\":\"ssa.bbc.com\"}; bbcdotcom.config.init(bbcdotcomConfig, bbcdotcom.data, window.location, window.document); bbcdotcom.config.setAssetPrefix(\"https://static.bbc.co.uk/bbcdotcom/1.39.0/\"); bbcdotcom.config.setVersion(\"1.39.0\"); document.write('<!--[if IE 7]><script type=\"text/javascript\">bbcdotcom.config.setIE7(true);\\x3C/script><![endif]-->'); document.write('<!--[if IE 8]><script type=\"text/javascript\">bbcdotcom.config.setIE8(true);\\x3C/script><![endif]-->'); document.write('<!--[if IE 9]><script type=\"text/javascript\">bbcdotcom.config.setIE9(true);\\x3C/script><![endif]-->'); if (/[?|&]ex-dp/.test(window.location.href) || document.cookie.indexOf('ex-dp=') !== -1) { bbcdotcom.utils.addHtmlTagClass('bbcdotcom-ex-dp'); } } })(); /*]]>*/</script><script type=\"text/javascript\">/*<![CDATA[*/\n",
       "        require(['istats-1', 'orb/cookies', 'orb/fig'], function (istats, bbccookies, orbFig) {\n",
       "            istats.addLabels({ 'bbc_mc': bbccookies.analyticsPolicyString() });\n",
       "\n",
       "            var domesticBlqV = istats._getLabels().blq_v;\n",
       "            var worldwideBlqV = istats._getLabels().blq_v + '-ww';\n",
       "\n",
       "            function setBlqVLabel(fig) {\n",
       "                if (fig.geo.isUK()) {\n",
       "                    istats.addLabels({'blq_v': domesticBlqV});\n",
       "                } else {\n",
       "                    istats.addLabels({'blq_v': worldwideBlqV});\n",
       "                }\n",
       "            }\n",
       "\n",
       "            // Guess with synchronous API first (might be cached and the async version might be too slow)\n",
       "            setBlqVLabel(orbFig);\n",
       "            orbFig.load(function (fig) {\n",
       "                setBlqVLabel(fig);\n",
       "            });\n",
       "        });\n",
       "    /*]]>*/</script> <script type=\"text/javascript\"> window.SEARCHBOX = window.SEARCHBOX || {}; window.SEARCHBOX.suppress = true; window.SEARCHBOX.isSearchPage = true; require.config({ 'baseUrl': 'http://static.bbci.co.uk/search/5.1.26/modules', 'paths': { 'jquery-1': '//static.bbci.co.uk/frameworks/jquery/0.3.0/sharedmodules/jquery-1.7.2' } }); </script> <!--[if IE 8]> <script type=\"text/javascript\">window['searchboxIEVersion'] = 8;</script> <![endif]--> <meta content=\"IE=9\" http-equiv=\"X-UA-Compatible\"/> <meta content=\"no\" name=\"msapplication-tap-highlight\"/> <script src=\"http://static.bbci.co.uk/search/5.1.26/script/modernizr.js\" type=\"text/javascript\"></script> <!--[if lt IE 9]> <link rel=\"stylesheet\" type=\"text/css\" media=\"all\" id=\"css-fixed\" href=\"http://static.bbci.co.uk/search/5.1.26/style/search/fixed.css\"/> <![endif]--> <!--[if gt IE 8]><!--> <link href=\"http://static.bbci.co.uk/search/5.1.26/style/search/enhanced.css\" media=\"all\" rel=\"stylesheet\" type=\"text/css\"/> <!--<![endif]--> <!--[if IE 9]> <script type=\"text/javascript\">window['searchboxIEVersion'] = 9;</script> <![endif]--> <!--[if gte IE 9]> <style type=\"text/css\"> .carousel-edge { filter: none; } </style> <![endif]--> <link href=\"//search.files.bbci.co.uk/searchbox-app/1.0.9/style/enhanced.css\" rel=\"stylesheet\" type=\"text/css\"/><!--[if IE 8]><link rel=\"stylesheet\" type=\"text/css\" href=\"//search.files.bbci.co.uk/searchbox-app/1.0.9/style/fixed.css\" /><![endif]--> </head> <body class=\"no-touch\"> <noscript><p style=\"position: absolute; top: -999em\"><img alt=\"\" height=\"1\" src=\"//sa.bbc.co.uk/bbc/bbc/s?name=unknown&amp;ml_name=webmodule&amp;ml_version=62&amp;blq_e=orbit&amp;blq_r=orbit&amp;blq_s=orbit&amp;blq_v=default&amp;language=en&amp;bbc_site=search&amp;blq_js_enabled=0\" width=\"1\"/></p></noscript><!-- BBCDOTCOM bodyFirst --><div class=\"bbccom_display_none\" id=\"bbccom_interstitial_ad\"></div><div class=\"bbccom_display_none\" id=\"bbccom_interstitial\"><script type=\"text/javascript\">/*<![CDATA[*/ (function() { if (window.bbcdotcom && bbcdotcom.config.isActive('ads')) { googletag.cmd.push(function() { googletag.display('bbccom_interstitial'); }); } }()); /*]]>*/</script></div><div class=\"bbccom_display_none\" id=\"bbccom_wallpaper_ad\"></div><div class=\"bbccom_display_none\" id=\"bbccom_wallpaper\"><script type=\"text/javascript\">/*<![CDATA[*/ (function() { var wallpaper; if (window.bbcdotcom && bbcdotcom.config.isActive('ads')) { if (bbcdotcom.config.isAsync()) { googletag.cmd.push(function() { googletag.display('bbccom_wallpaper'); }); } else { googletag.display(\"wallpaper\"); } wallpaper = bbcdotcom.adverts.adRegister.getAd('wallpaper'); } }()); /*]]>*/</script></div><script type=\"text/javascript\">/*<![CDATA[*/ (function() { if (window.bbcdotcom && bbcdotcom.config.isActive('ads')) { document.write(unescape('%3Cscript id=\"gnlAdsEnabled\" class=\"bbccom_display_none\"%3E%3C/script%3E')); } if (window.bbcdotcom && bbcdotcom.config.isActive('analytics')) { document.write(unescape('%3Cscript id=\"gnlAnalyticsEnabled\" class=\"bbccom_display_none\"%3E%3C/script%3E')); } }()); /*]]>*/</script><div id=\"blq-global\"><div id=\"blq-pre-mast\"></div></div><div id=\"cookiePrompt\"></div><!--[if (gt IE 8) | (IEMobile)]><!--><header aria-label=\"BBC\" id=\"orb-banner\" role=\"banner\"><!--<![endif]--><!--[if (lt IE 9) & (!IEMobile)]>\n",
       "        <![if (IE 8)]>\n",
       "            <header id=\"orb-banner\" role=\"banner\" class=\"orb-old-ie orb-ie8\" aria-label=\"BBC\">\n",
       "        <![endif]>\n",
       "\n",
       "        <![if (IE 7)]>\n",
       "            <header id=\"orb-banner\" role=\"banner\" class=\"orb-old-ie orb-ie7\" aria-label=\"BBC\">\n",
       "        <![endif]>\n",
       "\n",
       "        <![if (IE 6)]>\n",
       "            <header id=\"orb-banner\" role=\"banner\" class=\"orb-old-ie orb-ie6\" aria-label=\"BBC\">\n",
       "        <![endif]>\n",
       "    <![endif]--><div class=\"orb-nav-pri orb-nav-pri-white orb-nav-empty\" id=\"orb-header\"><div class=\"orb-nav-pri-container b-r b-g-p\"><div class=\"orb-nav-section orb-nav-blocks\"><a href=\"http://www.bbc.co.uk\">Homepage</a></div><section><div class=\"orb-skip-links\"><h2>Accessibility links</h2><ul><li><a href=\"#help-link\">Skip to content</a></li><li><a href=\"/accessibility/\" id=\"orb-accessibility-help\">Accessibility Help</a></li></ul></div></section><div class=\"orb-nav-section orb-nav-id orb-nav-focus orb-nav-id-default\" id=\"mybbc-wrapper\"><div class=\"orb-nav-section orb-nav-focus\" id=\"idcta-statusbar\"><a href=\"https://www.bbc.com/account\" id=\"idcta-link\"><span id=\"idcta-username\">BBC iD</span></a></div><script type=\"text/javascript\">require(['idcta/statusbar'], function(statusbar) { new statusbar.Statusbar({\"id\":\"idcta-statusbar\",\"publiclyCacheable\":true}); });</script><a class=\"js-notification-link animated three\" href=\"#\" id=\"notification-link\"><span class=\"hidden-span\">Notifications</span><div class=\"notification-link--triangle\"></div><div class=\"notification-link--triangle\"></div><span id=\"not-num\"></span></a></div><nav aria-label=\"BBC\" class=\"orb-nav\" role=\"navigation\"><div class=\"orb-nav-section orb-nav-links orb-nav-focus\" id=\"orb-nav-links\"><ul><li class=\"orb-nav-news\"><a href=\"http://www.bbc.co.uk/news\">News</a></li><li class=\"orb-nav-sport\"><a href=\"http://www.bbc.co.uk/sport\">Sport</a></li><li class=\"orb-nav-weather\"><a href=\"http://www.bbc.co.uk/weather\">Weather</a></li><li class=\"orb-nav-iplayer\"><a href=\"http://www.bbc.co.uk/iplayer\">iPlayer</a></li><li class=\"orb-nav-tv\"><a href=\"http://www.bbc.co.uk/tv\">TV</a></li><li class=\"orb-nav-radio\"><a href=\"http://www.bbc.co.uk/radio\">Radio</a></li><li class=\"orb-nav-cbbc\"><a href=\"http://www.bbc.co.uk/cbbc\">CBBC</a></li><li class=\"orb-nav-cbeebies\"><a href=\"http://www.bbc.co.uk/cbeebies\">CBeebies</a></li><li class=\"orb-nav-food\"><a href=\"http://www.bbc.co.uk/food\">Food</a></li><li class=\"orb-nav-iwonder\"><a href=\"http://www.bbc.co.uk/iwonder\">iWonder</a></li><li class=\"orb-nav-bitesize\"><a href=\"http://www.bbc.co.uk/education\">Bitesize</a></li><li class=\"orb-nav-travel\"><a href=\"http://www.bbc.co.uk/travel\">Travel</a></li><li class=\"orb-nav-music\"><a href=\"http://www.bbc.co.uk/music\">Music</a></li><li class=\"orb-nav-earth\"><a href=\"http://www.bbc.com/earth\">Earth</a></li><li class=\"orb-nav-arts\"><a href=\"http://www.bbc.co.uk/arts\">Arts</a></li><li class=\"orb-nav-digital\"><a href=\"http://www.bbc.co.uk/makeitdigital\">Make It Digital</a></li><li class=\"orb-nav-taster\"><a href=\"http://www.bbc.co.uk/taster\">Taster</a></li><li class=\"orb-nav-local\"><a href=\"http://www.bbc.co.uk/local\">Local</a></li><li aria-controls=\"orb-panel-more\" id=\"orb-nav-more\" style=\"width: 88px\"><a class=\"istats-notrack\" data-alt=\"More\" href=\"#orb-footer\">Menu<span class=\"orb-icon orb-icon-arrow\"></span></a></li></ul></div></nav><div class=\"orb-nav-section orb-nav-search\"><a class=\"orb-search__button\" href=\"http://search.bbc.co.uk/search\" title=\"Search the BBC\">Search</a><form accept-charset=\"utf-8\" action=\"//search.bbc.co.uk/search\" class=\"b-f\" id=\"orb-search-form\" method=\"get\" role=\"search\"><div><label for=\"orb-search-q\">Search the BBC</label><input autocapitalize=\"off\" autocomplete=\"off\" autocorrect=\"off\" id=\"orb-search-q\" name=\"q\" placeholder=\"Search\" spellcheck=\"false\" type=\"text\"/><button class=\"orb-search__button\" id=\"orb-search-button\">Search the BBC</button><input id=\"orb-search-suggid\" name=\"suggid\" type=\"hidden\"/></div></form></div></div><div id=\"orb-panels\"></div></div></header><!-- Styling hook for shared modules only -->\n",
       "<div id=\"orb-modules\">\n",
       "<!--searchbox--> <div class=\"se-app-wrapper\" id=\"se-app-wrapper\"> <div class=\"se-searchbox-app\" id=\"se-searchbox-app\"><div data-react-checksum=\"542653920\" data-reactid=\".putrw8bzeo\" tabindex=\"-1\"><div data-reactid=\".putrw8bzeo.0\"><section class=\"se-searchbox-panel\" data-reactid=\".putrw8bzeo.0.0\"><div class=\"se-g-wrap\" data-reactid=\".putrw8bzeo.0.0.0\"><div class=\"se-g-layout\" data-reactid=\".putrw8bzeo.0.0.0.0\"><div aria-hidden=\"true\" class=\"se-g-layout__item se-searchbox-title\" data-reactid=\".putrw8bzeo.0.0.0.0.0\">search</div><div class=\"se-g-layout__item se-searchbox\" data-reactid=\".putrw8bzeo.0.0.0.0.1\"><form accept-charset=\"utf-8\" action=\"/search\" data-reactid=\".putrw8bzeo.0.0.0.0.1.0\" id=\"searchboxDrawerForm\" method=\"get\"><label class=\"se-searchbox__input\" data-reactid=\".putrw8bzeo.0.0.0.0.1.0.0\" for=\"se-searchbox-input-field\"><span class=\"se-sr-only\" data-reactid=\".putrw8bzeo.0.0.0.0.1.0.0.0\">Search Term</span><input autocapitalize=\"off\" autocomplete=\"off\" autocorrect=\"off\" class=\"se-searchbox__input__field\" data-reactid=\".putrw8bzeo.0.0.0.0.1.0.0.1\" id=\"se-searchbox-input-field\" maxlength=\"512\" name=\"q\" spellcheck=\"false\" tabindex=\"1\" type=\"text\" value=\"\"/></label><input data-reactid=\".putrw8bzeo.0.0.0.0.1.0.1\" name=\"sa_f\" type=\"hidden\" value=\"search-product\"/><input data-reactid=\".putrw8bzeo.0.0.0.0.1.0.2\" name=\"scope\" type=\"hidden\" value=\"\"/><button class=\"se-searchbox__submit\" data-reactid=\".putrw8bzeo.0.0.0.0.1.0.3\" tabindex=\"2\" type=\"submit\">Search</button><button class=\"se-searchbox__clear\" data-reactid=\".putrw8bzeo.0.0.0.0.1.0.4\" disabled=\"\" tabindex=\"3\" type=\"button\">Close</button></form></div></div></div></section><div aria-atomic=\"true\" aria-live=\"polite\" class=\"se-suggestions-container\" data-reactid=\".putrw8bzeo.0.1\"><section class=\"se-g-wrap\" data-reactid=\".putrw8bzeo.0.1.0\"></section></div></div></div></div> </div>\n",
       "<section class=\"filters\">\n",
       "<div class=\"filters-content\">\n",
       "<a class=\"help\" href=\"/search/help\" id=\"help-link\">Help<span></span></a>\n",
       "<a class=\"sr-only skip-link\" href=\"#search-content\">Skip search filters</a>\n",
       "<header data-more-label=\"More Filters\" data-title=\"Filter\">\n",
       "<h3>Filter</h3>\n",
       "</header>\n",
       "<ol>\n",
       "<li class=\"selected\">\n",
       "<a class=\"filter-all\" href=\"/search?q=mario+draghi&amp;suggid=\">All</a> </li>\n",
       "<li><a class=\"filter-news\" href=\"/search?q=mario+draghi&amp;filter=news&amp;suggid=\">News</a></li>\n",
       "<li><a class=\"filter-programmes\" href=\"/search?q=mario+draghi&amp;filter=programmes&amp;suggid=\">Programmes</a></li>\n",
       "</ol>\n",
       "</div>\n",
       "</section>\n",
       "<section class=\"search-content\" data-search-term=\"mario draghi\" data-storage-prefix=\"bbc.search-pagecontent.\" data-submitted=\"true\" id=\"search-content\" tabindex=\"0\">\n",
       "<ol class=\"search-results results\" data-total-results=\"524\" start=\"1\">\n",
       "<li data-result-number=\"1\">\n",
       "<article class=\"has_image media-text\" itemscope=\"\">\n",
       "<aside class=\"flags top\">\n",
       "<dl>\n",
       "<dt>Published Date</dt>\n",
       "<dd>\n",
       "<time class=\"display-date\" datetime=\"2016-11-28T13:21:50Z\">\n",
       "           28 Nov 2016       </time>\n",
       "</dd>\n",
       "</dl>\n",
       "</aside>\n",
       "<a href=\"http://www.bbc.co.uk/news/live/uk-politics-parliaments-38132872\" id=\"search-result-0\">\n",
       "<picture>\n",
       "<img alt=\"\" class=\"\" src=\"http://ichef.bbci.co.uk/news/200/cpsprodpb/0347/production/_92693800_draghiap.jpg\" srcset=\"http://ichef.bbci.co.uk/news/200/cpsprodpb/0347/production/_92693800_draghiap.jpg\"/> </picture>\n",
       "</a>\n",
       "<aside class=\"flags mid\">\n",
       "<dl>\n",
       "<dt>Published Date</dt>\n",
       "<dd>\n",
       "<time class=\"display-date\" datetime=\"2016-11-28T13:21:50Z\">\n",
       "           28 Nov 2016       </time>\n",
       "</dd>\n",
       "</dl>\n",
       "</aside>\n",
       "<div>\n",
       "<h1 itemprop=\"headline\"><a href=\"http://www.bbc.co.uk/news/live/uk-politics-parliaments-38132872\">MEPs question Mario Draghi</a></h1>\n",
       "<p class=\"summary short\">…European Central Bank (ECB) chief <em>Mario</em> <em>Draghi</em> appeared before Economic Affairs…</p>\n",
       "<p class=\"summary medium\">…European Central Bank (ECB) chief <em>Mario</em> <em>Draghi</em> appeared before Economic Affairs…</p>\n",
       "<p class=\"summary long\">…European Central Bank (ECB) chief <em>Mario</em> <em>Draghi</em> appeared before Economic Affairs…</p>\n",
       "<footer>\n",
       "<dl class=\"flags btm\">\n",
       "<dt>Published Date</dt>\n",
       "<dd>\n",
       "<time class=\"display-date\" datetime=\"2016-11-28T13:21:50Z\">\n",
       "           28 Nov 2016       </time>\n",
       "</dd>\n",
       "</dl>\n",
       "<dl>\n",
       "<dt>Tags</dt>\n",
       "<dd><span class=\"signpost-site\" data-site=\"news\">News</span><span class=\"signpost-section\">Parliaments</span></dd>\n",
       "</dl>\n",
       "</footer>\n",
       "</div>\n",
       "<a class=\"rs_touch\" href=\"http://www.bbc.co.uk/news/live/uk-politics-parliaments-38132872\"></a>\n",
       "<span class=\"divide\"></span>\n",
       "</article>\n",
       "</li>\n",
       "<li data-result-number=\"2\">\n",
       "<article class=\"has_image media-text\" itemscope=\"\">\n",
       "<aside class=\"flags top\">\n",
       "<dl>\n",
       "<dt>Published Date</dt>\n",
       "<dd>\n",
       "<time class=\"display-date\" datetime=\"2017-01-04T11:02:51Z\">\n",
       "           4 Jan 2017       </time>\n",
       "</dd>\n",
       "</dl>\n",
       "</aside>\n",
       "<a href=\"http://www.bbc.co.uk/news/business-38507368\" id=\"search-result-1\">\n",
       "<picture>\n",
       "<img alt=\"\" class=\"\" src=\"http://ichef.bbci.co.uk/news/200/cpsprodpb/290D/production/_87990501_87990500.jpg\" srcset=\"http://ichef.bbci.co.uk/news/200/cpsprodpb/290D/production/_87990501_87990500.jpg\"/> </picture>\n",
       "</a>\n",
       "<aside class=\"flags mid\">\n",
       "<dl>\n",
       "<dt>Published Date</dt>\n",
       "<dd>\n",
       "<time class=\"display-date\" datetime=\"2017-01-04T11:02:51Z\">\n",
       "           4 Jan 2017       </time>\n",
       "</dd>\n",
       "</dl>\n",
       "</aside>\n",
       "<div>\n",
       "<h1 itemprop=\"headline\"><a href=\"http://www.bbc.co.uk/news/business-38507368\">Eurozone inflation surges to 1.1% in December</a></h1>\n",
       "<p class=\"summary short\">… inflation closer to the European Central Bank's target of just below 2%. ECB chief <em>Mario</em>…</p>\n",
       "<p class=\"summary medium\">… inflation closer to the European Central Bank's target of just below 2%. ECB chief <em>Mario</em>… <em>Draghi</em> has said he expects inflation to reach the target by 2018 or 2019. Last…</p>\n",
       "<p class=\"summary long\">… inflation closer to the European Central Bank's target of just below 2%. ECB chief <em>Mario</em>… <em>Draghi</em> has said he expects inflation to reach the target by 2018 or 2019. Last…</p>\n",
       "<footer>\n",
       "<dl class=\"flags btm\">\n",
       "<dt>Published Date</dt>\n",
       "<dd>\n",
       "<time class=\"display-date\" datetime=\"2017-01-04T11:02:51Z\">\n",
       "           4 Jan 2017       </time>\n",
       "</dd>\n",
       "</dl>\n",
       "<dl>\n",
       "<dt>Tags</dt>\n",
       "<dd><span class=\"signpost-site\" data-site=\"news\">News</span><span class=\"signpost-section\">Business</span></dd>\n",
       "</dl>\n",
       "</footer>\n",
       "</div>\n",
       "<a class=\"rs_touch\" href=\"http://www.bbc.co.uk/news/business-38507368\"></a>\n",
       "<span class=\"divide\"></span>\n",
       "</article>\n",
       "</li>\n",
       "<li data-result-number=\"3\">\n",
       "<article class=\"has_image media-text\" itemscope=\"\">\n",
       "<aside class=\"flags top\">\n",
       "<dl>\n",
       "<dt>Published Date</dt>\n",
       "<dd>\n",
       "<time class=\"display-date\" datetime=\"2016-06-21T12:37:12Z\">\n",
       "           21 Jun 2016       </time>\n",
       "</dd>\n",
       "</dl>\n",
       "</aside>\n",
       "<a href=\"http://www.bbc.co.uk/news/live/uk-politics-parliaments-36578271\" id=\"search-result-2\">\n",
       "<picture>\n",
       "<img alt=\"\" class=\"\" src=\"http://ichef.bbci.co.uk/news/200/cpsprodpb/16130/production/_86461409_epcommitteepic2.jpg\" srcset=\"http://ichef.bbci.co.uk/news/200/cpsprodpb/16130/production/_86461409_epcommitteepic2.jpg\"/> </picture>\n",
       "</a>\n",
       "<aside class=\"flags mid\">\n",
       "<dl>\n",
       "<dt>Published Date</dt>\n",
       "<dd>\n",
       "<time class=\"display-date\" datetime=\"2016-06-21T12:37:12Z\">\n",
       "           21 Jun 2016       </time>\n",
       "</dd>\n",
       "</dl>\n",
       "</aside>\n",
       "<div>\n",
       "<h1 itemprop=\"headline\"><a href=\"http://www.bbc.co.uk/news/live/uk-politics-parliaments-36578271\">Mario Draghi faces MEPs</a></h1>\n",
       "<p class=\"summary short\">…European Central Bank (ECB) chief <em>Mario</em> <em>Draghi</em> is appearing before MEPs…</p>\n",
       "<p class=\"summary medium\">…European Central Bank (ECB) chief <em>Mario</em> <em>Draghi</em> is appearing before MEPs…</p>\n",
       "<p class=\"summary long\">…European Central Bank (ECB) chief <em>Mario</em> <em>Draghi</em> is appearing before MEPs…</p>\n",
       "<footer>\n",
       "<dl class=\"flags btm\">\n",
       "<dt>Published Date</dt>\n",
       "<dd>\n",
       "<time class=\"display-date\" datetime=\"2016-06-21T12:37:12Z\">\n",
       "           21 Jun 2016       </time>\n",
       "</dd>\n",
       "</dl>\n",
       "<dl>\n",
       "<dt>Tags</dt>\n",
       "<dd><span class=\"signpost-site\" data-site=\"news\">News</span><span class=\"signpost-section\">Parliaments</span></dd>\n",
       "</dl>\n",
       "</footer>\n",
       "</div>\n",
       "<a class=\"rs_touch\" href=\"http://www.bbc.co.uk/news/live/uk-politics-parliaments-36578271\"></a>\n",
       "<span class=\"divide\"></span>\n",
       "</article>\n",
       "</li>\n",
       "<li data-result-number=\"4\">\n",
       "<article class=\"has_image media-text\" itemscope=\"\">\n",
       "<aside class=\"flags top\">\n",
       "<dl>\n",
       "<dt>Published Date</dt>\n",
       "<dd>\n",
       "<time class=\"display-date\" datetime=\"2016-04-21T13:29:04Z\">\n",
       "           21 Apr 2016       </time>\n",
       "</dd>\n",
       "</dl>\n",
       "</aside>\n",
       "<a href=\"http://www.bbc.co.uk/news/business-36100670\" id=\"search-result-3\">\n",
       "<picture>\n",
       "<img alt=\"\" class=\"\" src=\"http://ichef.bbci.co.uk/news/200/cpsprodpb/17738/production/_89365069_f9gscnjk.jpg\" srcset=\"http://ichef.bbci.co.uk/news/200/cpsprodpb/17738/production/_89365069_f9gscnjk.jpg\"/> </picture>\n",
       "</a>\n",
       "<aside class=\"flags mid\">\n",
       "<dl>\n",
       "<dt>Published Date</dt>\n",
       "<dd>\n",
       "<time class=\"display-date\" datetime=\"2016-04-21T13:29:04Z\">\n",
       "           21 Apr 2016       </time>\n",
       "</dd>\n",
       "</dl>\n",
       "</aside>\n",
       "<div>\n",
       "<h1 itemprop=\"headline\"><a href=\"http://www.bbc.co.uk/news/business-36100670\">Eurozone inflation could turn negative, Mario Draghi warns</a></h1>\n",
       "<p class=\"summary short\">… chief <em>Mario</em> <em>Draghi</em> has warned, as the bank kept interest rates unchanged. However…</p>\n",
       "<p class=\"summary medium\">… chief <em>Mario</em> <em>Draghi</em> has warned, as the bank kept interest rates unchanged. However…</p>\n",
       "<p class=\"summary long\">… chief <em>Mario</em> <em>Draghi</em> has warned, as the bank kept interest rates unchanged. However…</p>\n",
       "<footer>\n",
       "<dl class=\"flags btm\">\n",
       "<dt>Published Date</dt>\n",
       "<dd>\n",
       "<time class=\"display-date\" datetime=\"2016-04-21T13:29:04Z\">\n",
       "           21 Apr 2016       </time>\n",
       "</dd>\n",
       "</dl>\n",
       "<dl>\n",
       "<dt>Tags</dt>\n",
       "<dd><span class=\"signpost-site\" data-site=\"news\">News</span><span class=\"signpost-section\">Business</span></dd>\n",
       "</dl>\n",
       "</footer>\n",
       "</div>\n",
       "<a class=\"rs_touch\" href=\"http://www.bbc.co.uk/news/business-36100670\"></a>\n",
       "<span class=\"divide\"></span>\n",
       "</article>\n",
       "</li>\n",
       "<li data-result-number=\"5\">\n",
       "<article class=\"has_image media-text\" itemscope=\"\">\n",
       "<aside class=\"flags top\">\n",
       "<dl>\n",
       "<dt>Published Date</dt>\n",
       "<dd>\n",
       "<time class=\"display-date\" datetime=\"2016-02-15T16:03:29Z\">\n",
       "           15 Feb 2016       </time>\n",
       "</dd>\n",
       "</dl>\n",
       "</aside>\n",
       "<a href=\"http://www.bbc.co.uk/news/business-35580424\" id=\"search-result-4\">\n",
       "<picture>\n",
       "<img alt=\"\" class=\"\" src=\"http://c.files.bbci.co.uk/14E0E/production/_88281558_031473590-1.jpg\" srcset=\"http://c.files.bbci.co.uk/14E0E/production/_88281558_031473590-1.jpg\"/> </picture>\n",
       "</a>\n",
       "<aside class=\"flags mid\">\n",
       "<dl>\n",
       "<dt>Published Date</dt>\n",
       "<dd>\n",
       "<time class=\"display-date\" datetime=\"2016-02-15T16:03:29Z\">\n",
       "           15 Feb 2016       </time>\n",
       "</dd>\n",
       "</dl>\n",
       "</aside>\n",
       "<div>\n",
       "<h1 itemprop=\"headline\"><a href=\"http://www.bbc.co.uk/news/business-35580424\">Mario Draghi seeks to calm fears over European banks</a></h1>\n",
       "<p class=\"summary short\">…European Central Bank chief <em>Mario</em> <em>Draghi</em> has sought to calm fears about…</p>\n",
       "<p class=\"summary medium\">…European Central Bank chief <em>Mario</em> <em>Draghi</em> has sought to calm fears about…</p>\n",
       "<p class=\"summary long\">…European Central Bank chief <em>Mario</em> <em>Draghi</em> has sought to calm fears about…</p>\n",
       "<footer>\n",
       "<dl class=\"flags btm\">\n",
       "<dt>Published Date</dt>\n",
       "<dd>\n",
       "<time class=\"display-date\" datetime=\"2016-02-15T16:03:29Z\">\n",
       "           15 Feb 2016       </time>\n",
       "</dd>\n",
       "</dl>\n",
       "<dl>\n",
       "<dt>Tags</dt>\n",
       "<dd><span class=\"signpost-site\" data-site=\"news\">News</span><span class=\"signpost-section\">Business</span></dd>\n",
       "</dl>\n",
       "</footer>\n",
       "</div>\n",
       "<a class=\"rs_touch\" href=\"http://www.bbc.co.uk/news/business-35580424\"></a>\n",
       "<span class=\"divide\"></span>\n",
       "</article>\n",
       "</li>\n",
       "<li data-result-number=\"6\">\n",
       "<article class=\"has_image media-text\" itemscope=\"\">\n",
       "<aside class=\"flags top\">\n",
       "<dl>\n",
       "<dt>Published Date</dt>\n",
       "<dd>\n",
       "<time class=\"display-date\" datetime=\"2016-11-21T15:30:48Z\">\n",
       "           21 Nov 2016       </time>\n",
       "</dd>\n",
       "</dl>\n",
       "</aside>\n",
       "<a href=\"http://www.bbc.co.uk/news/live/uk-politics-parliaments-38052819\" id=\"search-result-5\">\n",
       "<picture>\n",
       "<img alt=\"\" class=\"\" src=\"http://ichef.bbci.co.uk/news/200/cpsprodpb/8691/production/_92594443_draghi2afpgetty.jpg\" srcset=\"http://ichef.bbci.co.uk/news/200/cpsprodpb/8691/production/_92594443_draghi2afpgetty.jpg\"/> </picture>\n",
       "</a>\n",
       "<aside class=\"flags mid\">\n",
       "<dl>\n",
       "<dt>Published Date</dt>\n",
       "<dd>\n",
       "<time class=\"display-date\" datetime=\"2016-11-21T15:30:48Z\">\n",
       "           21 Nov 2016       </time>\n",
       "</dd>\n",
       "</dl>\n",
       "</aside>\n",
       "<div>\n",
       "<h1 itemprop=\"headline\"><a href=\"http://www.bbc.co.uk/news/live/uk-politics-parliaments-38052819\">MEPs debate ECB monetary policy</a></h1>\n",
       "<p class=\"summary short\">… Central Bank chief <em>Mario</em> <em>Draghi</em> joined MEPs for debate on monetary policy. MEPs…</p>\n",
       "<p class=\"summary medium\">… Central Bank chief <em>Mario</em> <em>Draghi</em> joined MEPs for debate on monetary policy. MEPs…</p>\n",
       "<p class=\"summary long\">… Central Bank chief <em>Mario</em> <em>Draghi</em> joined MEPs for debate on monetary policy. MEPs…</p>\n",
       "<footer>\n",
       "<dl class=\"flags btm\">\n",
       "<dt>Published Date</dt>\n",
       "<dd>\n",
       "<time class=\"display-date\" datetime=\"2016-11-21T15:30:48Z\">\n",
       "           21 Nov 2016       </time>\n",
       "</dd>\n",
       "</dl>\n",
       "<dl>\n",
       "<dt>Tags</dt>\n",
       "<dd><span class=\"signpost-site\" data-site=\"news\">News</span><span class=\"signpost-section\">Parliaments</span></dd>\n",
       "</dl>\n",
       "</footer>\n",
       "</div>\n",
       "<a class=\"rs_touch\" href=\"http://www.bbc.co.uk/news/live/uk-politics-parliaments-38052819\"></a>\n",
       "<span class=\"divide\"></span>\n",
       "</article>\n",
       "</li>\n",
       "<li data-result-number=\"7\">\n",
       "<article class=\"has_image media-text\" itemscope=\"\">\n",
       "<aside class=\"flags top\">\n",
       "<dl>\n",
       "<dt>Published Date</dt>\n",
       "<dd>\n",
       "<time class=\"display-date\" datetime=\"2016-08-04T13:02:58Z\">\n",
       "           4 Aug 2016       </time>\n",
       "</dd>\n",
       "</dl>\n",
       "</aside>\n",
       "<a href=\"http://www.bbc.co.uk/news/business-35373365\" id=\"search-result-6\">\n",
       "<picture>\n",
       "<img alt=\"\" class=\"\" src=\"http://ichef.bbci.co.uk/news/200/cpsprodpb/91AC/production/_87829273_hb5k1obz.jpg\" srcset=\"http://ichef.bbci.co.uk/news/200/cpsprodpb/91AC/production/_87829273_hb5k1obz.jpg\"/> </picture>\n",
       "</a>\n",
       "<aside class=\"flags mid\">\n",
       "<dl>\n",
       "<dt>Published Date</dt>\n",
       "<dd>\n",
       "<time class=\"display-date\" datetime=\"2016-08-04T13:02:58Z\">\n",
       "           4 Aug 2016       </time>\n",
       "</dd>\n",
       "</dl>\n",
       "</aside>\n",
       "<div>\n",
       "<h1 itemprop=\"headline\"><a href=\"http://www.bbc.co.uk/news/business-35373365\">Mario Draghi hints at further ECB stimulus moves</a></h1>\n",
       "<p class=\"summary short\">…European Central Bank chief <em>Mario</em> <em>Draghi</em> has said the bank will \"review…</p>\n",
       "<p class=\"summary medium\">…European Central Bank chief <em>Mario</em> <em>Draghi</em> has said the bank will \"review…: Andrew Walker, economics correspondent, in Frankfurt <em>Mario</em> <em>Draghi</em> most definitely…</p>\n",
       "<p class=\"summary long\">…European Central Bank chief <em>Mario</em> <em>Draghi</em> has said the bank will \"review…: Andrew Walker, economics correspondent, in Frankfurt <em>Mario</em> <em>Draghi</em> most definitely…</p>\n",
       "<footer>\n",
       "<dl class=\"flags btm\">\n",
       "<dt>Published Date</dt>\n",
       "<dd>\n",
       "<time class=\"display-date\" datetime=\"2016-08-04T13:02:58Z\">\n",
       "           4 Aug 2016       </time>\n",
       "</dd>\n",
       "</dl>\n",
       "<dl>\n",
       "<dt>Tags</dt>\n",
       "<dd><span class=\"signpost-site\" data-site=\"news\">News</span><span class=\"signpost-section\">Business</span></dd>\n",
       "</dl>\n",
       "</footer>\n",
       "</div>\n",
       "<a class=\"rs_touch\" href=\"http://www.bbc.co.uk/news/business-35373365\"></a>\n",
       "<span class=\"divide\"></span>\n",
       "</article>\n",
       "</li>\n",
       "<li data-result-number=\"8\">\n",
       "<article class=\"has_image media-text\" itemscope=\"\">\n",
       "<aside class=\"flags top\">\n",
       "<dl>\n",
       "<dt>Published Date</dt>\n",
       "<dd>\n",
       "<time class=\"display-date\" datetime=\"2015-06-03T14:13:23Z\">\n",
       "           3 Jun 2015       </time>\n",
       "</dd>\n",
       "</dl>\n",
       "</aside>\n",
       "<a href=\"http://www.bbc.co.uk/news/business-32991915\" id=\"search-result-7\">\n",
       "<picture>\n",
       "<img alt=\"\" class=\"\" src=\"http://news.bbcimg.co.uk/media/images/83395000/jpg/_83395918_hi026594310.jpg\" srcset=\"http://news.bbcimg.co.uk/media/images/83395000/jpg/_83395918_hi026594310.jpg\"/> </picture>\n",
       "</a>\n",
       "<aside class=\"flags mid\">\n",
       "<dl>\n",
       "<dt>Published Date</dt>\n",
       "<dd>\n",
       "<time class=\"display-date\" datetime=\"2015-06-03T14:13:23Z\">\n",
       "           3 Jun 2015       </time>\n",
       "</dd>\n",
       "</dl>\n",
       "</aside>\n",
       "<div>\n",
       "<h1 itemprop=\"headline\"><a href=\"http://www.bbc.co.uk/news/business-32991915\">ECB's Mario Draghi says eurozone recovery to broaden</a></h1>\n",
       "<p class=\"summary short\">… to \"broaden\", as it raised its inflation projections for 2015. \n",
       "   ECB president <em>Mario</em>…</p>\n",
       "<p class=\"summary medium\">… to \"broaden\", as it raised its inflation projections for 2015. \n",
       "   ECB president <em>Mario</em>… <em>Draghi's</em> comments came after the bank left its key interest rate unchanged at 0.05…</p>\n",
       "<p class=\"summary long\">… to \"broaden\", as it raised its inflation projections for 2015. \n",
       "   ECB president <em>Mario</em>… <em>Draghi's</em> comments came after the bank left its key interest rate unchanged at 0.05…</p>\n",
       "<footer>\n",
       "<dl class=\"flags btm\">\n",
       "<dt>Published Date</dt>\n",
       "<dd>\n",
       "<time class=\"display-date\" datetime=\"2015-06-03T14:13:23Z\">\n",
       "           3 Jun 2015       </time>\n",
       "</dd>\n",
       "</dl>\n",
       "<dl>\n",
       "<dt>Tags</dt>\n",
       "<dd><span class=\"signpost-site\" data-site=\"news\">News</span><span class=\"signpost-section\">Business</span></dd>\n",
       "</dl>\n",
       "</footer>\n",
       "</div>\n",
       "<a class=\"rs_touch\" href=\"http://www.bbc.co.uk/news/business-32991915\"></a>\n",
       "<span class=\"divide\"></span>\n",
       "</article>\n",
       "</li>\n",
       "<li data-result-number=\"9\">\n",
       "<article class=\"has_image media-video\" itemscope=\"\">\n",
       "<aside class=\"flags top\">\n",
       "<dl>\n",
       "<dt>Published Date</dt>\n",
       "<dd>\n",
       "<time class=\"display-date\" datetime=\"2015-01-22T13:44:13Z\">\n",
       "           22 Jan 2015       </time>\n",
       "</dd>\n",
       "</dl>\n",
       "</aside>\n",
       "<a href=\"http://www.bbc.co.uk/news/business-30930655\" id=\"search-result-8\">\n",
       "<picture>\n",
       "<img alt=\"\" class=\"\" src=\"http://news.bbcimg.co.uk/media/images/80448000/jpg/_80448864_live.jpg\" srcset=\"http://news.bbcimg.co.uk/media/images/80448000/jpg/_80448864_live.jpg\"/> </picture>\n",
       "</a>\n",
       "<aside class=\"flags mid\">\n",
       "<dl>\n",
       "<dt>Published Date</dt>\n",
       "<dd>\n",
       "<time class=\"display-date\" datetime=\"2015-01-22T13:44:13Z\">\n",
       "           22 Jan 2015       </time>\n",
       "</dd>\n",
       "</dl>\n",
       "</aside>\n",
       "<div>\n",
       "<h1 itemprop=\"headline\"><a href=\"http://www.bbc.co.uk/news/business-30930655\">European Central Bank's Mario Draghi news conference</a></h1>\n",
       "<p class=\"summary short\">…European Central Bank (ECB) president <em>Mario</em> <em>Draghi</em> is expected to announce…</p>\n",
       "<p class=\"summary medium\">…European Central Bank (ECB) president <em>Mario</em> <em>Draghi</em> is expected to announce…</p>\n",
       "<p class=\"summary long\">…European Central Bank (ECB) president <em>Mario</em> <em>Draghi</em> is expected to announce…</p>\n",
       "<footer>\n",
       "<dl class=\"flags btm\">\n",
       "<dt>Published Date</dt>\n",
       "<dd>\n",
       "<time class=\"display-date\" datetime=\"2015-01-22T13:44:13Z\">\n",
       "           22 Jan 2015       </time>\n",
       "</dd>\n",
       "</dl>\n",
       "<dl>\n",
       "<dt>Tags</dt>\n",
       "<dd><span class=\"signpost-site\" data-site=\"news\">News</span></dd>\n",
       "</dl>\n",
       "</footer>\n",
       "</div>\n",
       "<a class=\"rs_touch\" href=\"http://www.bbc.co.uk/news/business-30930655\"></a>\n",
       "<span class=\"divide\"></span>\n",
       "</article>\n",
       "</li>\n",
       "<li data-result-number=\"10\">\n",
       "<article class=\"has_image media-text\" itemscope=\"\">\n",
       "<aside class=\"flags top\">\n",
       "<dl>\n",
       "<dt>Published Date</dt>\n",
       "<dd>\n",
       "<time class=\"display-date\" datetime=\"2016-12-08T15:45:16Z\">\n",
       "           8 Dec 2016       </time>\n",
       "</dd>\n",
       "</dl>\n",
       "</aside>\n",
       "<a href=\"http://www.bbc.co.uk/news/business-38252116\" id=\"search-result-9\">\n",
       "<picture>\n",
       "<img alt=\"\" class=\"\" src=\"http://ichef.bbci.co.uk/news/200/cpsprodpb/C6BE/production/_92887805_gettyimages-578250582.jpg\" srcset=\"http://ichef.bbci.co.uk/news/200/cpsprodpb/C6BE/production/_92887805_gettyimages-578250582.jpg\"/> </picture>\n",
       "</a>\n",
       "<aside class=\"flags mid\">\n",
       "<dl>\n",
       "<dt>Published Date</dt>\n",
       "<dd>\n",
       "<time class=\"display-date\" datetime=\"2016-12-08T15:45:16Z\">\n",
       "           8 Dec 2016       </time>\n",
       "</dd>\n",
       "</dl>\n",
       "</aside>\n",
       "<div>\n",
       "<h1 itemprop=\"headline\"><a href=\"http://www.bbc.co.uk/news/business-38252116\">ECB extends bond-buying scheme but at slower pace</a></h1>\n",
       "<p class=\"summary short\">… favourable\", it would expand the size or length of its bond-buying programme. <em>Mario</em>…</p>\n",
       "<p class=\"summary medium\">… favourable\", it would expand the size or length of its bond-buying programme. <em>Mario</em>… <em>Draghi</em>, the bank's president, told a press conference in Frankfurt that \"tapering has…</p>\n",
       "<p class=\"summary long\">… favourable\", it would expand the size or length of its bond-buying programme. <em>Mario</em>… <em>Draghi</em>, the bank's president, told a press conference in Frankfurt that \"tapering has…</p>\n",
       "<footer>\n",
       "<dl class=\"flags btm\">\n",
       "<dt>Published Date</dt>\n",
       "<dd>\n",
       "<time class=\"display-date\" datetime=\"2016-12-08T15:45:16Z\">\n",
       "           8 Dec 2016       </time>\n",
       "</dd>\n",
       "</dl>\n",
       "<dl>\n",
       "<dt>Tags</dt>\n",
       "<dd><span class=\"signpost-site\" data-site=\"news\">News</span><span class=\"signpost-section\">Business</span></dd>\n",
       "</dl>\n",
       "</footer>\n",
       "</div>\n",
       "<a class=\"rs_touch\" href=\"http://www.bbc.co.uk/news/business-38252116\"></a>\n",
       "<span class=\"divide\"></span>\n",
       "</article>\n",
       "</li>\n",
       "</ol>\n",
       "<nav class=\"pagination\" data-error-label=\"Error fetching results. Try again.\" data-more-label=\"Show more results\" data-page=\"1\" data-pagination-url=\"/search/more\">\n",
       "<noscript>\n",
       "<a class=\"next\" href=\"/search?q=mario+draghi&amp;page=2\">Next</a> </noscript>\n",
       "</nav>\n",
       "<nav class=\"toplink\"> <a class=\"search-top\" href=\"#orb-header\">Top</a> </nav> </section> <div class=\"bar btm\"> <a class=\"help btm\" href=\"/search/help\">Help<span></span></a> </div> </div>\n",
       "<div class=\"orb-footer\" id=\"orb-footer\"><div id=\"navp-orb-footer-promo\"></div><aside role=\"complementary\"><div class=\"orb-nav-sec b-r b-g-p\" id=\"orb-aside\"><div aria-label=\"BBC\" class=\"orb-footer-inner\" role=\"navigation\"><h2 class=\"orb-footer-lead\">Explore the BBC</h2><div class=\"orb-footer-primary-links\"><ul><li class=\"orb-nav-news\"><a href=\"http://www.bbc.co.uk/news\">News</a></li><li class=\"orb-nav-sport\"><a href=\"http://www.bbc.co.uk/sport\">Sport</a></li><li class=\"orb-nav-weather\"><a href=\"http://www.bbc.co.uk/weather\">Weather</a></li><li class=\"orb-nav-iplayer\"><a href=\"http://www.bbc.co.uk/iplayer\">iPlayer</a></li><li class=\"orb-nav-tv\"><a href=\"http://www.bbc.co.uk/tv\">TV</a></li><li class=\"orb-nav-radio\"><a href=\"http://www.bbc.co.uk/radio\">Radio</a></li><li class=\"orb-nav-cbbc\"><a href=\"http://www.bbc.co.uk/cbbc\">CBBC</a></li><li class=\"orb-nav-cbeebies\"><a href=\"http://www.bbc.co.uk/cbeebies\">CBeebies</a></li><li class=\"orb-nav-food\"><a href=\"http://www.bbc.co.uk/food\">Food</a></li><li class=\"orb-nav-iwonder\"><a href=\"http://www.bbc.co.uk/iwonder\">iWonder</a></li><li class=\"orb-nav-bitesize\"><a href=\"http://www.bbc.co.uk/education\">Bitesize</a></li><li class=\"orb-nav-travel\"><a href=\"http://www.bbc.co.uk/travel\">Travel</a></li><li class=\"orb-nav-music\"><a href=\"http://www.bbc.co.uk/music\">Music</a></li><li class=\"orb-nav-earth\"><a href=\"http://www.bbc.com/earth\">Earth</a></li><li class=\"orb-nav-arts\"><a href=\"http://www.bbc.co.uk/arts\">Arts</a></li><li class=\"orb-nav-digital\"><a href=\"http://www.bbc.co.uk/makeitdigital\">Make It Digital</a></li><li class=\"orb-nav-taster\"><a href=\"http://www.bbc.co.uk/taster\">Taster</a></li><li class=\"orb-nav-local\"><a href=\"http://www.bbc.co.uk/local\">Local</a></li></ul></div></div></div></aside><footer role=\"contentinfo\"><div class=\"orb-nav-sec b-r b-g-p\" id=\"orb-contentinfo\"><script>window.orb.worldwideFooterlinks = '<li class=\"orb-footer-ads\"><a href=\"https://advertising.bbcworldwide.com/\">Advertise with us<'+'/a><'+'/li><li class=\"orb-footer-adchoices\"><a href=\"http://www.bbc.com/usingthebbc/cookies/what-is-online-behavioural-advertising/\">Ad choices<'+'/a><'+'/li>';</script><div class=\"orb-footer-inner\"><ul><li class=\"orb-footer-terms\"><a href=\"http://www.bbc.co.uk/usingthebbc/terms/\">Terms of Use</a></li><li class=\"orb-footer-about\"><a href=\"http://www.bbc.co.uk/aboutthebbc\">About the BBC</a></li><li class=\"orb-footer-privacy\"><a href=\"http://www.bbc.co.uk/usingthebbc/privacy/\">Privacy Policy</a></li><li class=\"orb-footer-cookies\"><a href=\"http://www.bbc.co.uk/usingthebbc/cookies/\">Cookies</a></li><li class=\"orb-footer-accessibility\"><a href=\"http://www.bbc.co.uk/accessibility/\">Accessibility Help</a></li><li class=\"orb-footer-parental\"><a href=\"http://www.bbc.co.uk/guidance\">Parental Guidance</a></li><li class=\"orb-footer-contact\"><a href=\"http://www.bbc.co.uk/contact\">Contact the BBC</a></li></ul><small><em class=\"orb-hilight\">Copyright © 2017 BBC.</em> The BBC is not responsible for the content of external sites. <span class=\"orb-footer-links\"><a class=\"orb-hilight\" href=\"http://www.bbc.co.uk/help/web/links/\">Read about our approach to external linking.</a></span></small></div></div></footer></div><script data-assetpath=\"//nav.files.bbci.co.uk/orbit/1.0.0-346.93a6467/\" id=\"orb-js-script\" src=\"//nav.files.bbci.co.uk/orbit/1.0.0-346.93a6467/js/orb.min.js\"></script><script type=\"text/javascript\">require(['orb/cookies'], function(bbccookies) {\n",
       "        var disabledByCookie = (parseInt(bbccookies.get('ckns_nav_promofail')) || 0) >= 3;\n",
       "        if (!disabledByCookie) {\n",
       "            require(['orb/fig'], function(orbFig) {\n",
       "                orbFig.load(function(fig) {\n",
       "                    if (fig.geo.isUK()) {\n",
       "                        require(['orb/async/_footerpromo'], function(promo) {\n",
       "                            promo.init('//navpromo.api.bbci.co.uk', '')\n",
       "                        })\n",
       "                    }\n",
       "                });\n",
       "            });\n",
       "        }\n",
       "    });</script><script type=\"text/javascript\">/*<![CDATA[*/\n",
       "        require(['orb/fig', 'orb/nav'], function(fig, nav) {\n",
       "            fig.load(function(fig) {\n",
       "                if (fig.geo.isUK()) {\n",
       "                    nav.loadJs('//nav.files.bbci.co.uk/orbit/1.0.0-346.93a6467/js/edr.min.js');\n",
       "                }\n",
       "            });\n",
       "        });\n",
       "    /*]]>*/</script><script type=\"text/javascript\">require([\"istats-1\",\"orb/cookies\"],function(t,o){if(o.isAllowed(\"s1\"))try{if(!require.s.contexts._.config.paths.idcta)return void t.invoke();require([\"idcta/idcta-1\"],function(o){o&&\"function\"==typeof o.getIStatsLabels&&t.addLabels(o.getIStatsLabels()),t.invoke()},function(t){throw t})}catch(o){console&&\"function\"==typeof console.log&&console.log(\"an exception occurred while adding idcta labels to istats, invoking istats without them\",o),t.invoke()}});</script><script type=\"text/javascript\">require.config({\n",
       "            paths: {\n",
       "                \"mybbc/templates\": '//mybbc.files.bbci.co.uk/notification-ui/2.6.10-mvt/templates',\n",
       "                \"mybbc/notifications\": '//mybbc.files.bbci.co.uk/notification-ui/2.6.10-mvt/js'\n",
       "            }\n",
       "        });\n",
       "\n",
       "        require(['mybbc/notifications/NotificationsMain', 'idcta/idcta-1'], function (NotificationsMain, idcta) {\n",
       "            var loadNotifications = function (fig) {\n",
       "                if (fig.geo.isUK()) {\n",
       "                    NotificationsMain.run(idcta, '//mybbc.files.bbci.co.uk/notification-ui/2.6.10-mvt/');\n",
       "                }\n",
       "            };\n",
       "            var orbFig = window.orb.fig;\n",
       "            if (typeof orbFig.load === 'function') {\n",
       "                // Use new async API from Orbit\n",
       "                orbFig.load(loadNotifications, loadNotifications);\n",
       "            } else {\n",
       "                // Use old sync-only API from PAL orbfig project\n",
       "                loadNotifications(orbFig);\n",
       "            }\n",
       "        });</script><script type=\"text/javascript\">if( window.SEARCHBOX.suppress === false && window.SEARCHBOX.locale && /^en-?.*?/.test(window.SEARCHBOX.locale) ){\n",
       "   require.config({\n",
       "     paths: {\n",
       "       \"search/searchbox\": window.SEARCHBOX.searchboxAppStaticPrefix\n",
       "     }\n",
       "   });\n",
       "\n",
       "   require(['search/searchbox/searchboxDrawer'], function(SearchboxDrawer) {\n",
       "     SearchboxDrawer.run(window.SEARCHBOX);\n",
       "   });\n",
       " }</script><!-- BBCDOTCOM bodyLast --><div class=\"bbccom_display_none\"><script type=\"text/javascript\">/*<![CDATA[*/ if (window.bbcdotcom && window.bbcdotcom.analytics) { bbcdotcom.analytics.page(); } /*]]>*/</script><noscript><img alt=\"\" height=\"1\" src=\"//ssc.api.bbc.com/?c1=2&amp;c2=19293874&amp;ns_site=bbc&amp;name=\" width=\"1\"/></noscript><script type=\"text/javascript\">/*<![CDATA[*/ if (window.bbcdotcom && bbcdotcom.currencyProviders) { bbcdotcom.currencyProviders.write(); } /*]]>*/</script><script type=\"text/javascript\">/*<![CDATA[*/ if (window.bbcdotcom && bbcdotcom.currencyProviders) { bbcdotcom.currencyProviders.postWrite(); } /*]]>*/</script><script type=\"text/javascript\">/*<![CDATA[*/ if (window.bbcdotcom && bbcdotcom.data && bbcdotcom.data.stats && bbcdotcom.data.stats === 1 && bbcdotcom.utils && window.location.pathname === '/' && window.bbccookies && bbccookies.readPolicy('performance') ) { var wwhpEdition = bbcdotcom.utils.getMetaPropertyContent('wwhp-edition'); var _sf_async_config={}; /** CONFIGURATION START **/ _sf_async_config.uid = 50924; _sf_async_config.domain = \"bbc.co.uk\"; _sf_async_config.title = \"Homepage\"+(wwhpEdition !== '' ? ' - '+wwhpEdition : ''); _sf_async_config.sections = \"Homepage\"+(wwhpEdition !== '' ? ', Homepage - '+wwhpEdition : ''); _sf_async_config.region = wwhpEdition; _sf_async_config.path = \"/\"+(wwhpEdition !== '' ? '?'+wwhpEdition : ''); /** CONFIGURATION END **/ (function(){ function loadChartbeat() { window._sf_endpt=(new Date()).getTime(); var e = document.createElement(\"script\"); e.setAttribute(\"language\", \"javascript\"); e.setAttribute(\"type\", \"text/javascript\"); e.setAttribute('src', '//static.chartbeat.com/js/chartbeat.js'); document.body.appendChild(e); } var oldonload = window.onload; window.onload = (typeof window.onload != \"function\") ? loadChartbeat : function() { oldonload(); loadChartbeat(); }; })(); } /*]]>*/</script></div><!-- BBCDOTCOM all code in page --> <script type=\"text/javascript\"> if (('ontouchstart' in window) || (navigator.maxTouchPoints > 0) || (navigator.msMaxTouchPoints > 0) || (window.DocumentTouch && document instanceof DocumentTouch)) { var body = document.getElementsByTagName('body')[0].className = 'touch'; } </script> <script src=\"http://static.bbci.co.uk/search/5.1.26/script/search.js\" type=\"text/javascript\"></script> </body> </html> "
      ]
     },
     "execution_count": 278,
     "metadata": {},
     "output_type": "execute_result"
    }
   ],
   "source": [
    "soup"
   ]
  },
  {
   "cell_type": "markdown",
   "metadata": {},
   "source": [
    "#### Try methods for syndicate"
   ]
  },
  {
   "cell_type": "code",
   "execution_count": null,
   "metadata": {
    "collapsed": true
   },
   "outputs": [],
   "source": []
  },
  {
   "cell_type": "code",
   "execution_count": 192,
   "metadata": {
    "collapsed": false
   },
   "outputs": [],
   "source": [
    "search_url = 'https://www.project-syndicate.org/search?query=mario%20draghi&language=english&sortBy=publishedon&sortOrder=desc'\n",
    "base_url = 'https://www.project-syndicate.org'"
   ]
  },
  {
   "cell_type": "code",
   "execution_count": 177,
   "metadata": {
    "collapsed": true
   },
   "outputs": [],
   "source": [
    "r = requests.get(search_url)\n",
    "soup = BeautifulSoup(r.text, 'lxml')\n",
    "article_links = soup.find_all(\"section\", {\"class\":\"small-12 medium-12 large-7 columns search-results listing authors\"})[0].find_all('article', {\"class\":\"section economics \"})"
   ]
  },
  {
   "cell_type": "code",
   "execution_count": 203,
   "metadata": {
    "collapsed": false
   },
   "outputs": [],
   "source": [
    "def NewspaperParse(url):\n",
    "    article = Article(url)   \n",
    "    article.download()\n",
    "    article.parse()\n",
    "    r_datetime = article.publish_date\n",
    "    dt = datetime.strftime(r_datetime, '%Y-%m-%d %H:%M:%S')\n",
    "    raw_text = article.text\n",
    "    author = article.authors[0]\n",
    "    \n",
    "    return dt, raw_text, author \n",
    "\n",
    "def PS_parse(base_url, article_links):\n",
    "    ps_dic = {}\n",
    "    for link in article_links:\n",
    "        ext = link.find(\"h2\").find('a')['href']\n",
    "        url = base_url + ext\n",
    "        dt, raw_text, author = NewspaperParse(url)\n",
    "        ps_dic[dt] = (author, raw_text)\n",
    "    return ps_dic\n",
    "\n",
    "ps_dic = PS_parse(base_url, article_links)"
   ]
  },
  {
   "cell_type": "code",
   "execution_count": 310,
   "metadata": {
    "collapsed": true
   },
   "outputs": [],
   "source": [
    "with open('ps.json', 'w') as fp:\n",
    "    json.dump(ps_dic, fp)"
   ]
  },
  {
   "cell_type": "markdown",
   "metadata": {},
   "source": [
    "### BBC News"
   ]
  },
  {
   "cell_type": "code",
   "execution_count": 231,
   "metadata": {
    "collapsed": false
   },
   "outputs": [
    {
     "data": {
      "text/plain": [
       "'/news/business-38507368'"
      ]
     },
     "execution_count": 231,
     "metadata": {},
     "output_type": "execute_result"
    }
   ],
   "source": [
    "search_url = 'http://www.bbc.com/news/business'\n",
    "base_url ='http://www.bbc.com'\n",
    "\n",
    "r = requests.get(search_url)\n",
    "soup = BeautifulSoup(r.text, 'lxml')\n",
    "\n",
    "title_ext = soup.find('div',{\"class\":\"column--primary\"}).find('a', {\"class\":\"title-link\"})['href']\n"
   ]
  },
  {
   "cell_type": "code",
   "execution_count": 237,
   "metadata": {
    "collapsed": false
   },
   "outputs": [],
   "source": [
    "# soup.find_all('div', {\"class\":\"pigeon\"})"
   ]
  },
  {
   "cell_type": "code",
   "execution_count": 270,
   "metadata": {
    "collapsed": false
   },
   "outputs": [
    {
     "name": "stdout",
     "output_type": "stream",
     "text": [
      "http://www.bbc.co.uk/search?q=mario+draghi#page=1\n",
      "200\n",
      "http://www.bbc.co.uk/search?q=mario+draghi#page=2\n",
      "200\n",
      "http://www.bbc.co.uk/search?q=mario+draghi#page=3\n",
      "200\n",
      "http://www.bbc.co.uk/search?q=mario+draghi#page=4\n",
      "200\n",
      "http://www.bbc.co.uk/search?q=mario+draghi#page=5\n",
      "200\n",
      "http://www.bbc.co.uk/search?q=mario+draghi#page=6\n",
      "200\n",
      "http://www.bbc.co.uk/search?q=mario+draghi#page=7\n",
      "200\n",
      "http://www.bbc.co.uk/search?q=mario+draghi#page=8\n",
      "200\n",
      "http://www.bbc.co.uk/search?q=mario+draghi#page=9\n",
      "200\n",
      "http://www.bbc.co.uk/search?q=mario+draghi#page=10\n",
      "200\n",
      "http://www.bbc.co.uk/search?q=mario+draghi#page=11\n",
      "200\n",
      "http://www.bbc.co.uk/search?q=mario+draghi#page=12\n",
      "200\n",
      "http://www.bbc.co.uk/search?q=mario+draghi#page=13\n",
      "200\n",
      "http://www.bbc.co.uk/search?q=mario+draghi#page=14\n",
      "200\n",
      "http://www.bbc.co.uk/search?q=mario+draghi#page=15\n",
      "200\n",
      "http://www.bbc.co.uk/search?q=mario+draghi#page=16\n",
      "200\n",
      "http://www.bbc.co.uk/search?q=mario+draghi#page=17\n",
      "200\n",
      "http://www.bbc.co.uk/search?q=mario+draghi#page=18\n",
      "200\n",
      "http://www.bbc.co.uk/search?q=mario+draghi#page=19\n",
      "200\n"
     ]
    }
   ],
   "source": [
    "# search_url = 'http://www.bbc.co.uk/search?q=mario+draghi#page=20'\n",
    "result_list = []\n",
    "for i in range(1,20):\n",
    "    search_url = 'http://www.bbc.co.uk/search?q=mario+draghi#page={}'.format(str(i))\n",
    "    print(search_url)\n",
    "    r = requests.get(search_url)\n",
    "    print(r.status_code)\n",
    "    soup = BeautifulSoup(r.text, 'lxml')\n",
    "    results = soup.find_all(\"ol\", {\"class\":\"search-results results\"})\n",
    "    r_links = [[result['href'] for result in rs.find_all('a')] for rs in results]\n",
    "    result_list.extend(r_links)"
   ]
  },
  {
   "cell_type": "code",
   "execution_count": 274,
   "metadata": {
    "collapsed": false
   },
   "outputs": [
    {
     "data": {
      "text/plain": [
       "['http://www.bbc.co.uk/news/live/uk-politics-parliaments-38132872',\n",
       " 'http://www.bbc.co.uk/news/live/uk-politics-parliaments-38132872',\n",
       " 'http://www.bbc.co.uk/news/live/uk-politics-parliaments-38132872',\n",
       " 'http://www.bbc.co.uk/news/business-38507368',\n",
       " 'http://www.bbc.co.uk/news/business-38507368',\n",
       " 'http://www.bbc.co.uk/news/business-38507368',\n",
       " 'http://www.bbc.co.uk/news/live/uk-politics-parliaments-36578271',\n",
       " 'http://www.bbc.co.uk/news/live/uk-politics-parliaments-36578271',\n",
       " 'http://www.bbc.co.uk/news/live/uk-politics-parliaments-36578271',\n",
       " 'http://www.bbc.co.uk/news/business-36100670',\n",
       " 'http://www.bbc.co.uk/news/business-36100670',\n",
       " 'http://www.bbc.co.uk/news/business-36100670',\n",
       " 'http://www.bbc.co.uk/news/business-35580424',\n",
       " 'http://www.bbc.co.uk/news/business-35580424',\n",
       " 'http://www.bbc.co.uk/news/business-35580424',\n",
       " 'http://www.bbc.co.uk/news/live/uk-politics-parliaments-38052819',\n",
       " 'http://www.bbc.co.uk/news/live/uk-politics-parliaments-38052819',\n",
       " 'http://www.bbc.co.uk/news/live/uk-politics-parliaments-38052819',\n",
       " 'http://www.bbc.co.uk/news/business-35373365',\n",
       " 'http://www.bbc.co.uk/news/business-35373365',\n",
       " 'http://www.bbc.co.uk/news/business-35373365',\n",
       " 'http://www.bbc.co.uk/news/business-32991915',\n",
       " 'http://www.bbc.co.uk/news/business-32991915',\n",
       " 'http://www.bbc.co.uk/news/business-32991915',\n",
       " 'http://www.bbc.co.uk/news/business-30930655',\n",
       " 'http://www.bbc.co.uk/news/business-30930655',\n",
       " 'http://www.bbc.co.uk/news/business-30930655',\n",
       " 'http://www.bbc.co.uk/news/business-38252116',\n",
       " 'http://www.bbc.co.uk/news/business-38252116',\n",
       " 'http://www.bbc.co.uk/news/business-38252116']"
      ]
     },
     "execution_count": 274,
     "metadata": {},
     "output_type": "execute_result"
    }
   ],
   "source": [
    "result_list[0]"
   ]
  },
  {
   "cell_type": "markdown",
   "metadata": {},
   "source": [
    "#### SELENIUM, return later"
   ]
  },
  {
   "cell_type": "code",
   "execution_count": 228,
   "metadata": {
    "collapsed": false
   },
   "outputs": [
    {
     "ename": "ImportError",
     "evalue": "No module named 'selenium.remote'",
     "output_type": "error",
     "traceback": [
      "\u001b[0;31m---------------------------------------------------------------------------\u001b[0m",
      "\u001b[0;31mImportError\u001b[0m                               Traceback (most recent call last)",
      "\u001b[0;32m<ipython-input-228-af261362dd9c>\u001b[0m in \u001b[0;36m<module>\u001b[0;34m()\u001b[0m\n\u001b[0;32m----> 1\u001b[0;31m \u001b[0;32mfrom\u001b[0m \u001b[0mselenium\u001b[0m\u001b[0;34m.\u001b[0m\u001b[0mremote\u001b[0m\u001b[0;34m.\u001b[0m\u001b[0mwebdriver\u001b[0m \u001b[0;32mimport\u001b[0m \u001b[0mWebDriver\u001b[0m\u001b[0;34m\u001b[0m\u001b[0m\n\u001b[0m",
      "\u001b[0;31mImportError\u001b[0m: No module named 'selenium.remote'"
     ]
    }
   ],
   "source": [
    "from selenium.remote.webdriver import WebDriver"
   ]
  },
  {
   "cell_type": "code",
   "execution_count": 206,
   "metadata": {
    "collapsed": true
   },
   "outputs": [],
   "source": [
    "from selenium.webdriver.common.keys import Keys"
   ]
  },
  {
   "cell_type": "code",
   "execution_count": 225,
   "metadata": {
    "collapsed": false
   },
   "outputs": [],
   "source": [
    "import time\n",
    "import selenium.webdriver.chrome.service as service\n",
    "driver = webdriver.Chrome('/usr/local/chromedriver')"
   ]
  },
  {
   "cell_type": "code",
   "execution_count": 226,
   "metadata": {
    "collapsed": false
   },
   "outputs": [],
   "source": [
    "driver.get('https://www.google.co.uk/')"
   ]
  },
  {
   "cell_type": "code",
   "execution_count": 227,
   "metadata": {
    "collapsed": false
   },
   "outputs": [],
   "source": [
    "time.sleep(5)\n",
    "search_box = driver.find_element_by_name('q')\n",
    "search_box.send_keys('ChromeDriver')\n",
    "search_box.submit()\n",
    "time.sleep(5) # Let the user actually see something!\n",
    "driver.quit()"
   ]
  },
  {
   "cell_type": "markdown",
   "metadata": {},
   "source": [
    "### Gaurdian\n"
   ]
  },
  {
   "cell_type": "code",
   "execution_count": 293,
   "metadata": {
    "collapsed": false
   },
   "outputs": [],
   "source": [
    "import json\n",
    "\n",
    "with open('guardianresults.json') as data_file:    \n",
    "    guardian_results = json.load(data_file)"
   ]
  },
  {
   "cell_type": "code",
   "execution_count": 303,
   "metadata": {
    "collapsed": false
   },
   "outputs": [],
   "source": [
    "guardian_dic = {}\n",
    "\n",
    "for result in guardian_results['response']['results']:\n",
    "    if result['type'] == 'article':\n",
    "        url = result['webUrl']\n",
    "        \n",
    "        article = Article(url)\n",
    "        article.download()\n",
    "        article.parse()\n",
    "        raw_text = article.text\n",
    "        author = article.authors\n",
    "        r_datetime = article.publish_date\n",
    "        d = datetime.strftime(r_datetime, '%Y-%m-%d')\n",
    "        t = datetime.strftime(r_datetime, '%H:%M:%S')\n",
    "        if d in guardian_dic:\n",
    "            guardian_dic[d].extend([(author, t, raw_text)])\n",
    "        else:\n",
    "            guardian_dic[d] = [(author, t, raw_text)]\n",
    "        "
   ]
  },
  {
   "cell_type": "code",
   "execution_count": 307,
   "metadata": {
    "collapsed": false
   },
   "outputs": [
    {
     "data": {
      "text/plain": [
       "[(['Steve Boxer'],\n",
       "  '00:00:00',\n",
       "  'We can assume that David Cameron is a bit of a gamer, having been busted obsessively playing Fruit Ninja and Angry Birds in the past. So there is an outside chance that, finally, he might soften his government’s harsh, grudging response to the Syrian refugee crisis. Because one of the gaming world’s most famous characters – the moustachioed plumber Mario – has been co-opted into highlighting the plight of those attempting to flee from the Scylla and Charybdis of Isis and Bashar al-Assad.\\n\\nA Syrian artist, pseudonymously known as Samir al-Mutfi, has created Syrian Super Mario, a satirical video that is currently going viral, highlighting the horrors faced by Syrian refugees – by tweaking the 1985 video game Super Mario Bros. Mario has taken many forms over the decades, but this time he has become Refugee Mario. And instead of making his way to Bowser’s castle in order to rescue Princess Peach, he merely has to get to the castle, which now bears the forbidding legend: “Camp”.\\n\\nAlong the way, many perils (all rendered in the familiar Super Mario Bros style, with sound effects to match) await. Grabbing his suitcase and emptying his savings account by bashing a money-block with his head, Refugee Mario hands his funds to traffickers, undergoes a perilous Mediterranean crossing (thank goodness he has multiple lives), evades border-patrolling soldiers eager to lock him up and finally reaches the dubious sanctuary of a refugee camp.\\n\\nFacebook Twitter Pinterest The Syrian Super Mario video on YouTube\\n\\nSpeaking to the BBC, Mutfi – who himself fled Homs for Istanbul in 2011 – said: “Five months ago, my best friend drowned in the sea while travelling from Turkey to Greece: the engine on the boat exploded. That’s when I got the idea for the video. It needed to be a simple and clear idea that would work irrespective of language. I used Super Mario because it’s famous all over the world. It’s like music – a universal language.”\\n\\nMutfi, now working for a Turkish outfit, Online for Media, fled Homs after two of his brothers were killed. He has since made a number of animations parodying Assad’s speeches, having discovered that he can mimic his voice uncannily. Which may – along with his Syrian Super Mario video – have made him a marked man. But that doesn’t worry him: “We used to live in Syria without any dignity or freedom, but we don’t have anything now. It’s so disappointing to see what is happening with this refugee crisis. It’s life or death. We have to make our own futures.”\\n\\nMutfi’s Syrian Super Mario video is timely in one respect: last Friday, Nintendo released Super Mario Maker for Wii U, which lets gamers make their own Super Mario Bros levels – so anyone with a Wii U can use Mutfi’s efforts for inspiration. Could the “universal language” of gaming – which we know Cameron understands – be the medium that finally prompts the PM to take decisive action on Syria? Well, you never know.')]"
      ]
     },
     "execution_count": 307,
     "metadata": {},
     "output_type": "execute_result"
    }
   ],
   "source": [
    "guardian_dic[list(guardian_dic.keys())[3]]"
   ]
  },
  {
   "cell_type": "code",
   "execution_count": 309,
   "metadata": {
    "collapsed": false
   },
   "outputs": [],
   "source": [
    "with open('guardian.json', 'w') as fp:\n",
    "    json.dump(guardian_dic, fp)"
   ]
  },
  {
   "cell_type": "code",
   "execution_count": null,
   "metadata": {
    "collapsed": true
   },
   "outputs": [],
   "source": []
  }
 ],
 "metadata": {
  "kernelspec": {
   "display_name": "Python 3",
   "language": "python",
   "name": "python3"
  },
  "language_info": {
   "codemirror_mode": {
    "name": "ipython",
    "version": 3
   },
   "file_extension": ".py",
   "mimetype": "text/x-python",
   "name": "python",
   "nbconvert_exporter": "python",
   "pygments_lexer": "ipython3",
   "version": "3.5.1"
  }
 },
 "nbformat": 4,
 "nbformat_minor": 0
}
