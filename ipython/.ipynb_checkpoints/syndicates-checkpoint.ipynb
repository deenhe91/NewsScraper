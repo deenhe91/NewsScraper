{
 "cells": [
  {
   "cell_type": "markdown",
   "metadata": {},
   "source": [
    "#### Imports"
   ]
  },
  {
   "cell_type": "code",
   "execution_count": 1,
   "metadata": {
    "collapsed": false
   },
   "outputs": [],
   "source": [
    "from bs4 import BeautifulSoup\n",
    "import requests\n",
    "import re\n",
    "import json\n",
    "from newspaper import Article\n",
    "from datetime import datetime"
   ]
  },
  {
   "cell_type": "code",
   "execution_count": 116,
   "metadata": {
    "collapsed": true
   },
   "outputs": [],
   "source": [
    "members = ['mario draghi', 'vitor constancio', 'benoit coeure', 'yves mersche', 'sabine lautenschlager', 'peter praet']\n",
    "# representatives = ['luc coene', 'jens weidmann', 'patrick honohan', 'yannis stournaras', 'lui maria linde', 'ardo hansson',\n",
    "#                    'christian noyer', 'ignazio visco', ]"
   ]
  },
  {
   "cell_type": "markdown",
   "metadata": {},
   "source": [
    "#### Grab homepages, search from there\n",
    "start:\n",
    "- project Syndicate\n",
    "- WorldCrunch\n",
    "- Eurozine"
   ]
  },
  {
   "cell_type": "code",
   "execution_count": 39,
   "metadata": {
    "collapsed": false
   },
   "outputs": [],
   "source": [
    "sites = ['https://www.project-syndicate.org/', 'http://www.worldcrunch.com/business-finance', 'http://www.eurozine.com/']\n",
    "r = requests.get(sites[1])\n",
    "worldcrunch_soup = BeautifulSoup(r.text, 'lxml')"
   ]
  },
  {
   "cell_type": "code",
   "execution_count": 40,
   "metadata": {
    "collapsed": false
   },
   "outputs": [],
   "source": [
    "links = worldcrunch_soup.find_all('a')"
   ]
  },
  {
   "cell_type": "code",
   "execution_count": 41,
   "metadata": {
    "collapsed": false
   },
   "outputs": [
    {
     "name": "stdout",
     "output_type": "stream",
     "text": [
      "Number of links : 50\n",
      "Other links: 86\n"
     ]
    }
   ],
   "source": [
    "title = re.compile('[A-Z][\\w-]')\n",
    "\n",
    "article_links = []\n",
    "\n",
    "no_match = 0\n",
    "\n",
    "for link in links:\n",
    "    if title.match(link.text.strip()):\n",
    "        article_links.append(link)\n",
    "    else:\n",
    "        no_match += 1\n",
    "        \n",
    "print('Number of links : {}'.format(str(len(article_links))))\n",
    "print('Other links: {}'.format(str(no_match)))\n",
    "        "
   ]
  },
  {
   "cell_type": "markdown",
   "metadata": {},
   "source": [
    "## NOTE: have to do this multiple times to get to 29 links"
   ]
  },
  {
   "cell_type": "code",
   "execution_count": 44,
   "metadata": {
    "collapsed": false
   },
   "outputs": [
    {
     "name": "stdout",
     "output_type": "stream",
     "text": [
      "29\n"
     ]
    }
   ],
   "source": [
    "# stops = ['SUBSCRIBE', 'subscribe', 'Terms of Use', 'About Us', 'Privacy Policy']\n",
    "\n",
    "for link in article_links:\n",
    "    if len(link.text.split()) < 3:\n",
    "        article_links.remove(link)\n",
    "    elif '#' in str(link):\n",
    "        article_links.remove(link)\n",
    "\n",
    "print(len(article_links))"
   ]
  },
  {
   "cell_type": "markdown",
   "metadata": {},
   "source": [
    "#### use newspaper to extract articles from remaining links"
   ]
  },
  {
   "cell_type": "code",
   "execution_count": 46,
   "metadata": {
    "collapsed": false
   },
   "outputs": [],
   "source": [
    "base_url = 'http://www.worldcrunch.com/'\n",
    "\n",
    "def parseArticle(base_url, article_links):\n",
    "    \n",
    "    worldcrunch_dic = {}\n",
    "\n",
    "    for link in article_links[2:]:\n",
    "        url = base_url+link['href']\n",
    "        r = requests.get(url)\n",
    "        # Beautiful Soup\n",
    "        soup = BeautifulSoup(r.text, 'lxml')\n",
    "\n",
    "        try:\n",
    "            publish_date = soup.find(\"meta\", {\"name\":\"DISPLAYDATE\"})['content']\n",
    "            r_datetime = datetime.strptime(publish_date, '%Y-%m-%d %H:%M:%S')\n",
    "            d = datetime.strftime(r_datetime, '%Y-%m-%d')\n",
    "            t = datetime.strftime(r_datetime, '%H:%M:%S')\n",
    "            author = soup.find_all(\"p\", {\"class\":\"resize-auth\"})[0].find('a').text.strip()\n",
    "            raw_text = soup.find(\"div\", {\"class\":\"article-text\"}).text\n",
    "            if d in worldcrunch_dic:\n",
    "                worldcrunch_dic[d].append([author, t, raw_text])\n",
    "            else:\n",
    "                worldcrunch_dic[d] = [(author, t, raw_text)]\n",
    "        except:\n",
    "            pass\n",
    "    return worldcrunch_dic\n",
    "\n",
    "worldcrunch_dic = parseArticle(base_url, article_links)"
   ]
  },
  {
   "cell_type": "code",
   "execution_count": 48,
   "metadata": {
    "collapsed": false
   },
   "outputs": [],
   "source": [
    "\n",
    "with open('worldcrunch.json', 'w') as fp:\n",
    "    json.dump(worldcrunch_dic, fp)"
   ]
  },
  {
   "cell_type": "code",
   "execution_count": 50,
   "metadata": {
    "collapsed": false
   },
   "outputs": [
    {
     "data": {
      "text/plain": [
       "22"
      ]
     },
     "execution_count": 50,
     "metadata": {},
     "output_type": "execute_result"
    }
   ],
   "source": [
    "len(worldcrunch_dic.keys())"
   ]
  },
  {
   "cell_type": "markdown",
   "metadata": {},
   "source": [
    "#### Try methods for syndicate"
   ]
  },
  {
   "cell_type": "code",
   "execution_count": 192,
   "metadata": {
    "collapsed": false
   },
   "outputs": [],
   "source": [
    "search_url = 'https://www.project-syndicate.org/search?query=mario%20draghi&language=english&sortBy=publishedon&sortOrder=desc'\n",
    "base_url = 'https://www.project-syndicate.org'"
   ]
  },
  {
   "cell_type": "code",
   "execution_count": 177,
   "metadata": {
    "collapsed": true
   },
   "outputs": [],
   "source": [
    "r = requests.get(search_url)\n",
    "soup = BeautifulSoup(r.text, 'lxml')\n",
    "article_links = soup.find_all(\"section\", {\"class\":\"small-12 medium-12 large-7 columns search-results listing authors\"})[0].find_all('article', {\"class\":\"section economics \"})"
   ]
  },
  {
   "cell_type": "code",
   "execution_count": 77,
   "metadata": {
    "collapsed": false
   },
   "outputs": [],
   "source": [
    "def NewspaperParse(url, authors='authors'):\n",
    "    article = Article(url)   \n",
    "    article.download()\n",
    "    article.parse()\n",
    "    r_datetime = article.publish_date\n",
    "    d = datetime.strftime(r_datetime, '%Y-%m-%d')\n",
    "    t = datetime.strftime(r_datetime, '%H:%M:%S')\n",
    "    raw_text = article.text\n",
    "    if authors =='authors':\n",
    "        author = article.authors[0]\n",
    "    else:\n",
    "        author = 'none'\n",
    "    \n",
    "    return d, t, raw_text, author \n",
    "\n",
    "def PS_parse(base_url, article_links):\n",
    "    ps_dic = {}\n",
    "    for link in article_links:\n",
    "        ext = link.find(\"h2\").find('a')['href']\n",
    "        url = base_url + ext\n",
    "        dt, raw_text, author = NewspaperParse(url)\n",
    "        ps_dic[dt] = (author, raw_text)\n",
    "    return ps_dic\n",
    "\n",
    "# ps_dic = PS_parse(base_url, article_links)"
   ]
  },
  {
   "cell_type": "code",
   "execution_count": 310,
   "metadata": {
    "collapsed": true
   },
   "outputs": [],
   "source": [
    "with open('ps.json', 'w') as fp:\n",
    "    json.dump(ps_dic, fp)"
   ]
  },
  {
   "cell_type": "markdown",
   "metadata": {},
   "source": [
    "### BBC News"
   ]
  },
  {
   "cell_type": "code",
   "execution_count": 231,
   "metadata": {
    "collapsed": false
   },
   "outputs": [
    {
     "data": {
      "text/plain": [
       "'/news/business-38507368'"
      ]
     },
     "execution_count": 231,
     "metadata": {},
     "output_type": "execute_result"
    }
   ],
   "source": [
    "search_url = 'http://www.bbc.com/news/business'\n",
    "base_url ='http://www.bbc.com'\n",
    "\n",
    "r = requests.get(search_url)\n",
    "soup = BeautifulSoup(r.text, 'lxml')\n",
    "\n",
    "title_ext = soup.find('div',{\"class\":\"column--primary\"}).find('a', {\"class\":\"title-link\"})['href']\n"
   ]
  },
  {
   "cell_type": "code",
   "execution_count": 237,
   "metadata": {
    "collapsed": false
   },
   "outputs": [],
   "source": [
    "# soup.find_all('div', {\"class\":\"pigeon\"})"
   ]
  },
  {
   "cell_type": "code",
   "execution_count": 270,
   "metadata": {
    "collapsed": false
   },
   "outputs": [
    {
     "name": "stdout",
     "output_type": "stream",
     "text": [
      "http://www.bbc.co.uk/search?q=mario+draghi#page=1\n",
      "200\n",
      "http://www.bbc.co.uk/search?q=mario+draghi#page=2\n",
      "200\n",
      "http://www.bbc.co.uk/search?q=mario+draghi#page=3\n",
      "200\n",
      "http://www.bbc.co.uk/search?q=mario+draghi#page=4\n",
      "200\n",
      "http://www.bbc.co.uk/search?q=mario+draghi#page=5\n",
      "200\n",
      "http://www.bbc.co.uk/search?q=mario+draghi#page=6\n",
      "200\n",
      "http://www.bbc.co.uk/search?q=mario+draghi#page=7\n",
      "200\n",
      "http://www.bbc.co.uk/search?q=mario+draghi#page=8\n",
      "200\n",
      "http://www.bbc.co.uk/search?q=mario+draghi#page=9\n",
      "200\n",
      "http://www.bbc.co.uk/search?q=mario+draghi#page=10\n",
      "200\n",
      "http://www.bbc.co.uk/search?q=mario+draghi#page=11\n",
      "200\n",
      "http://www.bbc.co.uk/search?q=mario+draghi#page=12\n",
      "200\n",
      "http://www.bbc.co.uk/search?q=mario+draghi#page=13\n",
      "200\n",
      "http://www.bbc.co.uk/search?q=mario+draghi#page=14\n",
      "200\n",
      "http://www.bbc.co.uk/search?q=mario+draghi#page=15\n",
      "200\n",
      "http://www.bbc.co.uk/search?q=mario+draghi#page=16\n",
      "200\n",
      "http://www.bbc.co.uk/search?q=mario+draghi#page=17\n",
      "200\n",
      "http://www.bbc.co.uk/search?q=mario+draghi#page=18\n",
      "200\n",
      "http://www.bbc.co.uk/search?q=mario+draghi#page=19\n",
      "200\n"
     ]
    }
   ],
   "source": [
    "# search_url = 'http://www.bbc.co.uk/search?q=mario+draghi#page=20'\n",
    "result_list = []\n",
    "for i in range(1,20):\n",
    "    search_url = 'http://www.bbc.co.uk/search?q=mario+draghi#page={}'.format(str(i))\n",
    "    print(search_url)\n",
    "    r = requests.get(search_url)\n",
    "    print(r.status_code)\n",
    "    soup = BeautifulSoup(r.text, 'lxml')\n",
    "    results = soup.find_all(\"ol\", {\"class\":\"search-results results\"})\n",
    "    r_links = [[result['href'] for result in rs.find_all('a')] for rs in results]\n",
    "    result_list.extend(r_links)"
   ]
  },
  {
   "cell_type": "markdown",
   "metadata": {},
   "source": [
    "#### SELENIUM, return later"
   ]
  },
  {
   "cell_type": "code",
   "execution_count": 2,
   "metadata": {
    "collapsed": false
   },
   "outputs": [],
   "source": [
    "# from selenium.remote.webdriver import WebDriver"
   ]
  },
  {
   "cell_type": "code",
   "execution_count": 206,
   "metadata": {
    "collapsed": true
   },
   "outputs": [],
   "source": [
    "from selenium.webdriver.common.keys import Keys"
   ]
  },
  {
   "cell_type": "code",
   "execution_count": 225,
   "metadata": {
    "collapsed": false
   },
   "outputs": [],
   "source": [
    "import time\n",
    "import selenium.webdriver.chrome.service as service\n",
    "driver = webdriver.Chrome('/usr/local/chromedriver')"
   ]
  },
  {
   "cell_type": "code",
   "execution_count": 226,
   "metadata": {
    "collapsed": false
   },
   "outputs": [],
   "source": [
    "driver.get('https://www.google.co.uk/')"
   ]
  },
  {
   "cell_type": "code",
   "execution_count": 227,
   "metadata": {
    "collapsed": false
   },
   "outputs": [],
   "source": [
    "time.sleep(5)\n",
    "search_box = driver.find_element_by_name('q')\n",
    "search_box.send_keys('ChromeDriver')\n",
    "search_box.submit()\n",
    "time.sleep(5) # Let the user actually see something!\n",
    "driver.quit()"
   ]
  },
  {
   "cell_type": "markdown",
   "metadata": {},
   "source": [
    "### Gaurdian\n"
   ]
  },
  {
   "cell_type": "code",
   "execution_count": 293,
   "metadata": {
    "collapsed": false
   },
   "outputs": [],
   "source": [
    "import json\n",
    "\n",
    "with open('guardianresults.json') as data_file:    \n",
    "    guardian_results = json.load(data_file)"
   ]
  },
  {
   "cell_type": "code",
   "execution_count": 303,
   "metadata": {
    "collapsed": false
   },
   "outputs": [],
   "source": [
    "guardian_dic = {}\n",
    "\n",
    "for result in guardian_results['response']['results']:\n",
    "    if result['type'] == 'article':\n",
    "        url = result['webUrl']\n",
    "        \n",
    "        article = Article(url)\n",
    "        article.download()\n",
    "        article.parse()\n",
    "        raw_text = article.text\n",
    "        author = article.authors\n",
    "        r_datetime = article.publish_date\n",
    "        d = datetime.strftime(r_datetime, '%Y-%m-%d')\n",
    "        t = datetime.strftime(r_datetime, '%H:%M:%S')\n",
    "        if d in guardian_dic:\n",
    "            guardian_dic[d].extend([(author, t, raw_text)])\n",
    "        else:\n",
    "            guardian_dic[d] = [(author, t, raw_text)]\n",
    "        "
   ]
  },
  {
   "cell_type": "code",
   "execution_count": 307,
   "metadata": {
    "collapsed": false
   },
   "outputs": [
    {
     "data": {
      "text/plain": [
       "[(['Steve Boxer'],\n",
       "  '00:00:00',\n",
       "  'We can assume that David Cameron is a bit of a gamer, having been busted obsessively playing Fruit Ninja and Angry Birds in the past. So there is an outside chance that, finally, he might soften his government’s harsh, grudging response to the Syrian refugee crisis. Because one of the gaming world’s most famous characters – the moustachioed plumber Mario – has been co-opted into highlighting the plight of those attempting to flee from the Scylla and Charybdis of Isis and Bashar al-Assad.\\n\\nA Syrian artist, pseudonymously known as Samir al-Mutfi, has created Syrian Super Mario, a satirical video that is currently going viral, highlighting the horrors faced by Syrian refugees – by tweaking the 1985 video game Super Mario Bros. Mario has taken many forms over the decades, but this time he has become Refugee Mario. And instead of making his way to Bowser’s castle in order to rescue Princess Peach, he merely has to get to the castle, which now bears the forbidding legend: “Camp”.\\n\\nAlong the way, many perils (all rendered in the familiar Super Mario Bros style, with sound effects to match) await. Grabbing his suitcase and emptying his savings account by bashing a money-block with his head, Refugee Mario hands his funds to traffickers, undergoes a perilous Mediterranean crossing (thank goodness he has multiple lives), evades border-patrolling soldiers eager to lock him up and finally reaches the dubious sanctuary of a refugee camp.\\n\\nFacebook Twitter Pinterest The Syrian Super Mario video on YouTube\\n\\nSpeaking to the BBC, Mutfi – who himself fled Homs for Istanbul in 2011 – said: “Five months ago, my best friend drowned in the sea while travelling from Turkey to Greece: the engine on the boat exploded. That’s when I got the idea for the video. It needed to be a simple and clear idea that would work irrespective of language. I used Super Mario because it’s famous all over the world. It’s like music – a universal language.”\\n\\nMutfi, now working for a Turkish outfit, Online for Media, fled Homs after two of his brothers were killed. He has since made a number of animations parodying Assad’s speeches, having discovered that he can mimic his voice uncannily. Which may – along with his Syrian Super Mario video – have made him a marked man. But that doesn’t worry him: “We used to live in Syria without any dignity or freedom, but we don’t have anything now. It’s so disappointing to see what is happening with this refugee crisis. It’s life or death. We have to make our own futures.”\\n\\nMutfi’s Syrian Super Mario video is timely in one respect: last Friday, Nintendo released Super Mario Maker for Wii U, which lets gamers make their own Super Mario Bros levels – so anyone with a Wii U can use Mutfi’s efforts for inspiration. Could the “universal language” of gaming – which we know Cameron understands – be the medium that finally prompts the PM to take decisive action on Syria? Well, you never know.')]"
      ]
     },
     "execution_count": 307,
     "metadata": {},
     "output_type": "execute_result"
    }
   ],
   "source": [
    "guardian_dic[list(guardian_dic.keys())[3]]"
   ]
  },
  {
   "cell_type": "code",
   "execution_count": 309,
   "metadata": {
    "collapsed": false
   },
   "outputs": [],
   "source": [
    "with open('guardian.json', 'w') as fp:\n",
    "    json.dump(guardian_dic, fp)"
   ]
  },
  {
   "cell_type": "markdown",
   "metadata": {
    "collapsed": true
   },
   "source": [
    "### The FT - need to get corporate developer license"
   ]
  },
  {
   "cell_type": "code",
   "execution_count": 6,
   "metadata": {
    "collapsed": false
   },
   "outputs": [],
   "source": [
    "# search_url = 'https://www.ft.com/search?q=mario+draghi'\n",
    "\n",
    "# r = requests.get(search_url)\n",
    "# soup = BeautifulSoup(r.text, 'lxml')\n",
    "\n",
    "for li in soup.find_all('li', {\"class\": \"o-teaser-collection__item o-grid-row\"}):\n",
    "    article_links.extend(li.find_all('a'))\n",
    "    \n",
    "    "
   ]
  },
  {
   "cell_type": "code",
   "execution_count": 22,
   "metadata": {
    "collapsed": false
   },
   "outputs": [],
   "source": [
    "link = article_links[1]['href']"
   ]
  },
  {
   "cell_type": "code",
   "execution_count": 13,
   "metadata": {
    "collapsed": true
   },
   "outputs": [],
   "source": [
    "base_url = 'http://ft.com' "
   ]
  },
  {
   "cell_type": "code",
   "execution_count": null,
   "metadata": {
    "collapsed": true
   },
   "outputs": [],
   "source": [
    "def ParseArticles(base_url, article_links):\n",
    "    for link in article_links:\n",
    "        url = base_url + link\n",
    "        r = requests.get(url)"
   ]
  },
  {
   "cell_type": "code",
   "execution_count": 23,
   "metadata": {
    "collapsed": true
   },
   "outputs": [],
   "source": [
    "url = base_url + link"
   ]
  },
  {
   "cell_type": "code",
   "execution_count": 34,
   "metadata": {
    "collapsed": true
   },
   "outputs": [],
   "source": [
    "article = Article(url)"
   ]
  },
  {
   "cell_type": "code",
   "execution_count": 35,
   "metadata": {
    "collapsed": true
   },
   "outputs": [],
   "source": [
    "article.download()\n",
    "article.parse()\n",
    "article.publish_date"
   ]
  },
  {
   "cell_type": "code",
   "execution_count": 36,
   "metadata": {
    "collapsed": false
   },
   "outputs": [
    {
     "data": {
      "text/plain": [
       "'Subscribe to FT.com\\n\\nSubscribe to read: Italy’s president picks up pieces after political crisis\\n\\nAlready a subscriber? Sign in here'"
      ]
     },
     "execution_count": 36,
     "metadata": {},
     "output_type": "execute_result"
    }
   ],
   "source": [
    "article.text"
   ]
  },
  {
   "cell_type": "markdown",
   "metadata": {},
   "source": [
    "### EurActiv - has no authors on articles"
   ]
  },
  {
   "cell_type": "code",
   "execution_count": 90,
   "metadata": {
    "collapsed": false
   },
   "outputs": [
    {
     "name": "stderr",
     "output_type": "stream",
     "text": [
      "/Users/hannahdeen/anaconda3/lib/python3.5/site-packages/bs4/__init__.py:166: UserWarning: No parser was explicitly specified, so I'm using the best available HTML parser for this system (\"lxml\"). This usually isn't a problem, but if you run this code on another system, or in a different virtual environment, it may use a different parser and behave differently.\n",
      "\n",
      "To get rid of this warning, change this:\n",
      "\n",
      " BeautifulSoup([your markup])\n",
      "\n",
      "to this:\n",
      "\n",
      " BeautifulSoup([your markup], \"lxml\")\n",
      "\n",
      "  markup_type=markup_type))\n"
     ]
    }
   ],
   "source": [
    "soup = BeautifulSoup(requests.get('http://www.euractiv.com/?s=mario+draghi').text)"
   ]
  },
  {
   "cell_type": "code",
   "execution_count": 97,
   "metadata": {
    "collapsed": true
   },
   "outputs": [],
   "source": [
    "block = soup.find_all(\"div\",{\"class\":\"row\"})\n",
    "# article_links = []\n",
    "    \n",
    "# for b in block.find_all(\"a\"):\n",
    "#     if len(b['href'].split('/')) > 6 and b['href'] not in article_links:\n",
    "#         article_links.append(b['href'])"
   ]
  },
  {
   "cell_type": "code",
   "execution_count": 101,
   "metadata": {
    "collapsed": false
   },
   "outputs": [
    {
     "data": {
      "text/plain": [
       "<div class=\"row ea-columns-same-height\">\n",
       "<div class=\"ea-archive col-xs-12 col-sm-12 col-md-12 col-lg-12\">\n",
       "<div class=\"ea-color-white\"><br/><div class=\"row\"><div class=\"col-xs-12 col-sm-6 col-md-4 col-lg-3\">\n",
       "<div class=\"ea-teaser ea-teaser-news\">\n",
       "<div class=\"ea-teaser-labels\"><a href=\"http://www.euractiv.com/news/\">News</a></div>\n",
       "<a href=\"http://www.euractiv.com/section/euro-finance/news/draghi-trump-and-brexit-causing-economic-uncertainty/\"><span class=\"image-background\"><img class=\"lazy-load img-responsive hidden-no-js\" data-src=\"http://www.euractiv.com/wp-content/uploads/sites/2/2016/04/European_Parliament_48141299.jpg\" data-strategy=\"crop\" src=\"//assets.euractiv.com/lazy-load/placeholder/16x9.png\" style=\"width:100%\"/><noscript><img class=\"img-responsive\" src=\"http://www.euractiv.com/wp-content/uploads/sites/2/2016/04/European_Parliament_48141299.jpg\" style=\"width:100%\"/></noscript></span></a>\n",
       "<div class=\"ea-teaser-meta\"><a href=\"http://www.euractiv.com/sections/euro-finance/\">Euro &amp; Finance</a><span class=\"ea-dateformat\" data-timestamp=\"1480399593\">\n",
       "<i class=\"fa fa-calendar\"></i>\n",
       "                      29-11-2016\n",
       "                  </span></div>\n",
       "<div class=\"ea-teaser-caption\"><h3><a href=\"http://www.euractiv.com/section/euro-finance/news/draghi-trump-and-brexit-causing-economic-uncertainty/\">Draghi: Trump and Brexit causing economic uncertainty</a></h3><div class=\"ea-teaser-abstract\">Geopolitical events including the election of Donald Trump and Britain's Brexit vote are the main reasons for the current economic uncertainty, European Central Bank chief Mario Draghi told EU parliamentarians on Monday (28 November).</div></div>\n",
       "</div>\n",
       "</div><div class=\"col-xs-12 col-sm-6 col-md-4 col-lg-3\">\n",
       "<div class=\"ea-teaser ea-teaser-news\">\n",
       "<div class=\"ea-teaser-labels\"><a href=\"http://www.euractiv.com/news/\">News</a></div>\n",
       "<a href=\"http://www.euractiv.com/section/euro-finance/news/business-as-usual-for-draghi-and-the-ecb/\"><span class=\"image-background\"><img class=\"lazy-load img-responsive hidden-no-js\" data-src=\"http://www.euractiv.com/wp-content/uploads/sites/2/2016/10/shutterstock_189029042.jpg\" data-strategy=\"crop\" src=\"//assets.euractiv.com/lazy-load/placeholder/16x9.png\" style=\"width:100%\"/><noscript><img class=\"img-responsive\" src=\"http://www.euractiv.com/wp-content/uploads/sites/2/2016/10/shutterstock_189029042.jpg\" style=\"width:100%\"/></noscript></span></a>\n",
       "<div class=\"ea-teaser-meta\"><a href=\"http://www.euractiv.com/sections/euro-finance/\">Euro &amp; Finance</a><span class=\"ea-dateformat\" data-timestamp=\"1477040186\">\n",
       "<i class=\"fa fa-calendar\"></i>\n",
       "                      21-10-2016\n",
       "                  </span></div>\n",
       "<div class=\"ea-teaser-caption\"><h3><a href=\"http://www.euractiv.com/section/euro-finance/news/business-as-usual-for-draghi-and-the-ecb/\">Business as usual for Draghi and the ECB</a></h3><div class=\"ea-teaser-abstract\"><p class=\"p1\"><span class=\"s1\">The European Central Bank (ECB) is to stick with its policy of record-low interest rates and bond purchasing scheme, as head of the bank Mario Draghi continues to try and reach the bank's inflation targets. <a href=\"http://www.euractiv.de/section/finanzen-und-wirtschaft/news/dragee-haelt-an-ezb-leitzins-politik-fest/\">EurActiv Germany reports.</a></span></p></div></div>\n",
       "</div>\n",
       "</div><div class=\"col-xs-12 col-sm-6 col-md-4 col-lg-3\">\n",
       "<div class=\"ea-teaser ea-teaser-news\">\n",
       "<div class=\"ea-teaser-labels\"><a href=\"http://www.euractiv.com/news/\">News</a></div>\n",
       "<a href=\"http://www.euractiv.com/section/uk-europe/news/draghis-ecb-ready-for-all-contingencies-after-brexit-referendum/\"><span class=\"image-background\"><img class=\"lazy-load img-responsive hidden-no-js\" data-src=\"http://www.euractiv.com/wp-content/uploads/sites/2/2016/04/European_Parliament_48141299.jpg\" data-strategy=\"crop\" src=\"//assets.euractiv.com/lazy-load/placeholder/16x9.png\" style=\"width:100%\"/><noscript><img class=\"img-responsive\" src=\"http://www.euractiv.com/wp-content/uploads/sites/2/2016/04/European_Parliament_48141299.jpg\" style=\"width:100%\"/></noscript></span></a>\n",
       "<div class=\"ea-teaser-meta\"><a href=\"http://www.euractiv.com/sections/uk-europe/\">UK &amp; Europe</a><span class=\"ea-dateformat\" data-timestamp=\"1466525317\">\n",
       "<i class=\"fa fa-calendar\"></i>\n",
       "                      21-06-2016\n",
       "                  </span></div>\n",
       "<div class=\"ea-teaser-caption\"><h3><a href=\"http://www.euractiv.com/section/uk-europe/news/draghis-ecb-ready-for-all-contingencies-after-brexit-referendum/\">Draghi's ECB 'ready for all contingencies' after Brexit referendum</a></h3><div class=\"ea-teaser-abstract\">European Central Bank President Mario Draghi said on Tuesday (21 June) that the ECB is ready for every scenario after Britain's referendum on EU membership, but warned that liquidity was vital to prevent investor panic after a vote for Brexit.</div></div>\n",
       "</div>\n",
       "</div><div class=\"col-xs-12 col-sm-6 col-md-4 col-lg-3\">\n",
       "<div class=\"ea-teaser ea-teaser-news\">\n",
       "<div class=\"ea-teaser-labels\"><a href=\"http://www.euractiv.com/news/\">News</a></div>\n",
       "<a href=\"http://www.euractiv.com/section/euro-finance/news/draghi-warns-eu-leaders-he-cant-fix-the-economy-on-his-own/\"><span class=\"image-background\"><img class=\"lazy-load img-responsive hidden-no-js\" data-src=\"http://www.euractiv.com/wp-content/uploads/sites/2/2016/03/Mario-Draghi-March-16.jpg\" data-strategy=\"crop\" src=\"//assets.euractiv.com/lazy-load/placeholder/16x9.png\" style=\"width:100%\"/><noscript><img class=\"img-responsive\" src=\"http://www.euractiv.com/wp-content/uploads/sites/2/2016/03/Mario-Draghi-March-16.jpg\" style=\"width:100%\"/></noscript></span></a>\n",
       "<div class=\"ea-teaser-meta\"><a href=\"http://www.euractiv.com/sections/euro-finance/\">Euro &amp; Finance</a><span class=\"ea-dateformat\" data-timestamp=\"1458275950\">\n",
       "<i class=\"fa fa-calendar\"></i>\n",
       "                      18-03-2016\n",
       "                  </span></div>\n",
       "<div class=\"ea-teaser-caption\"><h3><a href=\"http://www.euractiv.com/section/euro-finance/news/draghi-warns-eu-leaders-he-cant-fix-the-economy-on-his-own/\">Draghi warns EU leaders he can't fix the economy on his own</a></h3><div class=\"ea-teaser-abstract\">European Central Bank President Mario Draghi warned European leaders on Thursday (17 March) that monetary policy alone would not be enough to jump-start the economy and that governments needed to do their job by pushing through structural reforms.</div></div>\n",
       "</div>\n",
       "</div><div class=\"col-xs-12 col-sm-6 col-md-4 col-lg-3\">\n",
       "<div class=\"ea-teaser ea-teaser-news\">\n",
       "<div class=\"ea-teaser-labels\"><a href=\"http://www.euractiv.com/news/\">News</a></div>\n",
       "<a href=\"http://www.euractiv.com/section/uk-europe/news/draghi-uk-negotiations-must-preserve-euro-achievements/\"><span class=\"image-background\"><img class=\"lazy-load img-responsive hidden-no-js\" data-src=\"http://www.euractiv.com/wp-content/uploads/sites/2/2015/11/draghi_12_nov_2015.jpeg\" data-strategy=\"crop\" src=\"//assets.euractiv.com/lazy-load/placeholder/16x9.png\" style=\"width:100%\"/><noscript><img class=\"img-responsive\" src=\"http://www.euractiv.com/wp-content/uploads/sites/2/2015/11/draghi_12_nov_2015.jpeg\" style=\"width:100%\"/></noscript></span></a>\n",
       "<div class=\"ea-teaser-meta\"><a href=\"http://www.euractiv.com/sections/uk-europe/\">UK &amp; Europe</a><span class=\"ea-dateformat\" data-timestamp=\"1447346910\">\n",
       "<i class=\"fa fa-calendar\"></i>\n",
       "                      12-11-2015\n",
       "                  </span></div>\n",
       "<div class=\"ea-teaser-caption\"><h3><a href=\"http://www.euractiv.com/section/uk-europe/news/draghi-uk-negotiations-must-preserve-euro-achievements/\">Draghi: UK negotiations must preserve euro 'achievements'</a></h3><div class=\"ea-teaser-abstract\">European Central Bank President Mario Draghi said on Thursday (12 November) that negotiations with Britain on changes to its relationship with the European Union must preserve the \"extraordinary achievements\" of the euro and the EU's single market.\n",
       "</div></div>\n",
       "</div>\n",
       "</div><div class=\"col-xs-12 col-sm-6 col-md-4 col-lg-3\">\n",
       "<div class=\"ea-teaser ea-teaser-news\">\n",
       "<div class=\"ea-teaser-labels\"><a href=\"http://www.euractiv.com/news/\">News</a></div>\n",
       "<a href=\"http://www.euractiv.com/section/euro-finance/news/juncker-and-draghi-fail-to-win-support-for-eurozone-reform/\"><span class=\"image-background\"><img class=\"lazy-load img-responsive hidden-no-js\" data-src=\"http://www.euractiv.com/wp-content/uploads/sites/2/2015/10/13598392484-e5db31f84c-o.jpeg\" data-strategy=\"crop\" src=\"//assets.euractiv.com/lazy-load/placeholder/16x9.png\" style=\"width:100%\"/><noscript><img class=\"img-responsive\" src=\"http://www.euractiv.com/wp-content/uploads/sites/2/2015/10/13598392484-e5db31f84c-o.jpeg\" style=\"width:100%\"/></noscript></span></a>\n",
       "<div class=\"ea-teaser-meta\"><a href=\"http://www.euractiv.com/sections/euro-finance/\">Euro &amp; Finance</a><span class=\"ea-dateformat\" data-timestamp=\"1444981254\">\n",
       "<i class=\"fa fa-calendar\"></i>\n",
       "                      16-10-2015\n",
       "                  </span></div>\n",
       "<div class=\"ea-teaser-caption\"><h3><a href=\"http://www.euractiv.com/section/euro-finance/news/juncker-and-draghi-fail-to-win-support-for-eurozone-reform/\">Juncker and Draghi fail to win support for eurozone reform</a></h3><div class=\"ea-teaser-abstract\">The piecemeal approach orchestrated by Jean-Claude Juncker and Mario Draghi to address the root causes of the euro zone debt crisis and complete the Economic and Monetary Union (EMU) has not yielded any positive results so far, EurActiv.com has learned.</div></div>\n",
       "</div>\n",
       "</div><div class=\"col-xs-12 col-sm-6 col-md-4 col-lg-3\">\n",
       "<div class=\"ea-teaser ea-teaser-video\">\n",
       "<div class=\"ea-teaser-labels\"><a class=\"hidden-xs\" href=\"http://www.euractiv.com/video/\"><i class=\"fa fa-play\"></i></a><a href=\"http://www.euractiv.com/video/\">Video</a></div>\n",
       "<a href=\"http://www.euractiv.com/section/euro-finance/video/draghi-assaulted-by-protester-at-ecb-meeting/\"><span class=\"image-background\"><img class=\"lazy-load img-responsive hidden-no-js\" data-src=\"http://www.euractiv.com/wp-content/uploads/sites/2/2016/02/4174792025001.jpeg\" data-strategy=\"crop\" src=\"//assets.euractiv.com/lazy-load/placeholder/16x9.png\" style=\"width:100%\"/><noscript><img class=\"img-responsive\" src=\"http://www.euractiv.com/wp-content/uploads/sites/2/2016/02/4174792025001.jpeg\" style=\"width:100%\"/></noscript></span></a>\n",
       "<div class=\"ea-teaser-meta\"><a href=\"http://www.euractiv.com/sections/euro-finance/\">Euro &amp; Finance</a><span class=\"ea-dateformat\" data-timestamp=\"1429116919\">\n",
       "<i class=\"fa fa-calendar\"></i>\n",
       "                      15-04-2015\n",
       "                  </span></div>\n",
       "<div class=\"ea-teaser-caption\"><h3><a href=\"http://www.euractiv.com/section/euro-finance/video/draghi-assaulted-by-protester-at-ecb-meeting/\">Draghi assaulted by protester at ECB meeting</a></h3><div class=\"ea-teaser-abstract\">ECB chief Mario Draghi was assaulted by a protester during a presser on Wednesday (15 April). Jumping up on the table in front of him like a karate kid while throwing confetti, the young woman shouted 'ECB dictatorship' with a German accent, before she was wrestled out of the press room by security guards.</div></div>\n",
       "</div>\n",
       "</div><div class=\"col-xs-12 col-sm-6 col-md-4 col-lg-3\">\n",
       "<div class=\"ea-teaser ea-teaser-news\">\n",
       "<div class=\"ea-teaser-labels\"><a href=\"http://www.euractiv.com/news/\">News</a></div>\n",
       "<a href=\"http://www.euractiv.com/section/eu-priorities-2020/news/draghi-calls-for-quantum-leap-in-eurozone-integration/\"><span class=\"image-background\"><img class=\"lazy-load img-responsive hidden-no-js\" data-src=\"http://www.euractiv.com/wp-content/uploads/sites/2/2015/07/mario_draghi.jpeg\" data-strategy=\"crop\" src=\"//assets.euractiv.com/lazy-load/placeholder/16x9.png\" style=\"width:100%\"/><noscript><img class=\"img-responsive\" src=\"http://www.euractiv.com/wp-content/uploads/sites/2/2015/07/mario_draghi.jpeg\" style=\"width:100%\"/></noscript></span></a>\n",
       "<div class=\"ea-teaser-meta\"><a href=\"http://www.euractiv.com/sections/eu-priorities-2020/\">EU Priorities 2020</a><span class=\"ea-dateformat\" data-timestamp=\"1426577604\">\n",
       "<i class=\"fa fa-calendar\"></i>\n",
       "                      17-03-2015\n",
       "                  </span></div>\n",
       "<div class=\"ea-teaser-caption\"><h3><a href=\"http://www.euractiv.com/section/eu-priorities-2020/news/draghi-calls-for-quantum-leap-in-eurozone-integration/\">Draghi calls for ‘quantum leap’ in eurozone integration</a></h3><div class=\"ea-teaser-abstract\">Describing the eurozone economy as \"steadily recovering\", European Central Bank President Mario Draghi called yesterday (16 March) for a \"quantum leap\" in institutional convergence of the eurozone.</div></div>\n",
       "</div>\n",
       "</div><div class=\"col-xs-12 col-sm-6 col-md-4 col-lg-3\">\n",
       "<div class=\"ea-teaser ea-teaser-video ea-teaser-promoted\">\n",
       "<div class=\"ea-teaser-labels\"><a class=\"hidden-xs\" href=\"http://www.euractiv.com/video/\"><i class=\"fa fa-play\"></i></a><a href=\"http://www.euractiv.com/video/\">Video</a><span>Promoted</span></div>\n",
       "<a href=\"http://www.euractiv.com/section/euro-finance/video/doubts-loom-over-draghi-s-political-bond-buying-scheme/\"><span class=\"image-background\"><img class=\"lazy-load img-responsive hidden-no-js\" data-src=\"http://www.euractiv.com/wp-content/uploads/sites/2/2016/02/4006783049001.jpeg\" data-strategy=\"crop\" src=\"//assets.euractiv.com/lazy-load/placeholder/16x9.png\" style=\"width:100%\"/><noscript><img class=\"img-responsive\" src=\"http://www.euractiv.com/wp-content/uploads/sites/2/2016/02/4006783049001.jpeg\" style=\"width:100%\"/></noscript></span></a>\n",
       "<div class=\"ea-teaser-meta\"><a href=\"http://www.euractiv.com/sections/euro-finance/\">Euro &amp; Finance</a><span class=\"ea-dateformat\" data-timestamp=\"1422023359\">\n",
       "<i class=\"fa fa-calendar\"></i>\n",
       "                      23-01-2015\n",
       "                  </span></div>\n",
       "<div class=\"ea-teaser-caption\"><h3><a href=\"http://www.euractiv.com/section/euro-finance/video/doubts-loom-over-draghi-s-political-bond-buying-scheme/\">Doubts loom over Draghi's 'political' bond-buying scheme</a></h3><div class=\"ea-teaser-abstract\">European Central Bank president Mario Draghi grabbed the spotlight on Thursday, as he announced Europe's latest hope to revive its weak economy: the so-called quantitative easing, or a bond-buying scheme of 60 billion euros a month.</div></div>\n",
       "</div>\n",
       "</div><div class=\"col-xs-12 col-sm-6 col-md-4 col-lg-3\">\n",
       "<div class=\"ea-teaser ea-teaser-opinion\">\n",
       "<div class=\"ea-teaser-labels\"><a href=\"http://www.euractiv.com/opinion/\">Opinion</a></div>\n",
       "<a href=\"http://www.euractiv.com/section/europe-s-east/opinion/whatever-it-takes-lessons-from-draghi-for-ukraine/\"><span class=\"image-background\"><img class=\"lazy-load img-responsive hidden-no-js\" data-src=\"http://www.euractiv.com/wp-content/uploads/sites/2/2014/09/14631092463-ea8c7c7a67-z.jpeg\" data-strategy=\"crop\" src=\"//assets.euractiv.com/lazy-load/placeholder/16x9.png\" style=\"width:100%\"/><noscript><img class=\"img-responsive\" src=\"http://www.euractiv.com/wp-content/uploads/sites/2/2014/09/14631092463-ea8c7c7a67-z.jpeg\" style=\"width:100%\"/></noscript></span></a>\n",
       "<div class=\"ea-teaser-meta\"><a href=\"http://www.euractiv.com/sections/europe-s-east/\">Europe's East</a><span class=\"ea-dateformat\" data-timestamp=\"1411749347\">\n",
       "<i class=\"fa fa-calendar\"></i>\n",
       "                      26-09-2014\n",
       "                  </span></div>\n",
       "<div class=\"ea-teaser-caption\"><h3><a href=\"http://www.euractiv.com/section/europe-s-east/opinion/whatever-it-takes-lessons-from-draghi-for-ukraine/\">'Whatever it takes': Lessons from Draghi for Ukraine</a></h3><div class=\"ea-teaser-abstract\">EU policymakers, trying to handle the Ukraine crisis, can draw valuable lessons from the tactics employed by European Central Bank boss Mario Draghi, writes Jorge Mariscal and Nick Rice.\n",
       "</div></div>\n",
       "</div>\n",
       "</div><div class=\"col-xs-12 col-sm-6 col-md-4 col-lg-3\">\n",
       "<div class=\"ea-teaser ea-teaser-video ea-teaser-promoted\">\n",
       "<div class=\"ea-teaser-labels\"><a class=\"hidden-xs\" href=\"http://www.euractiv.com/video/\"><i class=\"fa fa-play\"></i></a><a href=\"http://www.euractiv.com/video/\">Video</a><span>Promoted</span></div>\n",
       "<a href=\"http://www.euractiv.com/section/euro-finance/video/draghi-rumours-are-unfounded-i-will-stay-at-the-ecb/\"><span class=\"image-background\"><img class=\"lazy-load img-responsive hidden-no-js\" data-src=\"http://www.euractiv.com/wp-content/uploads/sites/2/2016/02/3675270272001.jpeg\" data-strategy=\"crop\" src=\"//assets.euractiv.com/lazy-load/placeholder/16x9.png\" style=\"width:100%\"/><noscript><img class=\"img-responsive\" src=\"http://www.euractiv.com/wp-content/uploads/sites/2/2016/02/3675270272001.jpeg\" style=\"width:100%\"/></noscript></span></a>\n",
       "<div class=\"ea-teaser-meta\"><a href=\"http://www.euractiv.com/sections/euro-finance/\">Euro &amp; Finance</a><span class=\"ea-dateformat\" data-timestamp=\"1405422000\">\n",
       "<i class=\"fa fa-calendar\"></i>\n",
       "                      15-07-2014\n",
       "                  </span></div>\n",
       "<div class=\"ea-teaser-caption\"><h3><a href=\"http://www.euractiv.com/section/euro-finance/video/draghi-rumours-are-unfounded-i-will-stay-at-the-ecb/\">Draghi: Rumours are unfounded, I will stay at the ECB</a></h3><div class=\"ea-teaser-abstract\">Responding to media speculation over his future, ECB president Mario Draghi said on Monday that rumours about his exit are “unfounded” and come from “interested parties”.</div></div>\n",
       "</div>\n",
       "</div><div class=\"col-xs-12 col-sm-6 col-md-4 col-lg-3\">\n",
       "<div class=\"ea-teaser ea-teaser-news\">\n",
       "<div class=\"ea-teaser-labels\"><a href=\"http://www.euractiv.com/news/\">News</a></div>\n",
       "<a href=\"http://www.euractiv.com/section/euro-finance/news/draghi-says-stronger-euro-threatens-recovery/\"><span class=\"image-background\"><img class=\"lazy-load img-responsive hidden-no-js\" data-src=\"http://www.euractiv.com/wp-content/uploads/sites/2/2014/09/mario_draghi._european_parliament_2011.jpeg\" data-strategy=\"crop\" src=\"//assets.euractiv.com/lazy-load/placeholder/16x9.png\" style=\"width:100%\"/><noscript><img class=\"img-responsive\" src=\"http://www.euractiv.com/wp-content/uploads/sites/2/2014/09/mario_draghi._european_parliament_2011.jpeg\" style=\"width:100%\"/></noscript></span></a>\n",
       "<div class=\"ea-teaser-meta\"><a href=\"http://www.euractiv.com/sections/euro-finance/\">Euro &amp; Finance</a><span class=\"ea-dateformat\" data-timestamp=\"1405411554\">\n",
       "<i class=\"fa fa-calendar\"></i>\n",
       "                      15-07-2014\n",
       "                  </span></div>\n",
       "<div class=\"ea-teaser-caption\"><h3><a href=\"http://www.euractiv.com/section/euro-finance/news/draghi-says-stronger-euro-threatens-recovery/\">Draghi says stronger euro threatens recovery</a></h3><div class=\"ea-teaser-abstract\">A stronger euro exchange rate is a risk to the sustainability of the euro zone recovery, European Central Bank President Mario Draghi said on Monday (14 July), responding to calls from the French government to devalue the currency and ease pressure on exporters.</div></div>\n",
       "</div>\n",
       "</div><div class=\"col-xs-12 col-sm-6 col-md-4 col-lg-3\">\n",
       "<div class=\"ea-teaser ea-teaser-video ea-teaser-promoted\">\n",
       "<div class=\"ea-teaser-labels\"><a class=\"hidden-xs\" href=\"http://www.euractiv.com/video/\"><i class=\"fa fa-play\"></i></a><a href=\"http://www.euractiv.com/video/\">Video</a><span>Promoted</span></div>\n",
       "<a href=\"http://www.euractiv.com/section/euro-finance/video/draghi-slams-handling-of-cyprus-bailout/\"><span class=\"image-background\"><img class=\"lazy-load img-responsive hidden-no-js\" data-src=\"http://www.euractiv.com/wp-content/uploads/sites/2/2016/02/2278325399001.jpeg\" data-strategy=\"crop\" src=\"//assets.euractiv.com/lazy-load/placeholder/16x9.png\" style=\"width:100%\"/><noscript><img class=\"img-responsive\" src=\"http://www.euractiv.com/wp-content/uploads/sites/2/2016/02/2278325399001.jpeg\" style=\"width:100%\"/></noscript></span></a>\n",
       "<div class=\"ea-teaser-meta\"><a href=\"http://www.euractiv.com/sections/euro-finance/\">Euro &amp; Finance</a><span class=\"ea-dateformat\" data-timestamp=\"1365163546\">\n",
       "<i class=\"fa fa-calendar\"></i>\n",
       "                      05-04-2013\n",
       "                  </span></div>\n",
       "<div class=\"ea-teaser-caption\"><h3><a href=\"http://www.euractiv.com/section/euro-finance/video/draghi-slams-handling-of-cyprus-bailout/\">Draghi slams handling of Cyprus bailout</a></h3><div class=\"ea-teaser-abstract\">ECB president Mario Draghi on Thursday slammed the Cyprus negotiators for their initial proposal of making small savers pay for the country's bailout, He called the idea 'not smart, to say the least'.\n",
       "\tDraghi was quick to add that the proposal of imposing a levy on small savers did not come from the ECB.</div></div>\n",
       "</div>\n",
       "</div><div class=\"col-xs-12 col-sm-6 col-md-4 col-lg-3\">\n",
       "<div class=\"ea-teaser ea-teaser-news\">\n",
       "<div class=\"ea-teaser-labels\"><a href=\"http://www.euractiv.com/news/\">News</a></div>\n",
       "<a href=\"http://www.euractiv.com/section/euro-finance/news/draghi-slams-handling-of-cyprus-bailout/\"><span class=\"image-background\"><img class=\"lazy-load img-responsive hidden-no-js\" data-src=\"http://www.euractiv.com/wp-content/uploads/sites/2/2011/05/Mario-Draghi.jpeg\" data-strategy=\"crop\" src=\"//assets.euractiv.com/lazy-load/placeholder/16x9.png\" style=\"width:100%\"/><noscript><img class=\"img-responsive\" src=\"http://www.euractiv.com/wp-content/uploads/sites/2/2011/05/Mario-Draghi.jpeg\" style=\"width:100%\"/></noscript></span></a>\n",
       "<div class=\"ea-teaser-meta\"><a href=\"http://www.euractiv.com/sections/euro-finance/\">Euro &amp; Finance</a><span class=\"ea-dateformat\" data-timestamp=\"1365151481\">\n",
       "<i class=\"fa fa-calendar\"></i>\n",
       "                      05-04-2013\n",
       "                  </span></div>\n",
       "<div class=\"ea-teaser-caption\"><h3><a href=\"http://www.euractiv.com/section/euro-finance/news/draghi-slams-handling-of-cyprus-bailout/\">Draghi slams handling of Cyprus bailout</a></h3><div class=\"ea-teaser-abstract\">European Central Bank President Mario Draghi indirectly clashed with Eurogroup President Jeroen Dijsselbloem, stating yesterday (4 April) that the Cyprus bailout was \"no template\" for possible future solutions and pledged that taxing depositors would not become normal procedure. He also slammed the Cyprus' negotiators for their initial proposal.\n",
       "</div></div>\n",
       "</div>\n",
       "</div><div class=\"col-xs-12 col-sm-6 col-md-4 col-lg-3\">\n",
       "<div class=\"ea-teaser ea-teaser-news\">\n",
       "<div class=\"ea-teaser-labels\"><a href=\"http://www.euractiv.com/news/\">News</a></div>\n",
       "<a href=\"http://www.euractiv.com/section/future-eu/news/draghi-backs-germany-s-call-for-currency-commissioner/\"><span class=\"image-background\"><img class=\"lazy-load img-responsive hidden-no-js\" data-src=\"http://www.euractiv.com/wp-content/uploads/sites/2/2011/05/Mario-Draghi.jpeg\" data-strategy=\"crop\" src=\"//assets.euractiv.com/lazy-load/placeholder/16x9.png\" style=\"width:100%\"/><noscript><img class=\"img-responsive\" src=\"http://www.euractiv.com/wp-content/uploads/sites/2/2011/05/Mario-Draghi.jpeg\" style=\"width:100%\"/></noscript></span></a>\n",
       "<div class=\"ea-teaser-meta\"><a href=\"http://www.euractiv.com/sections/future-eu/\">Future EU</a><span class=\"ea-dateformat\" data-timestamp=\"1351500441\">\n",
       "<i class=\"fa fa-calendar\"></i>\n",
       "                      29-10-2012\n",
       "                  </span></div>\n",
       "<div class=\"ea-teaser-caption\"><h3><a href=\"http://www.euractiv.com/section/future-eu/news/draghi-backs-germany-s-call-for-currency-commissioner/\">Draghi backs Germany's call for 'currency commissioner'</a></h3><div class=\"ea-teaser-abstract\">European Central Bank Chief Mario Draghi backed a proposal by German Finance Minister Wolfgang Schäuble to radically expand the powers of the European Union's monetary affairs commissioner, giving Brussels greater control over member states budgets.\n",
       "</div></div>\n",
       "</div>\n",
       "</div><div class=\"col-xs-12 col-sm-6 col-md-4 col-lg-3\">\n",
       "<div class=\"ea-teaser ea-teaser-news\">\n",
       "<div class=\"ea-teaser-labels\"><a href=\"http://www.euractiv.com/news/\">News</a></div>\n",
       "<a href=\"http://www.euractiv.com/section/euro-finance/news/draghi-gets-ecb-backing-for-unlimited-bond-buying/\"><span class=\"image-background\"><img class=\"lazy-load img-responsive hidden-no-js\" data-src=\"http://www.euractiv.com/wp-content/uploads/sites/2/2012/09/trader happy.jpeg\" data-strategy=\"crop\" src=\"//assets.euractiv.com/lazy-load/placeholder/16x9.png\" style=\"width:100%\"/><noscript><img class=\"img-responsive\" src=\"http://www.euractiv.com/wp-content/uploads/sites/2/2012/09/trader happy.jpeg\" style=\"width:100%\"/></noscript></span></a>\n",
       "<div class=\"ea-teaser-meta\"><a href=\"http://www.euractiv.com/sections/euro-finance/\">Euro &amp; Finance</a><span class=\"ea-dateformat\" data-timestamp=\"1347006561\">\n",
       "<i class=\"fa fa-calendar\"></i>\n",
       "                      07-09-2012\n",
       "                  </span></div>\n",
       "<div class=\"ea-teaser-caption\"><h3><a href=\"http://www.euractiv.com/section/euro-finance/news/draghi-gets-ecb-backing-for-unlimited-bond-buying/\">Draghi gets ECB backing for unlimited bond-buying</a></h3><div class=\"ea-teaser-abstract\">The European Central Bank agreed yesterday (6 September) to launch a new and potentially unlimited bond-buying programme to lower struggling eurozone countries' borrowing costs and draw a line under the debt crisis.\n",
       "</div></div>\n",
       "</div>\n",
       "</div><div class=\"col-xs-12 col-sm-6 col-md-4 col-lg-3\">\n",
       "<div class=\"ea-teaser ea-teaser-video ea-teaser-promoted\">\n",
       "<div class=\"ea-teaser-labels\"><a class=\"hidden-xs\" href=\"http://www.euractiv.com/video/\"><i class=\"fa fa-play\"></i></a><a href=\"http://www.euractiv.com/video/\">Video</a><span>Promoted</span></div>\n",
       "<a href=\"http://www.euractiv.com/section/euro-finance/video/ecb-s-draghi-presents-eurozone-rescue-plan/\"><span class=\"image-background\"><img class=\"lazy-load img-responsive hidden-no-js\" data-src=\"http://www.euractiv.com/wp-content/themes/euractiv_base/media/placeholder.png\" data-strategy=\"crop\" src=\"//assets.euractiv.com/lazy-load/placeholder/16x9.png\" style=\"width:100%\"/><noscript><img class=\"img-responsive\" src=\"http://www.euractiv.com/wp-content/themes/euractiv_base/media/placeholder.png\" style=\"width:100%\"/></noscript></span></a>\n",
       "<div class=\"ea-teaser-meta\"><a href=\"http://www.euractiv.com/sections/euro-finance/\">Euro &amp; Finance</a><span class=\"ea-dateformat\" data-timestamp=\"1346953836\">\n",
       "<i class=\"fa fa-calendar\"></i>\n",
       "                      06-09-2012\n",
       "                  </span></div>\n",
       "<div class=\"ea-teaser-caption\"><h3><a href=\"http://www.euractiv.com/section/euro-finance/video/ecb-s-draghi-presents-eurozone-rescue-plan/\">ECB's Draghi presents eurozone rescue plan</a></h3><div class=\"ea-teaser-abstract\">This is the man who claimed he can save the euro. After weeks of uncertainty, European Central Bank's chief Mario Draghi on Thursday unveiled a much-awaited bond-buying plan. The scheme includes buying 'unlimited' amounts of short-term government debt from troubled countries and it is designed to lower the borrowing costs of Italy and Spain. Draghi also said the scheme was a \"fully effective backstop\" and that the euro was \"irreversible\".</div></div>\n",
       "</div>\n",
       "</div><div class=\"col-xs-12 col-sm-6 col-md-4 col-lg-3\">\n",
       "<div class=\"ea-teaser ea-teaser-news\">\n",
       "<div class=\"ea-teaser-labels\"><a href=\"http://www.euractiv.com/news/\">News</a></div>\n",
       "<a href=\"http://www.euractiv.com/section/euro-finance/news/draghi-to-propose-unlimited-bond-buying-plan/\"><span class=\"image-background\"><img class=\"lazy-load img-responsive hidden-no-js\" data-src=\"http://www.euractiv.com/wp-content/uploads/sites/2/2011/12/Draghi.jpeg\" data-strategy=\"crop\" src=\"//assets.euractiv.com/lazy-load/placeholder/16x9.png\" style=\"width:100%\"/><noscript><img class=\"img-responsive\" src=\"http://www.euractiv.com/wp-content/uploads/sites/2/2011/12/Draghi.jpeg\" style=\"width:100%\"/></noscript></span></a>\n",
       "<div class=\"ea-teaser-meta\"><a href=\"http://www.euractiv.com/sections/euro-finance/\">Euro &amp; Finance</a><span class=\"ea-dateformat\" data-timestamp=\"1346921330\">\n",
       "<i class=\"fa fa-calendar\"></i>\n",
       "                      06-09-2012\n",
       "                  </span></div>\n",
       "<div class=\"ea-teaser-caption\"><h3><a href=\"http://www.euractiv.com/section/euro-finance/news/draghi-to-propose-unlimited-bond-buying-plan/\">Draghi to propose 'unlimited' bond buying plan </a></h3><div class=\"ea-teaser-abstract\">European Central Bank chief Mario Draghi faces the most decisive moment of his presidency today (6 September) when he tries to heal divisions among policymakers and deliver on his promise to save the euro. A leaked draft reveals that the plan includes buying 'unlimited' quantities of government debt from troubled countries.\n",
       "</div></div>\n",
       "</div>\n",
       "</div><div class=\"col-xs-12 col-sm-6 col-md-4 col-lg-3\">\n",
       "<div class=\"ea-teaser ea-teaser-video ea-teaser-promoted\">\n",
       "<div class=\"ea-teaser-labels\"><a class=\"hidden-xs\" href=\"http://www.euractiv.com/video/\"><i class=\"fa fa-play\"></i></a><a href=\"http://www.euractiv.com/video/\">Video</a><span>Promoted</span></div>\n",
       "<a href=\"http://www.euractiv.com/section/euro-finance/video/meps-disclose-draghi-s-bond-buying-plan/\"><span class=\"image-background\"><img class=\"lazy-load img-responsive hidden-no-js\" data-src=\"http://www.euractiv.com/wp-content/themes/euractiv_base/media/placeholder.png\" data-strategy=\"crop\" src=\"//assets.euractiv.com/lazy-load/placeholder/16x9.png\" style=\"width:100%\"/><noscript><img class=\"img-responsive\" src=\"http://www.euractiv.com/wp-content/themes/euractiv_base/media/placeholder.png\" style=\"width:100%\"/></noscript></span></a>\n",
       "<div class=\"ea-teaser-meta\"><a href=\"http://www.euractiv.com/sections/euro-finance/\">Euro &amp; Finance</a><span class=\"ea-dateformat\" data-timestamp=\"1346766217\">\n",
       "<i class=\"fa fa-calendar\"></i>\n",
       "                      04-09-2012\n",
       "                  </span></div>\n",
       "<div class=\"ea-teaser-caption\"><h3><a href=\"http://www.euractiv.com/section/euro-finance/video/meps-disclose-draghi-s-bond-buying-plan/\">MEPs disclose Draghi's bond-buying plan</a></h3><div class=\"ea-teaser-abstract\">Despite strong German opposition, the ECB could buy government bonds maturing in three years or less. This is what European Central Bank chief Mario Draghi suggested to a closed hearing at the European Parliament on Monday, according to MEPs present.\n",
       "\"I understood the exchange in such a way that in the future there will be again interventions by the ECB.\" ALSO \"I would see this in such a way that there could be tensions in the ECB Board, that's why he did not wanted to comment in public.\", said Sven GIEGOLD (Greens/ALE, DE).</div></div>\n",
       "</div>\n",
       "</div><div class=\"col-xs-12 col-sm-6 col-md-4 col-lg-3\">\n",
       "<div class=\"ea-teaser ea-teaser-news\">\n",
       "<div class=\"ea-teaser-labels\"><a href=\"http://www.euractiv.com/news/\">News</a></div>\n",
       "<a href=\"http://www.euractiv.com/section/future-eu/news/draghi-united-states-of-europe-not-necessary-to-save-the-euro/\"><span class=\"image-background\"><img class=\"lazy-load img-responsive hidden-no-js\" data-src=\"http://www.euractiv.com/wp-content/uploads/sites/2/2012/08/Mario Draghi finger_Picmonkey.jpeg\" data-strategy=\"crop\" src=\"//assets.euractiv.com/lazy-load/placeholder/16x9.png\" style=\"width:100%\"/><noscript><img class=\"img-responsive\" src=\"http://www.euractiv.com/wp-content/uploads/sites/2/2012/08/Mario Draghi finger_Picmonkey.jpeg\" style=\"width:100%\"/></noscript></span></a>\n",
       "<div class=\"ea-teaser-meta\"><a href=\"http://www.euractiv.com/sections/future-eu/\">Future EU</a><span class=\"ea-dateformat\" data-timestamp=\"1346312213\">\n",
       "<i class=\"fa fa-calendar\"></i>\n",
       "                      30-08-2012\n",
       "                  </span></div>\n",
       "<div class=\"ea-teaser-caption\"><h3><a href=\"http://www.euractiv.com/section/future-eu/news/draghi-united-states-of-europe-not-necessary-to-save-the-euro/\">Draghi: 'United States of Europe' not necessary to save the euro</a></h3><div class=\"ea-teaser-abstract\">In a rare political declaration, Mario Draghi, president of the European Central Bank (ECB), has rejected \"binary choices\" for the eurozone's future, dismissing calls for a \"United States of Europe\" as well as a return to national currencies to stop the sovereign debt crisis.\n",
       "</div></div>\n",
       "</div>\n",
       "</div><div class=\"col-xs-12 col-sm-6 col-md-4 col-lg-3\">\n",
       "<div class=\"ea-teaser ea-teaser-news\">\n",
       "<div class=\"ea-teaser-labels\"><a href=\"http://www.euractiv.com/news/\">News</a></div>\n",
       "<a href=\"http://www.euractiv.com/section/euro-finance/news/draghi-pledges-ecb-intervention-but-with-rescue-funds/\"><span class=\"image-background\"><img class=\"lazy-load img-responsive hidden-no-js\" data-src=\"http://www.euractiv.com/wp-content/uploads/sites/2/2011/12/Mario Draghi 2011.jpeg\" data-strategy=\"crop\" src=\"//assets.euractiv.com/lazy-load/placeholder/16x9.png\" style=\"width:100%\"/><noscript><img class=\"img-responsive\" src=\"http://www.euractiv.com/wp-content/uploads/sites/2/2011/12/Mario Draghi 2011.jpeg\" style=\"width:100%\"/></noscript></span></a>\n",
       "<div class=\"ea-teaser-meta\"><a href=\"http://www.euractiv.com/sections/euro-finance/\">Euro &amp; Finance</a><span class=\"ea-dateformat\" data-timestamp=\"1343981952\">\n",
       "<i class=\"fa fa-calendar\"></i>\n",
       "                      03-08-2012\n",
       "                  </span></div>\n",
       "<div class=\"ea-teaser-caption\"><h3><a href=\"http://www.euractiv.com/section/euro-finance/news/draghi-pledges-ecb-intervention-but-with-rescue-funds/\">Draghi pledges ECB intervention, but with rescue funds</a></h3><div class=\"ea-teaser-abstract\">The European Central Bank disappointed markets as it said yesterday (2 August) that it is prepared to buy Italian and Spanish bonds on the open market but only after eurozone governments have activated bailout funds to do the same.\n",
       "</div></div>\n",
       "</div>\n",
       "</div><div class=\"col-xs-12 col-sm-6 col-md-4 col-lg-3\">\n",
       "<div class=\"ea-teaser ea-teaser-news\">\n",
       "<div class=\"ea-teaser-labels\"><a href=\"http://www.euractiv.com/news/\">News</a></div>\n",
       "<a href=\"http://www.euractiv.com/section/euro-finance/news/eu-investigates-ecb-s-draghi-following-complaint/\"><span class=\"image-background\"><img class=\"lazy-load img-responsive hidden-no-js\" data-src=\"http://www.euractiv.com/wp-content/uploads/sites/2/2011/05/Mario-Draghi.jpeg\" data-strategy=\"crop\" src=\"//assets.euractiv.com/lazy-load/placeholder/16x9.png\" style=\"width:100%\"/><noscript><img class=\"img-responsive\" src=\"http://www.euractiv.com/wp-content/uploads/sites/2/2011/05/Mario-Draghi.jpeg\" style=\"width:100%\"/></noscript></span></a>\n",
       "<div class=\"ea-teaser-meta\"><a href=\"http://www.euractiv.com/sections/euro-finance/\">Euro &amp; Finance</a><span class=\"ea-dateformat\" data-timestamp=\"1343720734\">\n",
       "<i class=\"fa fa-calendar\"></i>\n",
       "                      31-07-2012\n",
       "                  </span></div>\n",
       "<div class=\"ea-teaser-caption\"><h3><a href=\"http://www.euractiv.com/section/euro-finance/news/eu-investigates-ecb-s-draghi-following-complaint/\">EU investigates ECB's Draghi following complaint</a></h3><div class=\"ea-teaser-abstract\">The European Union's internal watchdog has launched an investigation of European Central Bank President Mario Draghi, following a complaint of conflict of interest, the institution's spokeswoman said yesterday (30 July).\n",
       "</div></div>\n",
       "</div>\n",
       "</div><div class=\"col-xs-12 col-sm-6 col-md-4 col-lg-3\">\n",
       "<div class=\"ea-teaser ea-teaser-news\">\n",
       "<div class=\"ea-teaser-labels\"><a href=\"http://www.euractiv.com/news/\">News</a></div>\n",
       "<a href=\"http://www.euractiv.com/section/eu-priorities-2020/news/ecb-s-draghi-calls-for-ten-year-eu-growth-plan/\"><span class=\"image-background\"><img class=\"lazy-load img-responsive hidden-no-js\" data-src=\"http://www.euractiv.com/wp-content/uploads/sites/2/2011/11/Mario Draghi smiling_Picnik.jpeg\" data-strategy=\"crop\" src=\"//assets.euractiv.com/lazy-load/placeholder/16x9.png\" style=\"width:100%\"/><noscript><img class=\"img-responsive\" src=\"http://www.euractiv.com/wp-content/uploads/sites/2/2011/11/Mario Draghi smiling_Picnik.jpeg\" style=\"width:100%\"/></noscript></span></a>\n",
       "<div class=\"ea-teaser-meta\"><a href=\"http://www.euractiv.com/sections/eu-priorities-2020/\">EU Priorities 2020</a><span class=\"ea-dateformat\" data-timestamp=\"1336119006\">\n",
       "<i class=\"fa fa-calendar\"></i>\n",
       "                      04-05-2012\n",
       "                  </span></div>\n",
       "<div class=\"ea-teaser-caption\"><h3><a href=\"http://www.euractiv.com/section/eu-priorities-2020/news/ecb-s-draghi-calls-for-ten-year-eu-growth-plan/\">ECB's Draghi calls for ten-year EU growth plan</a></h3><div class=\"ea-teaser-abstract\">European Central Bank President Mario Draghi, reflecting growing anxiety among Europeans about their economic plight, said on Thursday (3 May) that growth should be at the heart of euro zone policy but that it needed to go hand in hand with fiscal austerity.\n",
       "</div></div>\n",
       "</div>\n",
       "</div><div class=\"col-xs-12 col-sm-6 col-md-4 col-lg-3\">\n",
       "<div class=\"ea-teaser ea-teaser-news\">\n",
       "<div class=\"ea-teaser-labels\"><a href=\"http://www.euractiv.com/news/\">News</a></div>\n",
       "<a href=\"http://www.euractiv.com/section/euro-finance/news/merkel-backs-draghi-s-call-for-growth-pact/\"><span class=\"image-background\"><img class=\"lazy-load img-responsive hidden-no-js\" data-src=\"http://www.euractiv.com/wp-content/uploads/sites/2/2011/12/draghi merkel barroso.jpeg\" data-strategy=\"crop\" src=\"//assets.euractiv.com/lazy-load/placeholder/16x9.png\" style=\"width:100%\"/><noscript><img class=\"img-responsive\" src=\"http://www.euractiv.com/wp-content/uploads/sites/2/2011/12/draghi merkel barroso.jpeg\" style=\"width:100%\"/></noscript></span></a>\n",
       "<div class=\"ea-teaser-meta\"><a href=\"http://www.euractiv.com/sections/euro-finance/\">Euro &amp; Finance</a><span class=\"ea-dateformat\" data-timestamp=\"1335428377\">\n",
       "<i class=\"fa fa-calendar\"></i>\n",
       "                      26-04-2012\n",
       "                  </span></div>\n",
       "<div class=\"ea-teaser-caption\"><h3><a href=\"http://www.euractiv.com/section/euro-finance/news/merkel-backs-draghi-s-call-for-growth-pact/\">Merkel backs Draghi's call for growth pact</a></h3><div class=\"ea-teaser-abstract\">European Central Bank President Mario Draghi urged eurozone governments to shape-up their economies and called for an EU \"growth compact,\" which Germany backed, rejecting charges that they support only austerity measures to solve the debt crisis.\n",
       "</div></div>\n",
       "</div>\n",
       "</div></div><br/></div> </div>\n",
       "</div>"
      ]
     },
     "execution_count": 101,
     "metadata": {},
     "output_type": "execute_result"
    }
   ],
   "source": [
    "block[4]"
   ]
  },
  {
   "cell_type": "code",
   "execution_count": 112,
   "metadata": {
    "collapsed": false,
    "scrolled": false
   },
   "outputs": [
    {
     "name": "stdout",
     "output_type": "stream",
     "text": [
      "http://www.euractiv.com/page/2/?s=mario+draghi\n",
      "http://www.euractiv.com/page/3/?s=mario+draghi\n",
      "http://www.euractiv.com/page/4/?s=mario+draghi\n",
      "http://www.euractiv.com/page/5/?s=mario+draghi\n",
      "http://www.euractiv.com/page/6/?s=mario+draghi\n",
      "http://www.euractiv.com/page/7/?s=mario+draghi\n",
      "http://www.euractiv.com/page/8/?s=mario+draghi\n",
      "You must `download()` an article before calling `parse()` on it!\n",
      "http://www.euractiv.com/page/9/?s=mario+draghi\n",
      "You must `download()` an article before calling `parse()` on it!\n"
     ]
    }
   ],
   "source": [
    "search_url = 'http://www.euractiv.com/?s=mario+draghi'\n",
    "# 'http://www.euractiv.com/page/2/?s=mario+draghi'\n",
    "# for all names, and 10 pages?\n",
    "\n",
    "def getLinksEurActiv(search_url):\n",
    "    r = requests.get(search_url)\n",
    "    soup = BeautifulSoup(r.text, 'lxml')\n",
    "    \n",
    "    block = soup.find_all(\"div\",{\"class\":\"row\"})[4]\n",
    "    article_links = []\n",
    "    \n",
    "    for b in block.find_all(\"a\"):\n",
    "        if len(b['href'].split('/')) > 6 and b['href'] not in article_links:\n",
    "            article_links.append(b['href'])\n",
    "    \n",
    "    return article_links\n",
    "\n",
    "\n",
    "def NewspaperParse(url, authors='authors'):\n",
    "    article = Article(url)   \n",
    "    \n",
    "    try:\n",
    "        article.download()\n",
    "        article.parse()\n",
    "        r_datetime = article.publish_date\n",
    "        d = datetime.strftime(r_datetime, '%Y-%m-%d')\n",
    "        t = datetime.strftime(r_datetime, '%H:%M:%S')\n",
    "        raw_text = article.text\n",
    "        if authors =='authors':\n",
    "            author = article.authors[0]\n",
    "        else:\n",
    "            author = 'none'\n",
    "        return d, t, raw_text, author\n",
    "    except:\n",
    "        return 'none', 'none', 'none', 'none'\n",
    "        \n",
    "\n",
    "article_links = []\n",
    "euractiv_dic = {}\n",
    "\n",
    "for i in range(2,10):\n",
    "    search_url = 'http://www.euractiv.com/page/{}/?s=mario+draghi'.format(i)\n",
    "    print(search_url)\n",
    "    links = getLinksEurActiv(search_url)\n",
    "    article_links.extend(links)\n",
    "    article_links = list(set(article_links))\n",
    "    \n",
    "    for link in article_links:\n",
    "        d, t, raw_text, author = NewspaperParse(link, 'none')\n",
    "        if d != 'none':\n",
    "            if d in euractiv_dic:\n",
    "                euractiv_dic[d].append([(author, t, raw_text)])\n",
    "            else:\n",
    "                euractiv_dic[d] = [(author, t, raw_text)]\n",
    "    \n",
    "\n"
   ]
  },
  {
   "cell_type": "code",
   "execution_count": 118,
   "metadata": {
    "collapsed": false
   },
   "outputs": [
    {
     "name": "stdout",
     "output_type": "stream",
     "text": [
      "  % Total    % Received % Xferd  Average Speed   Time    Time     Time  Current\n",
      "                                 Dload  Upload   Total   Spent    Left  Speed\n",
      "100 31656  100 31656    0     0  38823      0 --:--:-- --:--:-- --:--:-- 38794\n"
     ]
    }
   ],
   "source": [
    "'http://content.guardianapis.com/search?section=business&from-date=2001-01-01&page-size=161&q=vitor%20constancio&api-key=458f61b9-2ff0-4a3f-98a1-feff65660ca6'"
   ]
  },
  {
   "cell_type": "code",
   "execution_count": 119,
   "metadata": {
    "collapsed": true
   },
   "outputs": [],
   "source": [
    "r = requests.get('http://content.guardianapis.com/search?section=business&from-date=2001-01-01&page-size=161&q=vitor%20constancio&api-key=458f61b9-2ff0-4a3f-98a1-feff65660ca6')"
   ]
  },
  {
   "cell_type": "code",
   "execution_count": 6,
   "metadata": {
    "collapsed": false
   },
   "outputs": [],
   "source": [
    "import json\n",
    "\n",
    "with open('../data/guardian.json') as data_file:    \n",
    "    guardian_results = json.load(data_file)"
   ]
  },
  {
   "cell_type": "code",
   "execution_count": 14,
   "metadata": {
    "collapsed": false
   },
   "outputs": [],
   "source": [
    "text = guardian_results['2016-08-05'][0][2]"
   ]
  },
  {
   "cell_type": "code",
   "execution_count": 15,
   "metadata": {
    "collapsed": false
   },
   "outputs": [
    {
     "ename": "FileNotFoundError",
     "evalue": "[Errno 2] No such file or directory: '/Users/hannahdeen/anaconda3/lib/python3.5/site-packages/protobuf-3.0.0.dist-info/METADATA'",
     "output_type": "error",
     "traceback": [
      "\u001b[0;31m---------------------------------------------------------------------------\u001b[0m",
      "\u001b[0;31mAttributeError\u001b[0m                            Traceback (most recent call last)",
      "\u001b[0;32m/Users/hannahdeen/anaconda3/lib/python3.5/site-packages/pkg_resources/__init__.py\u001b[0m in \u001b[0;36m_dep_map\u001b[0;34m(self)\u001b[0m\n\u001b[1;32m   2769\u001b[0m         \u001b[0mtake\u001b[0m \u001b[0man\u001b[0m \u001b[0mextra\u001b[0m \u001b[0mstep\u001b[0m \u001b[0;32mand\u001b[0m \u001b[0;32mtry\u001b[0m \u001b[0mto\u001b[0m \u001b[0mget\u001b[0m \u001b[0mthe\u001b[0m \u001b[0mversion\u001b[0m \u001b[0mnumber\u001b[0m \u001b[0;32mfrom\u001b[0m\u001b[0;34m\u001b[0m\u001b[0m\n\u001b[0;32m-> 2770\u001b[0;31m         \u001b[0mthe\u001b[0m \u001b[0mmetadata\u001b[0m \u001b[0mfile\u001b[0m \u001b[0mitself\u001b[0m \u001b[0minstead\u001b[0m \u001b[0mof\u001b[0m \u001b[0mthe\u001b[0m \u001b[0mfilename\u001b[0m\u001b[0;34m.\u001b[0m\u001b[0;34m\u001b[0m\u001b[0m\n\u001b[0m\u001b[1;32m   2771\u001b[0m         \"\"\"\n",
      "\u001b[0;32m/Users/hannahdeen/anaconda3/lib/python3.5/site-packages/pkg_resources/__init__.py\u001b[0m in \u001b[0;36m__getattr__\u001b[0;34m(self, attr)\u001b[0m\n\u001b[1;32m   2579\u001b[0m     \u001b[0;32mdef\u001b[0m \u001b[0megg_name\u001b[0m\u001b[0;34m(\u001b[0m\u001b[0mself\u001b[0m\u001b[0;34m)\u001b[0m\u001b[0;34m:\u001b[0m\u001b[0;34m\u001b[0m\u001b[0m\n\u001b[0;32m-> 2580\u001b[0;31m         \u001b[0;34m\"\"\"Return what this distribution's standard .egg filename should be\"\"\"\u001b[0m\u001b[0;34m\u001b[0m\u001b[0m\n\u001b[0m\u001b[1;32m   2581\u001b[0m         filename = \"%s-%s-py%s\" % (\n",
      "\u001b[0;31mAttributeError\u001b[0m: _DistInfoDistribution__dep_map",
      "\nDuring handling of the above exception, another exception occurred:\n",
      "\u001b[0;31mAttributeError\u001b[0m                            Traceback (most recent call last)",
      "\u001b[0;32m/Users/hannahdeen/anaconda3/lib/python3.5/site-packages/pkg_resources/__init__.py\u001b[0m in \u001b[0;36m_parsed_pkg_info\u001b[0;34m(self)\u001b[0m\n\u001b[1;32m   2760\u001b[0m     \u001b[0;32mdef\u001b[0m \u001b[0m_reload_version\u001b[0m\u001b[0;34m(\u001b[0m\u001b[0mself\u001b[0m\u001b[0;34m)\u001b[0m\u001b[0;34m:\u001b[0m\u001b[0;34m\u001b[0m\u001b[0m\n\u001b[0;32m-> 2761\u001b[0;31m         \"\"\"\n\u001b[0m\u001b[1;32m   2762\u001b[0m         \u001b[0mPackages\u001b[0m \u001b[0minstalled\u001b[0m \u001b[0mby\u001b[0m \u001b[0mdistutils\u001b[0m \u001b[0;34m(\u001b[0m\u001b[0me\u001b[0m\u001b[0;34m.\u001b[0m\u001b[0mg\u001b[0m\u001b[0;34m.\u001b[0m \u001b[0mnumpy\u001b[0m \u001b[0;32mor\u001b[0m \u001b[0mscipy\u001b[0m\u001b[0;34m)\u001b[0m\u001b[0;34m,\u001b[0m\u001b[0;34m\u001b[0m\u001b[0m\n",
      "\u001b[0;32m/Users/hannahdeen/anaconda3/lib/python3.5/site-packages/pkg_resources/__init__.py\u001b[0m in \u001b[0;36m__getattr__\u001b[0;34m(self, attr)\u001b[0m\n\u001b[1;32m   2579\u001b[0m     \u001b[0;32mdef\u001b[0m \u001b[0megg_name\u001b[0m\u001b[0;34m(\u001b[0m\u001b[0mself\u001b[0m\u001b[0;34m)\u001b[0m\u001b[0;34m:\u001b[0m\u001b[0;34m\u001b[0m\u001b[0m\n\u001b[0;32m-> 2580\u001b[0;31m         \u001b[0;34m\"\"\"Return what this distribution's standard .egg filename should be\"\"\"\u001b[0m\u001b[0;34m\u001b[0m\u001b[0m\n\u001b[0m\u001b[1;32m   2581\u001b[0m         filename = \"%s-%s-py%s\" % (\n",
      "\u001b[0;31mAttributeError\u001b[0m: _pkg_info",
      "\nDuring handling of the above exception, another exception occurred:\n",
      "\u001b[0;31mFileNotFoundError\u001b[0m                         Traceback (most recent call last)",
      "\u001b[0;32m<ipython-input-15-cc251d8f950f>\u001b[0m in \u001b[0;36m<module>\u001b[0;34m()\u001b[0m\n\u001b[0;32m----> 1\u001b[0;31m \u001b[0;32mfrom\u001b[0m \u001b[0mgoogle\u001b[0m\u001b[0;34m.\u001b[0m\u001b[0mcloud\u001b[0m \u001b[0;32mimport\u001b[0m \u001b[0mlanguage\u001b[0m\u001b[0;34m\u001b[0m\u001b[0m\n\u001b[0m\u001b[1;32m      2\u001b[0m \u001b[0;34m\u001b[0m\u001b[0m\n\u001b[1;32m      3\u001b[0m \u001b[0mlanguage_client\u001b[0m \u001b[0;34m=\u001b[0m \u001b[0mlanguage\u001b[0m\u001b[0;34m.\u001b[0m\u001b[0mClient\u001b[0m\u001b[0;34m(\u001b[0m\u001b[0;34m)\u001b[0m\u001b[0;34m\u001b[0m\u001b[0m\n\u001b[1;32m      4\u001b[0m \u001b[0mdocument\u001b[0m \u001b[0;34m=\u001b[0m \u001b[0mlanguage_client\u001b[0m\u001b[0;34m.\u001b[0m\u001b[0mdocument_from_text\u001b[0m\u001b[0;34m(\u001b[0m\u001b[0mtext\u001b[0m\u001b[0;34m)\u001b[0m\u001b[0;34m\u001b[0m\u001b[0m\n\u001b[1;32m      5\u001b[0m \u001b[0msentiment\u001b[0m \u001b[0;34m=\u001b[0m \u001b[0mdocument\u001b[0m\u001b[0;34m.\u001b[0m\u001b[0manalyze_sentiment\u001b[0m\u001b[0;34m(\u001b[0m\u001b[0;34m)\u001b[0m\u001b[0;34m\u001b[0m\u001b[0m\n",
      "\u001b[0;32m/Users/hannahdeen/anaconda3/lib/python3.5/site-packages/google/cloud/language/__init__.py\u001b[0m in \u001b[0;36m<module>\u001b[0;34m()\u001b[0m\n\u001b[1;32m     16\u001b[0m \u001b[0;34m\u001b[0m\u001b[0m\n\u001b[1;32m     17\u001b[0m \u001b[0;34m\u001b[0m\u001b[0m\n\u001b[0;32m---> 18\u001b[0;31m \u001b[0;32mfrom\u001b[0m \u001b[0mgoogle\u001b[0m\u001b[0;34m.\u001b[0m\u001b[0mcloud\u001b[0m\u001b[0;34m.\u001b[0m\u001b[0mlanguage\u001b[0m\u001b[0;34m.\u001b[0m\u001b[0mclient\u001b[0m \u001b[0;32mimport\u001b[0m \u001b[0mClient\u001b[0m\u001b[0;34m\u001b[0m\u001b[0m\n\u001b[0m\u001b[1;32m     19\u001b[0m \u001b[0;32mfrom\u001b[0m \u001b[0mgoogle\u001b[0m\u001b[0;34m.\u001b[0m\u001b[0mcloud\u001b[0m\u001b[0;34m.\u001b[0m\u001b[0mlanguage\u001b[0m\u001b[0;34m.\u001b[0m\u001b[0mdocument\u001b[0m \u001b[0;32mimport\u001b[0m \u001b[0mDocument\u001b[0m\u001b[0;34m\u001b[0m\u001b[0m\n\u001b[1;32m     20\u001b[0m \u001b[0;32mfrom\u001b[0m \u001b[0mgoogle\u001b[0m\u001b[0;34m.\u001b[0m\u001b[0mcloud\u001b[0m\u001b[0;34m.\u001b[0m\u001b[0mlanguage\u001b[0m\u001b[0;34m.\u001b[0m\u001b[0mdocument\u001b[0m \u001b[0;32mimport\u001b[0m \u001b[0mEncoding\u001b[0m\u001b[0;34m\u001b[0m\u001b[0m\n",
      "\u001b[0;32m/Users/hannahdeen/anaconda3/lib/python3.5/site-packages/google/cloud/language/client.py\u001b[0m in \u001b[0;36m<module>\u001b[0;34m()\u001b[0m\n\u001b[1;32m     16\u001b[0m \u001b[0;34m\u001b[0m\u001b[0m\n\u001b[1;32m     17\u001b[0m \u001b[0;34m\u001b[0m\u001b[0m\n\u001b[0;32m---> 18\u001b[0;31m \u001b[0;32mfrom\u001b[0m \u001b[0mgoogle\u001b[0m\u001b[0;34m.\u001b[0m\u001b[0mcloud\u001b[0m \u001b[0;32mimport\u001b[0m \u001b[0mclient\u001b[0m \u001b[0;32mas\u001b[0m \u001b[0mclient_module\u001b[0m\u001b[0;34m\u001b[0m\u001b[0m\n\u001b[0m\u001b[1;32m     19\u001b[0m \u001b[0;32mfrom\u001b[0m \u001b[0mgoogle\u001b[0m\u001b[0;34m.\u001b[0m\u001b[0mcloud\u001b[0m\u001b[0;34m.\u001b[0m\u001b[0mlanguage\u001b[0m\u001b[0;34m.\u001b[0m\u001b[0mconnection\u001b[0m \u001b[0;32mimport\u001b[0m \u001b[0mConnection\u001b[0m\u001b[0;34m\u001b[0m\u001b[0m\n\u001b[1;32m     20\u001b[0m \u001b[0;32mfrom\u001b[0m \u001b[0mgoogle\u001b[0m\u001b[0;34m.\u001b[0m\u001b[0mcloud\u001b[0m\u001b[0;34m.\u001b[0m\u001b[0mlanguage\u001b[0m\u001b[0;34m.\u001b[0m\u001b[0mdocument\u001b[0m \u001b[0;32mimport\u001b[0m \u001b[0mDocument\u001b[0m\u001b[0;34m\u001b[0m\u001b[0m\n",
      "\u001b[0;32m/Users/hannahdeen/anaconda3/lib/python3.5/site-packages/google/cloud/client.py\u001b[0m in \u001b[0;36m<module>\u001b[0;34m()\u001b[0m\n\u001b[1;32m     20\u001b[0m \u001b[0;34m\u001b[0m\u001b[0m\n\u001b[1;32m     21\u001b[0m \u001b[0;32mfrom\u001b[0m \u001b[0mgoogle\u001b[0m\u001b[0;34m.\u001b[0m\u001b[0mcloud\u001b[0m\u001b[0;34m.\u001b[0m\u001b[0m_helpers\u001b[0m \u001b[0;32mimport\u001b[0m \u001b[0m_determine_default_project\u001b[0m\u001b[0;34m\u001b[0m\u001b[0m\n\u001b[0;32m---> 22\u001b[0;31m \u001b[0;32mfrom\u001b[0m \u001b[0mgoogle\u001b[0m\u001b[0;34m.\u001b[0m\u001b[0mcloud\u001b[0m\u001b[0;34m.\u001b[0m\u001b[0m_http\u001b[0m \u001b[0;32mimport\u001b[0m \u001b[0mConnection\u001b[0m\u001b[0;34m\u001b[0m\u001b[0m\n\u001b[0m\u001b[1;32m     23\u001b[0m \u001b[0;32mfrom\u001b[0m \u001b[0mgoogle\u001b[0m\u001b[0;34m.\u001b[0m\u001b[0mcloud\u001b[0m\u001b[0;34m.\u001b[0m\u001b[0mcredentials\u001b[0m \u001b[0;32mimport\u001b[0m \u001b[0mget_credentials\u001b[0m\u001b[0;34m\u001b[0m\u001b[0m\n\u001b[1;32m     24\u001b[0m \u001b[0;34m\u001b[0m\u001b[0m\n",
      "\u001b[0;32m/Users/hannahdeen/anaconda3/lib/python3.5/site-packages/google/cloud/_http.py\u001b[0m in \u001b[0;36m<module>\u001b[0;34m()\u001b[0m\n\u001b[1;32m     31\u001b[0m \u001b[0;34m\u001b[0m\u001b[0m\n\u001b[1;32m     32\u001b[0m DEFAULT_USER_AGENT = 'gcloud-python/{0}'.format(\n\u001b[0;32m---> 33\u001b[0;31m     get_distribution('google-cloud-core').version)\n\u001b[0m\u001b[1;32m     34\u001b[0m \u001b[0;34m\"\"\"The user agent for google-cloud-python requests.\"\"\"\u001b[0m\u001b[0;34m\u001b[0m\u001b[0m\n\u001b[1;32m     35\u001b[0m \u001b[0;34m\u001b[0m\u001b[0m\n",
      "\u001b[0;32m/Users/hannahdeen/anaconda3/lib/python3.5/site-packages/pkg_resources/__init__.py\u001b[0m in \u001b[0;36mget_distribution\u001b[0;34m(dist)\u001b[0m\n\u001b[1;32m    557\u001b[0m \u001b[0;34m\u001b[0m\u001b[0m\n\u001b[1;32m    558\u001b[0m \u001b[0;34m\u001b[0m\u001b[0m\n\u001b[0;32m--> 559\u001b[0;31m \u001b[0;32mdef\u001b[0m \u001b[0mload_entry_point\u001b[0m\u001b[0;34m(\u001b[0m\u001b[0mdist\u001b[0m\u001b[0;34m,\u001b[0m \u001b[0mgroup\u001b[0m\u001b[0;34m,\u001b[0m \u001b[0mname\u001b[0m\u001b[0;34m)\u001b[0m\u001b[0;34m:\u001b[0m\u001b[0;34m\u001b[0m\u001b[0m\n\u001b[0m\u001b[1;32m    560\u001b[0m     \u001b[0;34m\"\"\"Return `name` entry point of `group` for `dist` or raise ImportError\"\"\"\u001b[0m\u001b[0;34m\u001b[0m\u001b[0m\n\u001b[1;32m    561\u001b[0m     \u001b[0;32mreturn\u001b[0m \u001b[0mget_distribution\u001b[0m\u001b[0;34m(\u001b[0m\u001b[0mdist\u001b[0m\u001b[0;34m)\u001b[0m\u001b[0;34m.\u001b[0m\u001b[0mload_entry_point\u001b[0m\u001b[0;34m(\u001b[0m\u001b[0mgroup\u001b[0m\u001b[0;34m,\u001b[0m \u001b[0mname\u001b[0m\u001b[0;34m)\u001b[0m\u001b[0;34m\u001b[0m\u001b[0m\n",
      "\u001b[0;32m/Users/hannahdeen/anaconda3/lib/python3.5/site-packages/pkg_resources/__init__.py\u001b[0m in \u001b[0;36mget_provider\u001b[0;34m(moduleOrReq)\u001b[0m\n\u001b[1;32m    431\u001b[0m         \u001b[0m__import__\u001b[0m\u001b[0;34m(\u001b[0m\u001b[0mmoduleOrReq\u001b[0m\u001b[0;34m)\u001b[0m\u001b[0;34m\u001b[0m\u001b[0m\n\u001b[1;32m    432\u001b[0m         \u001b[0mmodule\u001b[0m \u001b[0;34m=\u001b[0m \u001b[0msys\u001b[0m\u001b[0;34m.\u001b[0m\u001b[0mmodules\u001b[0m\u001b[0;34m[\u001b[0m\u001b[0mmoduleOrReq\u001b[0m\u001b[0;34m]\u001b[0m\u001b[0;34m\u001b[0m\u001b[0m\n\u001b[0;32m--> 433\u001b[0;31m     \u001b[0mloader\u001b[0m \u001b[0;34m=\u001b[0m \u001b[0mgetattr\u001b[0m\u001b[0;34m(\u001b[0m\u001b[0mmodule\u001b[0m\u001b[0;34m,\u001b[0m \u001b[0;34m'__loader__'\u001b[0m\u001b[0;34m,\u001b[0m \u001b[0;32mNone\u001b[0m\u001b[0;34m)\u001b[0m\u001b[0;34m\u001b[0m\u001b[0m\n\u001b[0m\u001b[1;32m    434\u001b[0m     \u001b[0;32mreturn\u001b[0m \u001b[0m_find_adapter\u001b[0m\u001b[0;34m(\u001b[0m\u001b[0m_provider_factories\u001b[0m\u001b[0;34m,\u001b[0m \u001b[0mloader\u001b[0m\u001b[0;34m)\u001b[0m\u001b[0;34m(\u001b[0m\u001b[0mmodule\u001b[0m\u001b[0;34m)\u001b[0m\u001b[0;34m\u001b[0m\u001b[0m\n\u001b[1;32m    435\u001b[0m \u001b[0;34m\u001b[0m\u001b[0m\n",
      "\u001b[0;32m/Users/hannahdeen/anaconda3/lib/python3.5/site-packages/pkg_resources/__init__.py\u001b[0m in \u001b[0;36mrequire\u001b[0;34m(self, *requirements)\u001b[0m\n\u001b[1;32m    968\u001b[0m         \u001b[0;32mreturn\u001b[0m \u001b[0mneeded\u001b[0m\u001b[0;34m\u001b[0m\u001b[0m\n\u001b[1;32m    969\u001b[0m \u001b[0;34m\u001b[0m\u001b[0m\n\u001b[0;32m--> 970\u001b[0;31m     \u001b[0;32mdef\u001b[0m \u001b[0msubscribe\u001b[0m\u001b[0;34m(\u001b[0m\u001b[0mself\u001b[0m\u001b[0;34m,\u001b[0m \u001b[0mcallback\u001b[0m\u001b[0;34m,\u001b[0m \u001b[0mexisting\u001b[0m\u001b[0;34m=\u001b[0m\u001b[0;32mTrue\u001b[0m\u001b[0;34m)\u001b[0m\u001b[0;34m:\u001b[0m\u001b[0;34m\u001b[0m\u001b[0m\n\u001b[0m\u001b[1;32m    971\u001b[0m         \"\"\"Invoke `callback` for all distributions\n\u001b[1;32m    972\u001b[0m \u001b[0;34m\u001b[0m\u001b[0m\n",
      "\u001b[0;32m/Users/hannahdeen/anaconda3/lib/python3.5/site-packages/pkg_resources/__init__.py\u001b[0m in \u001b[0;36mresolve\u001b[0;34m(self, requirements, env, installer, replace_conflicting)\u001b[0m\n\u001b[1;32m    862\u001b[0m                 \u001b[0mrequired_by\u001b[0m\u001b[0;34m[\u001b[0m\u001b[0mnew_requirement\u001b[0m\u001b[0;34m]\u001b[0m\u001b[0;34m.\u001b[0m\u001b[0madd\u001b[0m\u001b[0;34m(\u001b[0m\u001b[0mreq\u001b[0m\u001b[0;34m.\u001b[0m\u001b[0mproject_name\u001b[0m\u001b[0;34m)\u001b[0m\u001b[0;34m\u001b[0m\u001b[0m\n\u001b[1;32m    863\u001b[0m                 \u001b[0mreq_extras\u001b[0m\u001b[0;34m[\u001b[0m\u001b[0mnew_requirement\u001b[0m\u001b[0;34m]\u001b[0m \u001b[0;34m=\u001b[0m \u001b[0mreq\u001b[0m\u001b[0;34m.\u001b[0m\u001b[0mextras\u001b[0m\u001b[0;34m\u001b[0m\u001b[0m\n\u001b[0;32m--> 864\u001b[0;31m \u001b[0;34m\u001b[0m\u001b[0m\n\u001b[0m\u001b[1;32m    865\u001b[0m             \u001b[0mprocessed\u001b[0m\u001b[0;34m[\u001b[0m\u001b[0mreq\u001b[0m\u001b[0;34m]\u001b[0m \u001b[0;34m=\u001b[0m \u001b[0;32mTrue\u001b[0m\u001b[0;34m\u001b[0m\u001b[0m\n\u001b[1;32m    866\u001b[0m \u001b[0;34m\u001b[0m\u001b[0m\n",
      "\u001b[0;32m/Users/hannahdeen/anaconda3/lib/python3.5/site-packages/pkg_resources/__init__.py\u001b[0m in \u001b[0;36mrequires\u001b[0;34m(self, extras)\u001b[0m\n\u001b[1;32m   2522\u001b[0m         \u001b[0;32mexcept\u001b[0m \u001b[0mAttributeError\u001b[0m\u001b[0;34m:\u001b[0m\u001b[0;34m\u001b[0m\u001b[0m\n\u001b[1;32m   2523\u001b[0m             \u001b[0mversion\u001b[0m \u001b[0;34m=\u001b[0m \u001b[0m_version_from_file\u001b[0m\u001b[0;34m(\u001b[0m\u001b[0mself\u001b[0m\u001b[0;34m.\u001b[0m\u001b[0m_get_metadata\u001b[0m\u001b[0;34m(\u001b[0m\u001b[0mself\u001b[0m\u001b[0;34m.\u001b[0m\u001b[0mPKG_INFO\u001b[0m\u001b[0;34m)\u001b[0m\u001b[0;34m)\u001b[0m\u001b[0;34m\u001b[0m\u001b[0m\n\u001b[0;32m-> 2524\u001b[0;31m             \u001b[0;32mif\u001b[0m \u001b[0mversion\u001b[0m \u001b[0;32mis\u001b[0m \u001b[0;32mNone\u001b[0m\u001b[0;34m:\u001b[0m\u001b[0;34m\u001b[0m\u001b[0m\n\u001b[0m\u001b[1;32m   2525\u001b[0m                 \u001b[0mtmpl\u001b[0m \u001b[0;34m=\u001b[0m \u001b[0;34m\"Missing 'Version:' header and/or %s file\"\u001b[0m\u001b[0;34m\u001b[0m\u001b[0m\n\u001b[1;32m   2526\u001b[0m                 \u001b[0;32mraise\u001b[0m \u001b[0mValueError\u001b[0m\u001b[0;34m(\u001b[0m\u001b[0mtmpl\u001b[0m \u001b[0;34m%\u001b[0m \u001b[0mself\u001b[0m\u001b[0;34m.\u001b[0m\u001b[0mPKG_INFO\u001b[0m\u001b[0;34m,\u001b[0m \u001b[0mself\u001b[0m\u001b[0;34m)\u001b[0m\u001b[0;34m\u001b[0m\u001b[0m\n",
      "\u001b[0;32m/Users/hannahdeen/anaconda3/lib/python3.5/site-packages/pkg_resources/__init__.py\u001b[0m in \u001b[0;36m_dep_map\u001b[0;34m(self)\u001b[0m\n\u001b[1;32m   2770\u001b[0m         \u001b[0mthe\u001b[0m \u001b[0mmetadata\u001b[0m \u001b[0mfile\u001b[0m \u001b[0mitself\u001b[0m \u001b[0minstead\u001b[0m \u001b[0mof\u001b[0m \u001b[0mthe\u001b[0m \u001b[0mfilename\u001b[0m\u001b[0;34m.\u001b[0m\u001b[0;34m\u001b[0m\u001b[0m\n\u001b[1;32m   2771\u001b[0m         \"\"\"\n\u001b[0;32m-> 2772\u001b[0;31m         \u001b[0mmd_version\u001b[0m \u001b[0;34m=\u001b[0m \u001b[0m_version_from_file\u001b[0m\u001b[0;34m(\u001b[0m\u001b[0mself\u001b[0m\u001b[0;34m.\u001b[0m\u001b[0m_get_metadata\u001b[0m\u001b[0;34m(\u001b[0m\u001b[0mself\u001b[0m\u001b[0;34m.\u001b[0m\u001b[0mPKG_INFO\u001b[0m\u001b[0;34m)\u001b[0m\u001b[0;34m)\u001b[0m\u001b[0;34m\u001b[0m\u001b[0m\n\u001b[0m\u001b[1;32m   2773\u001b[0m         \u001b[0;32mif\u001b[0m \u001b[0mmd_version\u001b[0m\u001b[0;34m:\u001b[0m\u001b[0;34m\u001b[0m\u001b[0m\n\u001b[1;32m   2774\u001b[0m             \u001b[0mself\u001b[0m\u001b[0;34m.\u001b[0m\u001b[0m_version\u001b[0m \u001b[0;34m=\u001b[0m \u001b[0mmd_version\u001b[0m\u001b[0;34m\u001b[0m\u001b[0m\n",
      "\u001b[0;32m/Users/hannahdeen/anaconda3/lib/python3.5/site-packages/pkg_resources/__init__.py\u001b[0m in \u001b[0;36m_compute_dependencies\u001b[0;34m(self)\u001b[0m\n\u001b[1;32m   2779\u001b[0m     \u001b[0;34m\"\"\"Wrap an actual or potential sys.path entry w/metadata, .dist-info style\"\"\"\u001b[0m\u001b[0;34m\u001b[0m\u001b[0m\n\u001b[1;32m   2780\u001b[0m     \u001b[0mPKG_INFO\u001b[0m \u001b[0;34m=\u001b[0m \u001b[0;34m'METADATA'\u001b[0m\u001b[0;34m\u001b[0m\u001b[0m\n\u001b[0;32m-> 2781\u001b[0;31m     \u001b[0mEQEQ\u001b[0m \u001b[0;34m=\u001b[0m \u001b[0mre\u001b[0m\u001b[0;34m.\u001b[0m\u001b[0mcompile\u001b[0m\u001b[0;34m(\u001b[0m\u001b[0;34mr\"([\\(,])\\s*(\\d.*?)\\s*([,\\)])\"\u001b[0m\u001b[0;34m)\u001b[0m\u001b[0;34m\u001b[0m\u001b[0m\n\u001b[0m\u001b[1;32m   2782\u001b[0m \u001b[0;34m\u001b[0m\u001b[0m\n\u001b[1;32m   2783\u001b[0m     \u001b[0;34m@\u001b[0m\u001b[0mproperty\u001b[0m\u001b[0;34m\u001b[0m\u001b[0m\n",
      "\u001b[0;32m/Users/hannahdeen/anaconda3/lib/python3.5/site-packages/pkg_resources/__init__.py\u001b[0m in \u001b[0;36m_parsed_pkg_info\u001b[0;34m(self)\u001b[0m\n\u001b[1;32m   2761\u001b[0m         \"\"\"\n\u001b[1;32m   2762\u001b[0m         \u001b[0mPackages\u001b[0m \u001b[0minstalled\u001b[0m \u001b[0mby\u001b[0m \u001b[0mdistutils\u001b[0m \u001b[0;34m(\u001b[0m\u001b[0me\u001b[0m\u001b[0;34m.\u001b[0m\u001b[0mg\u001b[0m\u001b[0;34m.\u001b[0m \u001b[0mnumpy\u001b[0m \u001b[0;32mor\u001b[0m \u001b[0mscipy\u001b[0m\u001b[0;34m)\u001b[0m\u001b[0;34m,\u001b[0m\u001b[0;34m\u001b[0m\u001b[0m\n\u001b[0;32m-> 2763\u001b[0;31m         \u001b[0mwhich\u001b[0m \u001b[0muses\u001b[0m \u001b[0man\u001b[0m \u001b[0mold\u001b[0m \u001b[0msafe_version\u001b[0m\u001b[0;34m,\u001b[0m \u001b[0;32mand\u001b[0m \u001b[0mso\u001b[0m\u001b[0;34m\u001b[0m\u001b[0m\n\u001b[0m\u001b[1;32m   2764\u001b[0m         \u001b[0mtheir\u001b[0m \u001b[0mversion\u001b[0m \u001b[0mnumbers\u001b[0m \u001b[0mcan\u001b[0m \u001b[0mget\u001b[0m \u001b[0mmangled\u001b[0m \u001b[0mwhen\u001b[0m\u001b[0;34m\u001b[0m\u001b[0m\n\u001b[1;32m   2765\u001b[0m         converted to filenames (e.g., 1.11.0.dev0+2329eae to\n",
      "\u001b[0;32m/Users/hannahdeen/anaconda3/lib/python3.5/site-packages/pkg_resources/__init__.py\u001b[0m in \u001b[0;36mget_metadata\u001b[0;34m(self, name)\u001b[0m\n\u001b[1;32m   1468\u001b[0m \u001b[0;34m\u001b[0m\u001b[0m\n\u001b[1;32m   1469\u001b[0m     \u001b[0;32mdef\u001b[0m \u001b[0mresource_isdir\u001b[0m\u001b[0;34m(\u001b[0m\u001b[0mself\u001b[0m\u001b[0;34m,\u001b[0m \u001b[0mresource_name\u001b[0m\u001b[0;34m)\u001b[0m\u001b[0;34m:\u001b[0m\u001b[0;34m\u001b[0m\u001b[0m\n\u001b[0;32m-> 1470\u001b[0;31m         \u001b[0;32mreturn\u001b[0m \u001b[0mself\u001b[0m\u001b[0;34m.\u001b[0m\u001b[0m_isdir\u001b[0m\u001b[0;34m(\u001b[0m\u001b[0mself\u001b[0m\u001b[0;34m.\u001b[0m\u001b[0m_fn\u001b[0m\u001b[0;34m(\u001b[0m\u001b[0mself\u001b[0m\u001b[0;34m.\u001b[0m\u001b[0mmodule_path\u001b[0m\u001b[0;34m,\u001b[0m \u001b[0mresource_name\u001b[0m\u001b[0;34m)\u001b[0m\u001b[0;34m)\u001b[0m\u001b[0;34m\u001b[0m\u001b[0m\n\u001b[0m\u001b[1;32m   1471\u001b[0m \u001b[0;34m\u001b[0m\u001b[0m\n\u001b[1;32m   1472\u001b[0m     \u001b[0;32mdef\u001b[0m \u001b[0mmetadata_isdir\u001b[0m\u001b[0;34m(\u001b[0m\u001b[0mself\u001b[0m\u001b[0;34m,\u001b[0m \u001b[0mname\u001b[0m\u001b[0;34m)\u001b[0m\u001b[0;34m:\u001b[0m\u001b[0;34m\u001b[0m\u001b[0m\n",
      "\u001b[0;32m/Users/hannahdeen/anaconda3/lib/python3.5/site-packages/pkg_resources/__init__.py\u001b[0m in \u001b[0;36m_get\u001b[0;34m(self, path)\u001b[0m\n\u001b[1;32m   1577\u001b[0m         loader_cls = getattr(importlib_machinery, 'SourceFileLoader',\n\u001b[1;32m   1578\u001b[0m             type(None))\n\u001b[0;32m-> 1579\u001b[0;31m         \u001b[0mregister_loader_type\u001b[0m\u001b[0;34m(\u001b[0m\u001b[0mloader_cls\u001b[0m\u001b[0;34m,\u001b[0m \u001b[0mcls\u001b[0m\u001b[0;34m)\u001b[0m\u001b[0;34m\u001b[0m\u001b[0m\n\u001b[0m\u001b[1;32m   1580\u001b[0m \u001b[0;34m\u001b[0m\u001b[0m\n\u001b[1;32m   1581\u001b[0m \u001b[0;34m\u001b[0m\u001b[0m\n",
      "\u001b[0;31mFileNotFoundError\u001b[0m: [Errno 2] No such file or directory: '/Users/hannahdeen/anaconda3/lib/python3.5/site-packages/protobuf-3.0.0.dist-info/METADATA'"
     ]
    }
   ],
   "source": [
    "from google.cloud import language\n",
    "\n",
    "language_client = language.Client()\n",
    "document = language_client.document_from_text(text)\n",
    "sentiment = document.analyze_sentiment()\n",
    "entities = document.analyze_entities()\n",
    "\n",
    "print('sentiment: {}'.format(sentiment))\n",
    "print('entities: {}'.format(entities))"
   ]
  },
  {
   "cell_type": "code",
   "execution_count": null,
   "metadata": {
    "collapsed": true
   },
   "outputs": [],
   "source": []
  }
 ],
 "metadata": {
  "kernelspec": {
   "display_name": "Python 3",
   "language": "python",
   "name": "python3"
  },
  "language_info": {
   "codemirror_mode": {
    "name": "ipython",
    "version": 3
   },
   "file_extension": ".py",
   "mimetype": "text/x-python",
   "name": "python",
   "nbconvert_exporter": "python",
   "pygments_lexer": "ipython3",
   "version": "3.5.1"
  }
 },
 "nbformat": 4,
 "nbformat_minor": 0
}
