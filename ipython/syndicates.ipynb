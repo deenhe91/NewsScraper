{
 "cells": [
  {
   "cell_type": "markdown",
   "metadata": {},
   "source": [
    "#### Imports"
   ]
  },
  {
   "cell_type": "code",
   "execution_count": 1,
   "metadata": {
    "collapsed": false
   },
   "outputs": [],
   "source": [
    "from bs4 import BeautifulSoup\n",
    "import requests\n",
    "import re\n",
    "import json\n",
    "from newspaper import Article\n",
    "from datetime import datetime"
   ]
  },
  {
   "cell_type": "code",
   "execution_count": 116,
   "metadata": {
    "collapsed": true
   },
   "outputs": [],
   "source": [
    "members = ['mario draghi', 'vitor constancio', 'benoit coeure', 'yves mersche', 'sabine lautenschlager', 'peter praet']\n",
    "# representatives = ['luc coene', 'jens weidmann', 'patrick honohan', 'yannis stournaras', 'lui maria linde', 'ardo hansson',\n",
    "#                    'christian noyer', 'ignazio visco', ]"
   ]
  },
  {
   "cell_type": "markdown",
   "metadata": {},
   "source": [
    "#### Grab homepages, search from there\n",
    "start:\n",
    "- project Syndicate\n",
    "- WorldCrunch\n",
    "- Eurozine"
   ]
  },
  {
   "cell_type": "code",
   "execution_count": 39,
   "metadata": {
    "collapsed": false
   },
   "outputs": [],
   "source": [
    "sites = ['https://www.project-syndicate.org/', 'http://www.worldcrunch.com/business-finance', 'http://www.eurozine.com/']\n",
    "r = requests.get(sites[1])\n",
    "worldcrunch_soup = BeautifulSoup(r.text, 'lxml')"
   ]
  },
  {
   "cell_type": "code",
   "execution_count": 40,
   "metadata": {
    "collapsed": false
   },
   "outputs": [],
   "source": [
    "links = worldcrunch_soup.find_all('a')"
   ]
  },
  {
   "cell_type": "code",
   "execution_count": 41,
   "metadata": {
    "collapsed": false
   },
   "outputs": [
    {
     "name": "stdout",
     "output_type": "stream",
     "text": [
      "Number of links : 50\n",
      "Other links: 86\n"
     ]
    }
   ],
   "source": [
    "title = re.compile('[A-Z][\\w-]')\n",
    "\n",
    "article_links = []\n",
    "\n",
    "no_match = 0\n",
    "\n",
    "for link in links:\n",
    "    if title.match(link.text.strip()):\n",
    "        article_links.append(link)\n",
    "    else:\n",
    "        no_match += 1\n",
    "        \n",
    "print('Number of links : {}'.format(str(len(article_links))))\n",
    "print('Other links: {}'.format(str(no_match)))\n",
    "        "
   ]
  },
  {
   "cell_type": "markdown",
   "metadata": {},
   "source": [
    "## NOTE: have to do this multiple times to get to 29 links"
   ]
  },
  {
   "cell_type": "code",
   "execution_count": 44,
   "metadata": {
    "collapsed": false
   },
   "outputs": [
    {
     "name": "stdout",
     "output_type": "stream",
     "text": [
      "29\n"
     ]
    }
   ],
   "source": [
    "# stops = ['SUBSCRIBE', 'subscribe', 'Terms of Use', 'About Us', 'Privacy Policy']\n",
    "\n",
    "for link in article_links:\n",
    "    if len(link.text.split()) < 3:\n",
    "        article_links.remove(link)\n",
    "    elif '#' in str(link):\n",
    "        article_links.remove(link)\n",
    "\n",
    "print(len(article_links))"
   ]
  },
  {
   "cell_type": "markdown",
   "metadata": {},
   "source": [
    "#### use newspaper to extract articles from remaining links"
   ]
  },
  {
   "cell_type": "code",
   "execution_count": 46,
   "metadata": {
    "collapsed": false
   },
   "outputs": [],
   "source": [
    "base_url = 'http://www.worldcrunch.com/'\n",
    "\n",
    "def parseArticle(base_url, article_links):\n",
    "    \n",
    "    worldcrunch_dic = {}\n",
    "\n",
    "    for link in article_links[2:]:\n",
    "        url = base_url+link['href']\n",
    "        r = requests.get(url)\n",
    "        # Beautiful Soup\n",
    "        soup = BeautifulSoup(r.text, 'lxml')\n",
    "\n",
    "        try:\n",
    "            publish_date = soup.find(\"meta\", {\"name\":\"DISPLAYDATE\"})['content']\n",
    "            r_datetime = datetime.strptime(publish_date, '%Y-%m-%d %H:%M:%S')\n",
    "            d = datetime.strftime(r_datetime, '%Y-%m-%d')\n",
    "            t = datetime.strftime(r_datetime, '%H:%M:%S')\n",
    "            author = soup.find_all(\"p\", {\"class\":\"resize-auth\"})[0].find('a').text.strip()\n",
    "            raw_text = soup.find(\"div\", {\"class\":\"article-text\"}).text\n",
    "            if d in worldcrunch_dic:\n",
    "                worldcrunch_dic[d].append([author, t, raw_text])\n",
    "            else:\n",
    "                worldcrunch_dic[d] = [(author, t, raw_text)]\n",
    "        except:\n",
    "            pass\n",
    "    return worldcrunch_dic\n",
    "\n",
    "worldcrunch_dic = parseArticle(base_url, article_links)"
   ]
  },
  {
   "cell_type": "code",
   "execution_count": 48,
   "metadata": {
    "collapsed": false
   },
   "outputs": [],
   "source": [
    "\n",
    "with open('worldcrunch.json', 'w') as fp:\n",
    "    json.dump(worldcrunch_dic, fp)"
   ]
  },
  {
   "cell_type": "code",
   "execution_count": 50,
   "metadata": {
    "collapsed": false
   },
   "outputs": [
    {
     "data": {
      "text/plain": [
       "22"
      ]
     },
     "execution_count": 50,
     "metadata": {},
     "output_type": "execute_result"
    }
   ],
   "source": [
    "len(worldcrunch_dic.keys())"
   ]
  },
  {
   "cell_type": "markdown",
   "metadata": {},
   "source": [
    "#### Try methods for syndicate"
   ]
  },
  {
   "cell_type": "code",
   "execution_count": 192,
   "metadata": {
    "collapsed": false
   },
   "outputs": [],
   "source": [
    "search_url = 'https://www.project-syndicate.org/search?query=mario%20draghi&language=english&sortBy=publishedon&sortOrder=desc'\n",
    "base_url = 'https://www.project-syndicate.org'"
   ]
  },
  {
   "cell_type": "code",
   "execution_count": 177,
   "metadata": {
    "collapsed": true
   },
   "outputs": [],
   "source": [
    "r = requests.get(search_url)\n",
    "soup = BeautifulSoup(r.text, 'lxml')\n",
    "article_links = soup.find_all(\"section\", {\"class\":\"small-12 medium-12 large-7 columns search-results listing authors\"})[0].find_all('article', {\"class\":\"section economics \"})"
   ]
  },
  {
   "cell_type": "code",
   "execution_count": 77,
   "metadata": {
    "collapsed": false
   },
   "outputs": [],
   "source": [
    "def NewspaperParse(url, authors='authors'):\n",
    "    article = Article(url)   \n",
    "    article.download()\n",
    "    article.parse()\n",
    "    r_datetime = article.publish_date\n",
    "    d = datetime.strftime(r_datetime, '%Y-%m-%d')\n",
    "    t = datetime.strftime(r_datetime, '%H:%M:%S')\n",
    "    raw_text = article.text\n",
    "    if authors =='authors':\n",
    "        author = article.authors[0]\n",
    "    else:\n",
    "        author = 'none'\n",
    "    \n",
    "    return d, t, raw_text, author \n",
    "\n",
    "def PS_parse(base_url, article_links):\n",
    "    ps_dic = {}\n",
    "    for link in article_links:\n",
    "        ext = link.find(\"h2\").find('a')['href']\n",
    "        url = base_url + ext\n",
    "        dt, raw_text, author = NewspaperParse(url)\n",
    "        ps_dic[dt] = (author, raw_text)\n",
    "    return ps_dic\n",
    "\n",
    "# ps_dic = PS_parse(base_url, article_links)"
   ]
  },
  {
   "cell_type": "code",
   "execution_count": 310,
   "metadata": {
    "collapsed": true
   },
   "outputs": [],
   "source": [
    "with open('ps.json', 'w') as fp:\n",
    "    json.dump(ps_dic, fp)"
   ]
  },
  {
   "cell_type": "markdown",
   "metadata": {},
   "source": [
    "### BBC News"
   ]
  },
  {
   "cell_type": "code",
   "execution_count": 231,
   "metadata": {
    "collapsed": false
   },
   "outputs": [
    {
     "data": {
      "text/plain": [
       "'/news/business-38507368'"
      ]
     },
     "execution_count": 231,
     "metadata": {},
     "output_type": "execute_result"
    }
   ],
   "source": [
    "search_url = 'http://www.bbc.com/news/business'\n",
    "base_url ='http://www.bbc.com'\n",
    "\n",
    "r = requests.get(search_url)\n",
    "soup = BeautifulSoup(r.text, 'lxml')\n",
    "\n",
    "title_ext = soup.find('div',{\"class\":\"column--primary\"}).find('a', {\"class\":\"title-link\"})['href']\n"
   ]
  },
  {
   "cell_type": "code",
   "execution_count": 237,
   "metadata": {
    "collapsed": false
   },
   "outputs": [],
   "source": [
    "# soup.find_all('div', {\"class\":\"pigeon\"})"
   ]
  },
  {
   "cell_type": "code",
   "execution_count": 270,
   "metadata": {
    "collapsed": false
   },
   "outputs": [
    {
     "name": "stdout",
     "output_type": "stream",
     "text": [
      "http://www.bbc.co.uk/search?q=mario+draghi#page=1\n",
      "200\n",
      "http://www.bbc.co.uk/search?q=mario+draghi#page=2\n",
      "200\n",
      "http://www.bbc.co.uk/search?q=mario+draghi#page=3\n",
      "200\n",
      "http://www.bbc.co.uk/search?q=mario+draghi#page=4\n",
      "200\n",
      "http://www.bbc.co.uk/search?q=mario+draghi#page=5\n",
      "200\n",
      "http://www.bbc.co.uk/search?q=mario+draghi#page=6\n",
      "200\n",
      "http://www.bbc.co.uk/search?q=mario+draghi#page=7\n",
      "200\n",
      "http://www.bbc.co.uk/search?q=mario+draghi#page=8\n",
      "200\n",
      "http://www.bbc.co.uk/search?q=mario+draghi#page=9\n",
      "200\n",
      "http://www.bbc.co.uk/search?q=mario+draghi#page=10\n",
      "200\n",
      "http://www.bbc.co.uk/search?q=mario+draghi#page=11\n",
      "200\n",
      "http://www.bbc.co.uk/search?q=mario+draghi#page=12\n",
      "200\n",
      "http://www.bbc.co.uk/search?q=mario+draghi#page=13\n",
      "200\n",
      "http://www.bbc.co.uk/search?q=mario+draghi#page=14\n",
      "200\n",
      "http://www.bbc.co.uk/search?q=mario+draghi#page=15\n",
      "200\n",
      "http://www.bbc.co.uk/search?q=mario+draghi#page=16\n",
      "200\n",
      "http://www.bbc.co.uk/search?q=mario+draghi#page=17\n",
      "200\n",
      "http://www.bbc.co.uk/search?q=mario+draghi#page=18\n",
      "200\n",
      "http://www.bbc.co.uk/search?q=mario+draghi#page=19\n",
      "200\n"
     ]
    }
   ],
   "source": [
    "# search_url = 'http://www.bbc.co.uk/search?q=mario+draghi#page=20'\n",
    "result_list = []\n",
    "for i in range(1,20):\n",
    "    search_url = 'http://www.bbc.co.uk/search?q=mario+draghi#page={}'.format(str(i))\n",
    "    print(search_url)\n",
    "    r = requests.get(search_url)\n",
    "    print(r.status_code)\n",
    "    soup = BeautifulSoup(r.text, 'lxml')\n",
    "    results = soup.find_all(\"ol\", {\"class\":\"search-results results\"})\n",
    "    r_links = [[result['href'] for result in rs.find_all('a')] for rs in results]\n",
    "    result_list.extend(r_links)"
   ]
  },
  {
   "cell_type": "markdown",
   "metadata": {},
   "source": [
    "#### SELENIUM, return later"
   ]
  },
  {
   "cell_type": "code",
   "execution_count": 2,
   "metadata": {
    "collapsed": false
   },
   "outputs": [],
   "source": [
    "# from selenium.remote.webdriver import WebDriver"
   ]
  },
  {
   "cell_type": "code",
   "execution_count": 206,
   "metadata": {
    "collapsed": true
   },
   "outputs": [],
   "source": [
    "from selenium.webdriver.common.keys import Keys"
   ]
  },
  {
   "cell_type": "code",
   "execution_count": 225,
   "metadata": {
    "collapsed": false
   },
   "outputs": [],
   "source": [
    "import time\n",
    "import selenium.webdriver.chrome.service as service\n",
    "driver = webdriver.Chrome('/usr/local/chromedriver')"
   ]
  },
  {
   "cell_type": "code",
   "execution_count": 226,
   "metadata": {
    "collapsed": false
   },
   "outputs": [],
   "source": [
    "driver.get('https://www.google.co.uk/')"
   ]
  },
  {
   "cell_type": "code",
   "execution_count": 227,
   "metadata": {
    "collapsed": false
   },
   "outputs": [],
   "source": [
    "time.sleep(5)\n",
    "search_box = driver.find_element_by_name('q')\n",
    "search_box.send_keys('ChromeDriver')\n",
    "search_box.submit()\n",
    "time.sleep(5) # Let the user actually see something!\n",
    "driver.quit()"
   ]
  },
  {
   "cell_type": "markdown",
   "metadata": {},
   "source": [
    "### Gaurdian\n"
   ]
  },
  {
   "cell_type": "code",
   "execution_count": 293,
   "metadata": {
    "collapsed": false
   },
   "outputs": [],
   "source": [
    "import json\n",
    "\n",
    "with open('guardianresults.json') as data_file:    \n",
    "    guardian_results = json.load(data_file)"
   ]
  },
  {
   "cell_type": "code",
   "execution_count": 303,
   "metadata": {
    "collapsed": false
   },
   "outputs": [],
   "source": [
    "guardian_dic = {}\n",
    "\n",
    "for result in guardian_results['response']['results']:\n",
    "    if result['type'] == 'article':\n",
    "        url = result['webUrl']\n",
    "        \n",
    "        article = Article(url)\n",
    "        article.download()\n",
    "        article.parse()\n",
    "        raw_text = article.text\n",
    "        author = article.authors\n",
    "        r_datetime = article.publish_date\n",
    "        d = datetime.strftime(r_datetime, '%Y-%m-%d')\n",
    "        t = datetime.strftime(r_datetime, '%H:%M:%S')\n",
    "        if d in guardian_dic:\n",
    "            guardian_dic[d].extend([(author, t, raw_text)])\n",
    "        else:\n",
    "            guardian_dic[d] = [(author, t, raw_text)]\n",
    "        "
   ]
  },
  {
   "cell_type": "code",
   "execution_count": 307,
   "metadata": {
    "collapsed": false
   },
   "outputs": [
    {
     "data": {
      "text/plain": [
       "[(['Steve Boxer'],\n",
       "  '00:00:00',\n",
       "  'We can assume that David Cameron is a bit of a gamer, having been busted obsessively playing Fruit Ninja and Angry Birds in the past. So there is an outside chance that, finally, he might soften his government’s harsh, grudging response to the Syrian refugee crisis. Because one of the gaming world’s most famous characters – the moustachioed plumber Mario – has been co-opted into highlighting the plight of those attempting to flee from the Scylla and Charybdis of Isis and Bashar al-Assad.\\n\\nA Syrian artist, pseudonymously known as Samir al-Mutfi, has created Syrian Super Mario, a satirical video that is currently going viral, highlighting the horrors faced by Syrian refugees – by tweaking the 1985 video game Super Mario Bros. Mario has taken many forms over the decades, but this time he has become Refugee Mario. And instead of making his way to Bowser’s castle in order to rescue Princess Peach, he merely has to get to the castle, which now bears the forbidding legend: “Camp”.\\n\\nAlong the way, many perils (all rendered in the familiar Super Mario Bros style, with sound effects to match) await. Grabbing his suitcase and emptying his savings account by bashing a money-block with his head, Refugee Mario hands his funds to traffickers, undergoes a perilous Mediterranean crossing (thank goodness he has multiple lives), evades border-patrolling soldiers eager to lock him up and finally reaches the dubious sanctuary of a refugee camp.\\n\\nFacebook Twitter Pinterest The Syrian Super Mario video on YouTube\\n\\nSpeaking to the BBC, Mutfi – who himself fled Homs for Istanbul in 2011 – said: “Five months ago, my best friend drowned in the sea while travelling from Turkey to Greece: the engine on the boat exploded. That’s when I got the idea for the video. It needed to be a simple and clear idea that would work irrespective of language. I used Super Mario because it’s famous all over the world. It’s like music – a universal language.”\\n\\nMutfi, now working for a Turkish outfit, Online for Media, fled Homs after two of his brothers were killed. He has since made a number of animations parodying Assad’s speeches, having discovered that he can mimic his voice uncannily. Which may – along with his Syrian Super Mario video – have made him a marked man. But that doesn’t worry him: “We used to live in Syria without any dignity or freedom, but we don’t have anything now. It’s so disappointing to see what is happening with this refugee crisis. It’s life or death. We have to make our own futures.”\\n\\nMutfi’s Syrian Super Mario video is timely in one respect: last Friday, Nintendo released Super Mario Maker for Wii U, which lets gamers make their own Super Mario Bros levels – so anyone with a Wii U can use Mutfi’s efforts for inspiration. Could the “universal language” of gaming – which we know Cameron understands – be the medium that finally prompts the PM to take decisive action on Syria? Well, you never know.')]"
      ]
     },
     "execution_count": 307,
     "metadata": {},
     "output_type": "execute_result"
    }
   ],
   "source": [
    "guardian_dic[list(guardian_dic.keys())[3]]"
   ]
  },
  {
   "cell_type": "code",
   "execution_count": 309,
   "metadata": {
    "collapsed": false
   },
   "outputs": [],
   "source": [
    "with open('guardian.json', 'w') as fp:\n",
    "    json.dump(guardian_dic, fp)"
   ]
  },
  {
   "cell_type": "markdown",
   "metadata": {
    "collapsed": true
   },
   "source": [
    "### The FT - need to get corporate developer license"
   ]
  },
  {
   "cell_type": "code",
   "execution_count": 6,
   "metadata": {
    "collapsed": false
   },
   "outputs": [],
   "source": [
    "# search_url = 'https://www.ft.com/search?q=mario+draghi'\n",
    "\n",
    "# r = requests.get(search_url)\n",
    "# soup = BeautifulSoup(r.text, 'lxml')\n",
    "\n",
    "for li in soup.find_all('li', {\"class\": \"o-teaser-collection__item o-grid-row\"}):\n",
    "    article_links.extend(li.find_all('a'))\n",
    "    \n",
    "    "
   ]
  },
  {
   "cell_type": "code",
   "execution_count": 22,
   "metadata": {
    "collapsed": false
   },
   "outputs": [],
   "source": [
    "link = article_links[1]['href']"
   ]
  },
  {
   "cell_type": "code",
   "execution_count": 13,
   "metadata": {
    "collapsed": true
   },
   "outputs": [],
   "source": [
    "base_url = 'http://ft.com' "
   ]
  },
  {
   "cell_type": "code",
   "execution_count": null,
   "metadata": {
    "collapsed": true
   },
   "outputs": [],
   "source": [
    "def ParseArticles(base_url, article_links):\n",
    "    for link in article_links:\n",
    "        url = base_url + link\n",
    "        r = requests.get(url)"
   ]
  },
  {
   "cell_type": "code",
   "execution_count": 23,
   "metadata": {
    "collapsed": true
   },
   "outputs": [],
   "source": [
    "url = base_url + link"
   ]
  },
  {
   "cell_type": "code",
   "execution_count": 34,
   "metadata": {
    "collapsed": true
   },
   "outputs": [],
   "source": [
    "article = Article(url)"
   ]
  },
  {
   "cell_type": "code",
   "execution_count": 35,
   "metadata": {
    "collapsed": true
   },
   "outputs": [],
   "source": [
    "article.download()\n",
    "article.parse()\n",
    "article.publish_date"
   ]
  },
  {
   "cell_type": "code",
   "execution_count": 36,
   "metadata": {
    "collapsed": false
   },
   "outputs": [
    {
     "data": {
      "text/plain": [
       "'Subscribe to FT.com\\n\\nSubscribe to read: Italy’s president picks up pieces after political crisis\\n\\nAlready a subscriber? Sign in here'"
      ]
     },
     "execution_count": 36,
     "metadata": {},
     "output_type": "execute_result"
    }
   ],
   "source": [
    "article.text"
   ]
  },
  {
   "cell_type": "markdown",
   "metadata": {},
   "source": [
    "### EurActiv - has no authors on articles"
   ]
  },
  {
   "cell_type": "code",
   "execution_count": 90,
   "metadata": {
    "collapsed": false
   },
   "outputs": [
    {
     "name": "stderr",
     "output_type": "stream",
     "text": [
      "/Users/hannahdeen/anaconda3/lib/python3.5/site-packages/bs4/__init__.py:166: UserWarning: No parser was explicitly specified, so I'm using the best available HTML parser for this system (\"lxml\"). This usually isn't a problem, but if you run this code on another system, or in a different virtual environment, it may use a different parser and behave differently.\n",
      "\n",
      "To get rid of this warning, change this:\n",
      "\n",
      " BeautifulSoup([your markup])\n",
      "\n",
      "to this:\n",
      "\n",
      " BeautifulSoup([your markup], \"lxml\")\n",
      "\n",
      "  markup_type=markup_type))\n"
     ]
    }
   ],
   "source": [
    "soup = BeautifulSoup(requests.get('http://www.euractiv.com/?s=mario+draghi').text)"
   ]
  },
  {
   "cell_type": "code",
   "execution_count": 97,
   "metadata": {
    "collapsed": true
   },
   "outputs": [],
   "source": [
    "block = soup.find_all(\"div\",{\"class\":\"row\"})\n",
    "# article_links = []\n",
    "    \n",
    "# for b in block.find_all(\"a\"):\n",
    "#     if len(b['href'].split('/')) > 6 and b['href'] not in article_links:\n",
    "#         article_links.append(b['href'])"
   ]
  },
  {
   "cell_type": "code",
   "execution_count": 101,
   "metadata": {
    "collapsed": false
   },
   "outputs": [
    {
     "data": {
      "text/plain": [
       "<div class=\"row ea-columns-same-height\">\n",
       "<div class=\"ea-archive col-xs-12 col-sm-12 col-md-12 col-lg-12\">\n",
       "<div class=\"ea-color-white\"><br/><div class=\"row\"><div class=\"col-xs-12 col-sm-6 col-md-4 col-lg-3\">\n",
       "<div class=\"ea-teaser ea-teaser-news\">\n",
       "<div class=\"ea-teaser-labels\"><a href=\"http://www.euractiv.com/news/\">News</a></div>\n",
       "<a href=\"http://www.euractiv.com/section/euro-finance/news/draghi-trump-and-brexit-causing-economic-uncertainty/\"><span class=\"image-background\"><img class=\"lazy-load img-responsive hidden-no-js\" data-src=\"http://www.euractiv.com/wp-content/uploads/sites/2/2016/04/European_Parliament_48141299.jpg\" data-strategy=\"crop\" src=\"//assets.euractiv.com/lazy-load/placeholder/16x9.png\" style=\"width:100%\"/><noscript><img class=\"img-responsive\" src=\"http://www.euractiv.com/wp-content/uploads/sites/2/2016/04/European_Parliament_48141299.jpg\" style=\"width:100%\"/></noscript></span></a>\n",
       "<div class=\"ea-teaser-meta\"><a href=\"http://www.euractiv.com/sections/euro-finance/\">Euro &amp; Finance</a><span class=\"ea-dateformat\" data-timestamp=\"1480399593\">\n",
       "<i class=\"fa fa-calendar\"></i>\n",
       "                      29-11-2016\n",
       "                  </span></div>\n",
       "<div class=\"ea-teaser-caption\"><h3><a href=\"http://www.euractiv.com/section/euro-finance/news/draghi-trump-and-brexit-causing-economic-uncertainty/\">Draghi: Trump and Brexit causing economic uncertainty</a></h3><div class=\"ea-teaser-abstract\">Geopolitical events including the election of Donald Trump and Britain's Brexit vote are the main reasons for the current economic uncertainty, European Central Bank chief Mario Draghi told EU parliamentarians on Monday (28 November).</div></div>\n",
       "</div>\n",
       "</div><div class=\"col-xs-12 col-sm-6 col-md-4 col-lg-3\">\n",
       "<div class=\"ea-teaser ea-teaser-news\">\n",
       "<div class=\"ea-teaser-labels\"><a href=\"http://www.euractiv.com/news/\">News</a></div>\n",
       "<a href=\"http://www.euractiv.com/section/euro-finance/news/business-as-usual-for-draghi-and-the-ecb/\"><span class=\"image-background\"><img class=\"lazy-load img-responsive hidden-no-js\" data-src=\"http://www.euractiv.com/wp-content/uploads/sites/2/2016/10/shutterstock_189029042.jpg\" data-strategy=\"crop\" src=\"//assets.euractiv.com/lazy-load/placeholder/16x9.png\" style=\"width:100%\"/><noscript><img class=\"img-responsive\" src=\"http://www.euractiv.com/wp-content/uploads/sites/2/2016/10/shutterstock_189029042.jpg\" style=\"width:100%\"/></noscript></span></a>\n",
       "<div class=\"ea-teaser-meta\"><a href=\"http://www.euractiv.com/sections/euro-finance/\">Euro &amp; Finance</a><span class=\"ea-dateformat\" data-timestamp=\"1477040186\">\n",
       "<i class=\"fa fa-calendar\"></i>\n",
       "                      21-10-2016\n",
       "                  </span></div>\n",
       "<div class=\"ea-teaser-caption\"><h3><a href=\"http://www.euractiv.com/section/euro-finance/news/business-as-usual-for-draghi-and-the-ecb/\">Business as usual for Draghi and the ECB</a></h3><div class=\"ea-teaser-abstract\"><p class=\"p1\"><span class=\"s1\">The European Central Bank (ECB) is to stick with its policy of record-low interest rates and bond purchasing scheme, as head of the bank Mario Draghi continues to try and reach the bank's inflation targets. <a href=\"http://www.euractiv.de/section/finanzen-und-wirtschaft/news/dragee-haelt-an-ezb-leitzins-politik-fest/\">EurActiv Germany reports.</a></span></p></div></div>\n",
       "</div>\n",
       "</div><div class=\"col-xs-12 col-sm-6 col-md-4 col-lg-3\">\n",
       "<div class=\"ea-teaser ea-teaser-news\">\n",
       "<div class=\"ea-teaser-labels\"><a href=\"http://www.euractiv.com/news/\">News</a></div>\n",
       "<a href=\"http://www.euractiv.com/section/uk-europe/news/draghis-ecb-ready-for-all-contingencies-after-brexit-referendum/\"><span class=\"image-background\"><img class=\"lazy-load img-responsive hidden-no-js\" data-src=\"http://www.euractiv.com/wp-content/uploads/sites/2/2016/04/European_Parliament_48141299.jpg\" data-strategy=\"crop\" src=\"//assets.euractiv.com/lazy-load/placeholder/16x9.png\" style=\"width:100%\"/><noscript><img class=\"img-responsive\" src=\"http://www.euractiv.com/wp-content/uploads/sites/2/2016/04/European_Parliament_48141299.jpg\" style=\"width:100%\"/></noscript></span></a>\n",
       "<div class=\"ea-teaser-meta\"><a href=\"http://www.euractiv.com/sections/uk-europe/\">UK &amp; Europe</a><span class=\"ea-dateformat\" data-timestamp=\"1466525317\">\n",
       "<i class=\"fa fa-calendar\"></i>\n",
       "                      21-06-2016\n",
       "                  </span></div>\n",
       "<div class=\"ea-teaser-caption\"><h3><a href=\"http://www.euractiv.com/section/uk-europe/news/draghis-ecb-ready-for-all-contingencies-after-brexit-referendum/\">Draghi's ECB 'ready for all contingencies' after Brexit referendum</a></h3><div class=\"ea-teaser-abstract\">European Central Bank President Mario Draghi said on Tuesday (21 June) that the ECB is ready for every scenario after Britain's referendum on EU membership, but warned that liquidity was vital to prevent investor panic after a vote for Brexit.</div></div>\n",
       "</div>\n",
       "</div><div class=\"col-xs-12 col-sm-6 col-md-4 col-lg-3\">\n",
       "<div class=\"ea-teaser ea-teaser-news\">\n",
       "<div class=\"ea-teaser-labels\"><a href=\"http://www.euractiv.com/news/\">News</a></div>\n",
       "<a href=\"http://www.euractiv.com/section/euro-finance/news/draghi-warns-eu-leaders-he-cant-fix-the-economy-on-his-own/\"><span class=\"image-background\"><img class=\"lazy-load img-responsive hidden-no-js\" data-src=\"http://www.euractiv.com/wp-content/uploads/sites/2/2016/03/Mario-Draghi-March-16.jpg\" data-strategy=\"crop\" src=\"//assets.euractiv.com/lazy-load/placeholder/16x9.png\" style=\"width:100%\"/><noscript><img class=\"img-responsive\" src=\"http://www.euractiv.com/wp-content/uploads/sites/2/2016/03/Mario-Draghi-March-16.jpg\" style=\"width:100%\"/></noscript></span></a>\n",
       "<div class=\"ea-teaser-meta\"><a href=\"http://www.euractiv.com/sections/euro-finance/\">Euro &amp; Finance</a><span class=\"ea-dateformat\" data-timestamp=\"1458275950\">\n",
       "<i class=\"fa fa-calendar\"></i>\n",
       "                      18-03-2016\n",
       "                  </span></div>\n",
       "<div class=\"ea-teaser-caption\"><h3><a href=\"http://www.euractiv.com/section/euro-finance/news/draghi-warns-eu-leaders-he-cant-fix-the-economy-on-his-own/\">Draghi warns EU leaders he can't fix the economy on his own</a></h3><div class=\"ea-teaser-abstract\">European Central Bank President Mario Draghi warned European leaders on Thursday (17 March) that monetary policy alone would not be enough to jump-start the economy and that governments needed to do their job by pushing through structural reforms.</div></div>\n",
       "</div>\n",
       "</div><div class=\"col-xs-12 col-sm-6 col-md-4 col-lg-3\">\n",
       "<div class=\"ea-teaser ea-teaser-news\">\n",
       "<div class=\"ea-teaser-labels\"><a href=\"http://www.euractiv.com/news/\">News</a></div>\n",
       "<a href=\"http://www.euractiv.com/section/uk-europe/news/draghi-uk-negotiations-must-preserve-euro-achievements/\"><span class=\"image-background\"><img class=\"lazy-load img-responsive hidden-no-js\" data-src=\"http://www.euractiv.com/wp-content/uploads/sites/2/2015/11/draghi_12_nov_2015.jpeg\" data-strategy=\"crop\" src=\"//assets.euractiv.com/lazy-load/placeholder/16x9.png\" style=\"width:100%\"/><noscript><img class=\"img-responsive\" src=\"http://www.euractiv.com/wp-content/uploads/sites/2/2015/11/draghi_12_nov_2015.jpeg\" style=\"width:100%\"/></noscript></span></a>\n",
       "<div class=\"ea-teaser-meta\"><a href=\"http://www.euractiv.com/sections/uk-europe/\">UK &amp; Europe</a><span class=\"ea-dateformat\" data-timestamp=\"1447346910\">\n",
       "<i class=\"fa fa-calendar\"></i>\n",
       "                      12-11-2015\n",
       "                  </span></div>\n",
       "<div class=\"ea-teaser-caption\"><h3><a href=\"http://www.euractiv.com/section/uk-europe/news/draghi-uk-negotiations-must-preserve-euro-achievements/\">Draghi: UK negotiations must preserve euro 'achievements'</a></h3><div class=\"ea-teaser-abstract\">European Central Bank President Mario Draghi said on Thursday (12 November) that negotiations with Britain on changes to its relationship with the European Union must preserve the \"extraordinary achievements\" of the euro and the EU's single market.\n",
       "</div></div>\n",
       "</div>\n",
       "</div><div class=\"col-xs-12 col-sm-6 col-md-4 col-lg-3\">\n",
       "<div class=\"ea-teaser ea-teaser-news\">\n",
       "<div class=\"ea-teaser-labels\"><a href=\"http://www.euractiv.com/news/\">News</a></div>\n",
       "<a href=\"http://www.euractiv.com/section/euro-finance/news/juncker-and-draghi-fail-to-win-support-for-eurozone-reform/\"><span class=\"image-background\"><img class=\"lazy-load img-responsive hidden-no-js\" data-src=\"http://www.euractiv.com/wp-content/uploads/sites/2/2015/10/13598392484-e5db31f84c-o.jpeg\" data-strategy=\"crop\" src=\"//assets.euractiv.com/lazy-load/placeholder/16x9.png\" style=\"width:100%\"/><noscript><img class=\"img-responsive\" src=\"http://www.euractiv.com/wp-content/uploads/sites/2/2015/10/13598392484-e5db31f84c-o.jpeg\" style=\"width:100%\"/></noscript></span></a>\n",
       "<div class=\"ea-teaser-meta\"><a href=\"http://www.euractiv.com/sections/euro-finance/\">Euro &amp; Finance</a><span class=\"ea-dateformat\" data-timestamp=\"1444981254\">\n",
       "<i class=\"fa fa-calendar\"></i>\n",
       "                      16-10-2015\n",
       "                  </span></div>\n",
       "<div class=\"ea-teaser-caption\"><h3><a href=\"http://www.euractiv.com/section/euro-finance/news/juncker-and-draghi-fail-to-win-support-for-eurozone-reform/\">Juncker and Draghi fail to win support for eurozone reform</a></h3><div class=\"ea-teaser-abstract\">The piecemeal approach orchestrated by Jean-Claude Juncker and Mario Draghi to address the root causes of the euro zone debt crisis and complete the Economic and Monetary Union (EMU) has not yielded any positive results so far, EurActiv.com has learned.</div></div>\n",
       "</div>\n",
       "</div><div class=\"col-xs-12 col-sm-6 col-md-4 col-lg-3\">\n",
       "<div class=\"ea-teaser ea-teaser-video\">\n",
       "<div class=\"ea-teaser-labels\"><a class=\"hidden-xs\" href=\"http://www.euractiv.com/video/\"><i class=\"fa fa-play\"></i></a><a href=\"http://www.euractiv.com/video/\">Video</a></div>\n",
       "<a href=\"http://www.euractiv.com/section/euro-finance/video/draghi-assaulted-by-protester-at-ecb-meeting/\"><span class=\"image-background\"><img class=\"lazy-load img-responsive hidden-no-js\" data-src=\"http://www.euractiv.com/wp-content/uploads/sites/2/2016/02/4174792025001.jpeg\" data-strategy=\"crop\" src=\"//assets.euractiv.com/lazy-load/placeholder/16x9.png\" style=\"width:100%\"/><noscript><img class=\"img-responsive\" src=\"http://www.euractiv.com/wp-content/uploads/sites/2/2016/02/4174792025001.jpeg\" style=\"width:100%\"/></noscript></span></a>\n",
       "<div class=\"ea-teaser-meta\"><a href=\"http://www.euractiv.com/sections/euro-finance/\">Euro &amp; Finance</a><span class=\"ea-dateformat\" data-timestamp=\"1429116919\">\n",
       "<i class=\"fa fa-calendar\"></i>\n",
       "                      15-04-2015\n",
       "                  </span></div>\n",
       "<div class=\"ea-teaser-caption\"><h3><a href=\"http://www.euractiv.com/section/euro-finance/video/draghi-assaulted-by-protester-at-ecb-meeting/\">Draghi assaulted by protester at ECB meeting</a></h3><div class=\"ea-teaser-abstract\">ECB chief Mario Draghi was assaulted by a protester during a presser on Wednesday (15 April). Jumping up on the table in front of him like a karate kid while throwing confetti, the young woman shouted 'ECB dictatorship' with a German accent, before she was wrestled out of the press room by security guards.</div></div>\n",
       "</div>\n",
       "</div><div class=\"col-xs-12 col-sm-6 col-md-4 col-lg-3\">\n",
       "<div class=\"ea-teaser ea-teaser-news\">\n",
       "<div class=\"ea-teaser-labels\"><a href=\"http://www.euractiv.com/news/\">News</a></div>\n",
       "<a href=\"http://www.euractiv.com/section/eu-priorities-2020/news/draghi-calls-for-quantum-leap-in-eurozone-integration/\"><span class=\"image-background\"><img class=\"lazy-load img-responsive hidden-no-js\" data-src=\"http://www.euractiv.com/wp-content/uploads/sites/2/2015/07/mario_draghi.jpeg\" data-strategy=\"crop\" src=\"//assets.euractiv.com/lazy-load/placeholder/16x9.png\" style=\"width:100%\"/><noscript><img class=\"img-responsive\" src=\"http://www.euractiv.com/wp-content/uploads/sites/2/2015/07/mario_draghi.jpeg\" style=\"width:100%\"/></noscript></span></a>\n",
       "<div class=\"ea-teaser-meta\"><a href=\"http://www.euractiv.com/sections/eu-priorities-2020/\">EU Priorities 2020</a><span class=\"ea-dateformat\" data-timestamp=\"1426577604\">\n",
       "<i class=\"fa fa-calendar\"></i>\n",
       "                      17-03-2015\n",
       "                  </span></div>\n",
       "<div class=\"ea-teaser-caption\"><h3><a href=\"http://www.euractiv.com/section/eu-priorities-2020/news/draghi-calls-for-quantum-leap-in-eurozone-integration/\">Draghi calls for ‘quantum leap’ in eurozone integration</a></h3><div class=\"ea-teaser-abstract\">Describing the eurozone economy as \"steadily recovering\", European Central Bank President Mario Draghi called yesterday (16 March) for a \"quantum leap\" in institutional convergence of the eurozone.</div></div>\n",
       "</div>\n",
       "</div><div class=\"col-xs-12 col-sm-6 col-md-4 col-lg-3\">\n",
       "<div class=\"ea-teaser ea-teaser-video ea-teaser-promoted\">\n",
       "<div class=\"ea-teaser-labels\"><a class=\"hidden-xs\" href=\"http://www.euractiv.com/video/\"><i class=\"fa fa-play\"></i></a><a href=\"http://www.euractiv.com/video/\">Video</a><span>Promoted</span></div>\n",
       "<a href=\"http://www.euractiv.com/section/euro-finance/video/doubts-loom-over-draghi-s-political-bond-buying-scheme/\"><span class=\"image-background\"><img class=\"lazy-load img-responsive hidden-no-js\" data-src=\"http://www.euractiv.com/wp-content/uploads/sites/2/2016/02/4006783049001.jpeg\" data-strategy=\"crop\" src=\"//assets.euractiv.com/lazy-load/placeholder/16x9.png\" style=\"width:100%\"/><noscript><img class=\"img-responsive\" src=\"http://www.euractiv.com/wp-content/uploads/sites/2/2016/02/4006783049001.jpeg\" style=\"width:100%\"/></noscript></span></a>\n",
       "<div class=\"ea-teaser-meta\"><a href=\"http://www.euractiv.com/sections/euro-finance/\">Euro &amp; Finance</a><span class=\"ea-dateformat\" data-timestamp=\"1422023359\">\n",
       "<i class=\"fa fa-calendar\"></i>\n",
       "                      23-01-2015\n",
       "                  </span></div>\n",
       "<div class=\"ea-teaser-caption\"><h3><a href=\"http://www.euractiv.com/section/euro-finance/video/doubts-loom-over-draghi-s-political-bond-buying-scheme/\">Doubts loom over Draghi's 'political' bond-buying scheme</a></h3><div class=\"ea-teaser-abstract\">European Central Bank president Mario Draghi grabbed the spotlight on Thursday, as he announced Europe's latest hope to revive its weak economy: the so-called quantitative easing, or a bond-buying scheme of 60 billion euros a month.</div></div>\n",
       "</div>\n",
       "</div><div class=\"col-xs-12 col-sm-6 col-md-4 col-lg-3\">\n",
       "<div class=\"ea-teaser ea-teaser-opinion\">\n",
       "<div class=\"ea-teaser-labels\"><a href=\"http://www.euractiv.com/opinion/\">Opinion</a></div>\n",
       "<a href=\"http://www.euractiv.com/section/europe-s-east/opinion/whatever-it-takes-lessons-from-draghi-for-ukraine/\"><span class=\"image-background\"><img class=\"lazy-load img-responsive hidden-no-js\" data-src=\"http://www.euractiv.com/wp-content/uploads/sites/2/2014/09/14631092463-ea8c7c7a67-z.jpeg\" data-strategy=\"crop\" src=\"//assets.euractiv.com/lazy-load/placeholder/16x9.png\" style=\"width:100%\"/><noscript><img class=\"img-responsive\" src=\"http://www.euractiv.com/wp-content/uploads/sites/2/2014/09/14631092463-ea8c7c7a67-z.jpeg\" style=\"width:100%\"/></noscript></span></a>\n",
       "<div class=\"ea-teaser-meta\"><a href=\"http://www.euractiv.com/sections/europe-s-east/\">Europe's East</a><span class=\"ea-dateformat\" data-timestamp=\"1411749347\">\n",
       "<i class=\"fa fa-calendar\"></i>\n",
       "                      26-09-2014\n",
       "                  </span></div>\n",
       "<div class=\"ea-teaser-caption\"><h3><a href=\"http://www.euractiv.com/section/europe-s-east/opinion/whatever-it-takes-lessons-from-draghi-for-ukraine/\">'Whatever it takes': Lessons from Draghi for Ukraine</a></h3><div class=\"ea-teaser-abstract\">EU policymakers, trying to handle the Ukraine crisis, can draw valuable lessons from the tactics employed by European Central Bank boss Mario Draghi, writes Jorge Mariscal and Nick Rice.\n",
       "</div></div>\n",
       "</div>\n",
       "</div><div class=\"col-xs-12 col-sm-6 col-md-4 col-lg-3\">\n",
       "<div class=\"ea-teaser ea-teaser-video ea-teaser-promoted\">\n",
       "<div class=\"ea-teaser-labels\"><a class=\"hidden-xs\" href=\"http://www.euractiv.com/video/\"><i class=\"fa fa-play\"></i></a><a href=\"http://www.euractiv.com/video/\">Video</a><span>Promoted</span></div>\n",
       "<a href=\"http://www.euractiv.com/section/euro-finance/video/draghi-rumours-are-unfounded-i-will-stay-at-the-ecb/\"><span class=\"image-background\"><img class=\"lazy-load img-responsive hidden-no-js\" data-src=\"http://www.euractiv.com/wp-content/uploads/sites/2/2016/02/3675270272001.jpeg\" data-strategy=\"crop\" src=\"//assets.euractiv.com/lazy-load/placeholder/16x9.png\" style=\"width:100%\"/><noscript><img class=\"img-responsive\" src=\"http://www.euractiv.com/wp-content/uploads/sites/2/2016/02/3675270272001.jpeg\" style=\"width:100%\"/></noscript></span></a>\n",
       "<div class=\"ea-teaser-meta\"><a href=\"http://www.euractiv.com/sections/euro-finance/\">Euro &amp; Finance</a><span class=\"ea-dateformat\" data-timestamp=\"1405422000\">\n",
       "<i class=\"fa fa-calendar\"></i>\n",
       "                      15-07-2014\n",
       "                  </span></div>\n",
       "<div class=\"ea-teaser-caption\"><h3><a href=\"http://www.euractiv.com/section/euro-finance/video/draghi-rumours-are-unfounded-i-will-stay-at-the-ecb/\">Draghi: Rumours are unfounded, I will stay at the ECB</a></h3><div class=\"ea-teaser-abstract\">Responding to media speculation over his future, ECB president Mario Draghi said on Monday that rumours about his exit are “unfounded” and come from “interested parties”.</div></div>\n",
       "</div>\n",
       "</div><div class=\"col-xs-12 col-sm-6 col-md-4 col-lg-3\">\n",
       "<div class=\"ea-teaser ea-teaser-news\">\n",
       "<div class=\"ea-teaser-labels\"><a href=\"http://www.euractiv.com/news/\">News</a></div>\n",
       "<a href=\"http://www.euractiv.com/section/euro-finance/news/draghi-says-stronger-euro-threatens-recovery/\"><span class=\"image-background\"><img class=\"lazy-load img-responsive hidden-no-js\" data-src=\"http://www.euractiv.com/wp-content/uploads/sites/2/2014/09/mario_draghi._european_parliament_2011.jpeg\" data-strategy=\"crop\" src=\"//assets.euractiv.com/lazy-load/placeholder/16x9.png\" style=\"width:100%\"/><noscript><img class=\"img-responsive\" src=\"http://www.euractiv.com/wp-content/uploads/sites/2/2014/09/mario_draghi._european_parliament_2011.jpeg\" style=\"width:100%\"/></noscript></span></a>\n",
       "<div class=\"ea-teaser-meta\"><a href=\"http://www.euractiv.com/sections/euro-finance/\">Euro &amp; Finance</a><span class=\"ea-dateformat\" data-timestamp=\"1405411554\">\n",
       "<i class=\"fa fa-calendar\"></i>\n",
       "                      15-07-2014\n",
       "                  </span></div>\n",
       "<div class=\"ea-teaser-caption\"><h3><a href=\"http://www.euractiv.com/section/euro-finance/news/draghi-says-stronger-euro-threatens-recovery/\">Draghi says stronger euro threatens recovery</a></h3><div class=\"ea-teaser-abstract\">A stronger euro exchange rate is a risk to the sustainability of the euro zone recovery, European Central Bank President Mario Draghi said on Monday (14 July), responding to calls from the French government to devalue the currency and ease pressure on exporters.</div></div>\n",
       "</div>\n",
       "</div><div class=\"col-xs-12 col-sm-6 col-md-4 col-lg-3\">\n",
       "<div class=\"ea-teaser ea-teaser-video ea-teaser-promoted\">\n",
       "<div class=\"ea-teaser-labels\"><a class=\"hidden-xs\" href=\"http://www.euractiv.com/video/\"><i class=\"fa fa-play\"></i></a><a href=\"http://www.euractiv.com/video/\">Video</a><span>Promoted</span></div>\n",
       "<a href=\"http://www.euractiv.com/section/euro-finance/video/draghi-slams-handling-of-cyprus-bailout/\"><span class=\"image-background\"><img class=\"lazy-load img-responsive hidden-no-js\" data-src=\"http://www.euractiv.com/wp-content/uploads/sites/2/2016/02/2278325399001.jpeg\" data-strategy=\"crop\" src=\"//assets.euractiv.com/lazy-load/placeholder/16x9.png\" style=\"width:100%\"/><noscript><img class=\"img-responsive\" src=\"http://www.euractiv.com/wp-content/uploads/sites/2/2016/02/2278325399001.jpeg\" style=\"width:100%\"/></noscript></span></a>\n",
       "<div class=\"ea-teaser-meta\"><a href=\"http://www.euractiv.com/sections/euro-finance/\">Euro &amp; Finance</a><span class=\"ea-dateformat\" data-timestamp=\"1365163546\">\n",
       "<i class=\"fa fa-calendar\"></i>\n",
       "                      05-04-2013\n",
       "                  </span></div>\n",
       "<div class=\"ea-teaser-caption\"><h3><a href=\"http://www.euractiv.com/section/euro-finance/video/draghi-slams-handling-of-cyprus-bailout/\">Draghi slams handling of Cyprus bailout</a></h3><div class=\"ea-teaser-abstract\">ECB president Mario Draghi on Thursday slammed the Cyprus negotiators for their initial proposal of making small savers pay for the country's bailout, He called the idea 'not smart, to say the least'.\n",
       "\tDraghi was quick to add that the proposal of imposing a levy on small savers did not come from the ECB.</div></div>\n",
       "</div>\n",
       "</div><div class=\"col-xs-12 col-sm-6 col-md-4 col-lg-3\">\n",
       "<div class=\"ea-teaser ea-teaser-news\">\n",
       "<div class=\"ea-teaser-labels\"><a href=\"http://www.euractiv.com/news/\">News</a></div>\n",
       "<a href=\"http://www.euractiv.com/section/euro-finance/news/draghi-slams-handling-of-cyprus-bailout/\"><span class=\"image-background\"><img class=\"lazy-load img-responsive hidden-no-js\" data-src=\"http://www.euractiv.com/wp-content/uploads/sites/2/2011/05/Mario-Draghi.jpeg\" data-strategy=\"crop\" src=\"//assets.euractiv.com/lazy-load/placeholder/16x9.png\" style=\"width:100%\"/><noscript><img class=\"img-responsive\" src=\"http://www.euractiv.com/wp-content/uploads/sites/2/2011/05/Mario-Draghi.jpeg\" style=\"width:100%\"/></noscript></span></a>\n",
       "<div class=\"ea-teaser-meta\"><a href=\"http://www.euractiv.com/sections/euro-finance/\">Euro &amp; Finance</a><span class=\"ea-dateformat\" data-timestamp=\"1365151481\">\n",
       "<i class=\"fa fa-calendar\"></i>\n",
       "                      05-04-2013\n",
       "                  </span></div>\n",
       "<div class=\"ea-teaser-caption\"><h3><a href=\"http://www.euractiv.com/section/euro-finance/news/draghi-slams-handling-of-cyprus-bailout/\">Draghi slams handling of Cyprus bailout</a></h3><div class=\"ea-teaser-abstract\">European Central Bank President Mario Draghi indirectly clashed with Eurogroup President Jeroen Dijsselbloem, stating yesterday (4 April) that the Cyprus bailout was \"no template\" for possible future solutions and pledged that taxing depositors would not become normal procedure. He also slammed the Cyprus' negotiators for their initial proposal.\n",
       "</div></div>\n",
       "</div>\n",
       "</div><div class=\"col-xs-12 col-sm-6 col-md-4 col-lg-3\">\n",
       "<div class=\"ea-teaser ea-teaser-news\">\n",
       "<div class=\"ea-teaser-labels\"><a href=\"http://www.euractiv.com/news/\">News</a></div>\n",
       "<a href=\"http://www.euractiv.com/section/future-eu/news/draghi-backs-germany-s-call-for-currency-commissioner/\"><span class=\"image-background\"><img class=\"lazy-load img-responsive hidden-no-js\" data-src=\"http://www.euractiv.com/wp-content/uploads/sites/2/2011/05/Mario-Draghi.jpeg\" data-strategy=\"crop\" src=\"//assets.euractiv.com/lazy-load/placeholder/16x9.png\" style=\"width:100%\"/><noscript><img class=\"img-responsive\" src=\"http://www.euractiv.com/wp-content/uploads/sites/2/2011/05/Mario-Draghi.jpeg\" style=\"width:100%\"/></noscript></span></a>\n",
       "<div class=\"ea-teaser-meta\"><a href=\"http://www.euractiv.com/sections/future-eu/\">Future EU</a><span class=\"ea-dateformat\" data-timestamp=\"1351500441\">\n",
       "<i class=\"fa fa-calendar\"></i>\n",
       "                      29-10-2012\n",
       "                  </span></div>\n",
       "<div class=\"ea-teaser-caption\"><h3><a href=\"http://www.euractiv.com/section/future-eu/news/draghi-backs-germany-s-call-for-currency-commissioner/\">Draghi backs Germany's call for 'currency commissioner'</a></h3><div class=\"ea-teaser-abstract\">European Central Bank Chief Mario Draghi backed a proposal by German Finance Minister Wolfgang Schäuble to radically expand the powers of the European Union's monetary affairs commissioner, giving Brussels greater control over member states budgets.\n",
       "</div></div>\n",
       "</div>\n",
       "</div><div class=\"col-xs-12 col-sm-6 col-md-4 col-lg-3\">\n",
       "<div class=\"ea-teaser ea-teaser-news\">\n",
       "<div class=\"ea-teaser-labels\"><a href=\"http://www.euractiv.com/news/\">News</a></div>\n",
       "<a href=\"http://www.euractiv.com/section/euro-finance/news/draghi-gets-ecb-backing-for-unlimited-bond-buying/\"><span class=\"image-background\"><img class=\"lazy-load img-responsive hidden-no-js\" data-src=\"http://www.euractiv.com/wp-content/uploads/sites/2/2012/09/trader happy.jpeg\" data-strategy=\"crop\" src=\"//assets.euractiv.com/lazy-load/placeholder/16x9.png\" style=\"width:100%\"/><noscript><img class=\"img-responsive\" src=\"http://www.euractiv.com/wp-content/uploads/sites/2/2012/09/trader happy.jpeg\" style=\"width:100%\"/></noscript></span></a>\n",
       "<div class=\"ea-teaser-meta\"><a href=\"http://www.euractiv.com/sections/euro-finance/\">Euro &amp; Finance</a><span class=\"ea-dateformat\" data-timestamp=\"1347006561\">\n",
       "<i class=\"fa fa-calendar\"></i>\n",
       "                      07-09-2012\n",
       "                  </span></div>\n",
       "<div class=\"ea-teaser-caption\"><h3><a href=\"http://www.euractiv.com/section/euro-finance/news/draghi-gets-ecb-backing-for-unlimited-bond-buying/\">Draghi gets ECB backing for unlimited bond-buying</a></h3><div class=\"ea-teaser-abstract\">The European Central Bank agreed yesterday (6 September) to launch a new and potentially unlimited bond-buying programme to lower struggling eurozone countries' borrowing costs and draw a line under the debt crisis.\n",
       "</div></div>\n",
       "</div>\n",
       "</div><div class=\"col-xs-12 col-sm-6 col-md-4 col-lg-3\">\n",
       "<div class=\"ea-teaser ea-teaser-video ea-teaser-promoted\">\n",
       "<div class=\"ea-teaser-labels\"><a class=\"hidden-xs\" href=\"http://www.euractiv.com/video/\"><i class=\"fa fa-play\"></i></a><a href=\"http://www.euractiv.com/video/\">Video</a><span>Promoted</span></div>\n",
       "<a href=\"http://www.euractiv.com/section/euro-finance/video/ecb-s-draghi-presents-eurozone-rescue-plan/\"><span class=\"image-background\"><img class=\"lazy-load img-responsive hidden-no-js\" data-src=\"http://www.euractiv.com/wp-content/themes/euractiv_base/media/placeholder.png\" data-strategy=\"crop\" src=\"//assets.euractiv.com/lazy-load/placeholder/16x9.png\" style=\"width:100%\"/><noscript><img class=\"img-responsive\" src=\"http://www.euractiv.com/wp-content/themes/euractiv_base/media/placeholder.png\" style=\"width:100%\"/></noscript></span></a>\n",
       "<div class=\"ea-teaser-meta\"><a href=\"http://www.euractiv.com/sections/euro-finance/\">Euro &amp; Finance</a><span class=\"ea-dateformat\" data-timestamp=\"1346953836\">\n",
       "<i class=\"fa fa-calendar\"></i>\n",
       "                      06-09-2012\n",
       "                  </span></div>\n",
       "<div class=\"ea-teaser-caption\"><h3><a href=\"http://www.euractiv.com/section/euro-finance/video/ecb-s-draghi-presents-eurozone-rescue-plan/\">ECB's Draghi presents eurozone rescue plan</a></h3><div class=\"ea-teaser-abstract\">This is the man who claimed he can save the euro. After weeks of uncertainty, European Central Bank's chief Mario Draghi on Thursday unveiled a much-awaited bond-buying plan. The scheme includes buying 'unlimited' amounts of short-term government debt from troubled countries and it is designed to lower the borrowing costs of Italy and Spain. Draghi also said the scheme was a \"fully effective backstop\" and that the euro was \"irreversible\".</div></div>\n",
       "</div>\n",
       "</div><div class=\"col-xs-12 col-sm-6 col-md-4 col-lg-3\">\n",
       "<div class=\"ea-teaser ea-teaser-news\">\n",
       "<div class=\"ea-teaser-labels\"><a href=\"http://www.euractiv.com/news/\">News</a></div>\n",
       "<a href=\"http://www.euractiv.com/section/euro-finance/news/draghi-to-propose-unlimited-bond-buying-plan/\"><span class=\"image-background\"><img class=\"lazy-load img-responsive hidden-no-js\" data-src=\"http://www.euractiv.com/wp-content/uploads/sites/2/2011/12/Draghi.jpeg\" data-strategy=\"crop\" src=\"//assets.euractiv.com/lazy-load/placeholder/16x9.png\" style=\"width:100%\"/><noscript><img class=\"img-responsive\" src=\"http://www.euractiv.com/wp-content/uploads/sites/2/2011/12/Draghi.jpeg\" style=\"width:100%\"/></noscript></span></a>\n",
       "<div class=\"ea-teaser-meta\"><a href=\"http://www.euractiv.com/sections/euro-finance/\">Euro &amp; Finance</a><span class=\"ea-dateformat\" data-timestamp=\"1346921330\">\n",
       "<i class=\"fa fa-calendar\"></i>\n",
       "                      06-09-2012\n",
       "                  </span></div>\n",
       "<div class=\"ea-teaser-caption\"><h3><a href=\"http://www.euractiv.com/section/euro-finance/news/draghi-to-propose-unlimited-bond-buying-plan/\">Draghi to propose 'unlimited' bond buying plan </a></h3><div class=\"ea-teaser-abstract\">European Central Bank chief Mario Draghi faces the most decisive moment of his presidency today (6 September) when he tries to heal divisions among policymakers and deliver on his promise to save the euro. A leaked draft reveals that the plan includes buying 'unlimited' quantities of government debt from troubled countries.\n",
       "</div></div>\n",
       "</div>\n",
       "</div><div class=\"col-xs-12 col-sm-6 col-md-4 col-lg-3\">\n",
       "<div class=\"ea-teaser ea-teaser-video ea-teaser-promoted\">\n",
       "<div class=\"ea-teaser-labels\"><a class=\"hidden-xs\" href=\"http://www.euractiv.com/video/\"><i class=\"fa fa-play\"></i></a><a href=\"http://www.euractiv.com/video/\">Video</a><span>Promoted</span></div>\n",
       "<a href=\"http://www.euractiv.com/section/euro-finance/video/meps-disclose-draghi-s-bond-buying-plan/\"><span class=\"image-background\"><img class=\"lazy-load img-responsive hidden-no-js\" data-src=\"http://www.euractiv.com/wp-content/themes/euractiv_base/media/placeholder.png\" data-strategy=\"crop\" src=\"//assets.euractiv.com/lazy-load/placeholder/16x9.png\" style=\"width:100%\"/><noscript><img class=\"img-responsive\" src=\"http://www.euractiv.com/wp-content/themes/euractiv_base/media/placeholder.png\" style=\"width:100%\"/></noscript></span></a>\n",
       "<div class=\"ea-teaser-meta\"><a href=\"http://www.euractiv.com/sections/euro-finance/\">Euro &amp; Finance</a><span class=\"ea-dateformat\" data-timestamp=\"1346766217\">\n",
       "<i class=\"fa fa-calendar\"></i>\n",
       "                      04-09-2012\n",
       "                  </span></div>\n",
       "<div class=\"ea-teaser-caption\"><h3><a href=\"http://www.euractiv.com/section/euro-finance/video/meps-disclose-draghi-s-bond-buying-plan/\">MEPs disclose Draghi's bond-buying plan</a></h3><div class=\"ea-teaser-abstract\">Despite strong German opposition, the ECB could buy government bonds maturing in three years or less. This is what European Central Bank chief Mario Draghi suggested to a closed hearing at the European Parliament on Monday, according to MEPs present.\n",
       "\"I understood the exchange in such a way that in the future there will be again interventions by the ECB.\" ALSO \"I would see this in such a way that there could be tensions in the ECB Board, that's why he did not wanted to comment in public.\", said Sven GIEGOLD (Greens/ALE, DE).</div></div>\n",
       "</div>\n",
       "</div><div class=\"col-xs-12 col-sm-6 col-md-4 col-lg-3\">\n",
       "<div class=\"ea-teaser ea-teaser-news\">\n",
       "<div class=\"ea-teaser-labels\"><a href=\"http://www.euractiv.com/news/\">News</a></div>\n",
       "<a href=\"http://www.euractiv.com/section/future-eu/news/draghi-united-states-of-europe-not-necessary-to-save-the-euro/\"><span class=\"image-background\"><img class=\"lazy-load img-responsive hidden-no-js\" data-src=\"http://www.euractiv.com/wp-content/uploads/sites/2/2012/08/Mario Draghi finger_Picmonkey.jpeg\" data-strategy=\"crop\" src=\"//assets.euractiv.com/lazy-load/placeholder/16x9.png\" style=\"width:100%\"/><noscript><img class=\"img-responsive\" src=\"http://www.euractiv.com/wp-content/uploads/sites/2/2012/08/Mario Draghi finger_Picmonkey.jpeg\" style=\"width:100%\"/></noscript></span></a>\n",
       "<div class=\"ea-teaser-meta\"><a href=\"http://www.euractiv.com/sections/future-eu/\">Future EU</a><span class=\"ea-dateformat\" data-timestamp=\"1346312213\">\n",
       "<i class=\"fa fa-calendar\"></i>\n",
       "                      30-08-2012\n",
       "                  </span></div>\n",
       "<div class=\"ea-teaser-caption\"><h3><a href=\"http://www.euractiv.com/section/future-eu/news/draghi-united-states-of-europe-not-necessary-to-save-the-euro/\">Draghi: 'United States of Europe' not necessary to save the euro</a></h3><div class=\"ea-teaser-abstract\">In a rare political declaration, Mario Draghi, president of the European Central Bank (ECB), has rejected \"binary choices\" for the eurozone's future, dismissing calls for a \"United States of Europe\" as well as a return to national currencies to stop the sovereign debt crisis.\n",
       "</div></div>\n",
       "</div>\n",
       "</div><div class=\"col-xs-12 col-sm-6 col-md-4 col-lg-3\">\n",
       "<div class=\"ea-teaser ea-teaser-news\">\n",
       "<div class=\"ea-teaser-labels\"><a href=\"http://www.euractiv.com/news/\">News</a></div>\n",
       "<a href=\"http://www.euractiv.com/section/euro-finance/news/draghi-pledges-ecb-intervention-but-with-rescue-funds/\"><span class=\"image-background\"><img class=\"lazy-load img-responsive hidden-no-js\" data-src=\"http://www.euractiv.com/wp-content/uploads/sites/2/2011/12/Mario Draghi 2011.jpeg\" data-strategy=\"crop\" src=\"//assets.euractiv.com/lazy-load/placeholder/16x9.png\" style=\"width:100%\"/><noscript><img class=\"img-responsive\" src=\"http://www.euractiv.com/wp-content/uploads/sites/2/2011/12/Mario Draghi 2011.jpeg\" style=\"width:100%\"/></noscript></span></a>\n",
       "<div class=\"ea-teaser-meta\"><a href=\"http://www.euractiv.com/sections/euro-finance/\">Euro &amp; Finance</a><span class=\"ea-dateformat\" data-timestamp=\"1343981952\">\n",
       "<i class=\"fa fa-calendar\"></i>\n",
       "                      03-08-2012\n",
       "                  </span></div>\n",
       "<div class=\"ea-teaser-caption\"><h3><a href=\"http://www.euractiv.com/section/euro-finance/news/draghi-pledges-ecb-intervention-but-with-rescue-funds/\">Draghi pledges ECB intervention, but with rescue funds</a></h3><div class=\"ea-teaser-abstract\">The European Central Bank disappointed markets as it said yesterday (2 August) that it is prepared to buy Italian and Spanish bonds on the open market but only after eurozone governments have activated bailout funds to do the same.\n",
       "</div></div>\n",
       "</div>\n",
       "</div><div class=\"col-xs-12 col-sm-6 col-md-4 col-lg-3\">\n",
       "<div class=\"ea-teaser ea-teaser-news\">\n",
       "<div class=\"ea-teaser-labels\"><a href=\"http://www.euractiv.com/news/\">News</a></div>\n",
       "<a href=\"http://www.euractiv.com/section/euro-finance/news/eu-investigates-ecb-s-draghi-following-complaint/\"><span class=\"image-background\"><img class=\"lazy-load img-responsive hidden-no-js\" data-src=\"http://www.euractiv.com/wp-content/uploads/sites/2/2011/05/Mario-Draghi.jpeg\" data-strategy=\"crop\" src=\"//assets.euractiv.com/lazy-load/placeholder/16x9.png\" style=\"width:100%\"/><noscript><img class=\"img-responsive\" src=\"http://www.euractiv.com/wp-content/uploads/sites/2/2011/05/Mario-Draghi.jpeg\" style=\"width:100%\"/></noscript></span></a>\n",
       "<div class=\"ea-teaser-meta\"><a href=\"http://www.euractiv.com/sections/euro-finance/\">Euro &amp; Finance</a><span class=\"ea-dateformat\" data-timestamp=\"1343720734\">\n",
       "<i class=\"fa fa-calendar\"></i>\n",
       "                      31-07-2012\n",
       "                  </span></div>\n",
       "<div class=\"ea-teaser-caption\"><h3><a href=\"http://www.euractiv.com/section/euro-finance/news/eu-investigates-ecb-s-draghi-following-complaint/\">EU investigates ECB's Draghi following complaint</a></h3><div class=\"ea-teaser-abstract\">The European Union's internal watchdog has launched an investigation of European Central Bank President Mario Draghi, following a complaint of conflict of interest, the institution's spokeswoman said yesterday (30 July).\n",
       "</div></div>\n",
       "</div>\n",
       "</div><div class=\"col-xs-12 col-sm-6 col-md-4 col-lg-3\">\n",
       "<div class=\"ea-teaser ea-teaser-news\">\n",
       "<div class=\"ea-teaser-labels\"><a href=\"http://www.euractiv.com/news/\">News</a></div>\n",
       "<a href=\"http://www.euractiv.com/section/eu-priorities-2020/news/ecb-s-draghi-calls-for-ten-year-eu-growth-plan/\"><span class=\"image-background\"><img class=\"lazy-load img-responsive hidden-no-js\" data-src=\"http://www.euractiv.com/wp-content/uploads/sites/2/2011/11/Mario Draghi smiling_Picnik.jpeg\" data-strategy=\"crop\" src=\"//assets.euractiv.com/lazy-load/placeholder/16x9.png\" style=\"width:100%\"/><noscript><img class=\"img-responsive\" src=\"http://www.euractiv.com/wp-content/uploads/sites/2/2011/11/Mario Draghi smiling_Picnik.jpeg\" style=\"width:100%\"/></noscript></span></a>\n",
       "<div class=\"ea-teaser-meta\"><a href=\"http://www.euractiv.com/sections/eu-priorities-2020/\">EU Priorities 2020</a><span class=\"ea-dateformat\" data-timestamp=\"1336119006\">\n",
       "<i class=\"fa fa-calendar\"></i>\n",
       "                      04-05-2012\n",
       "                  </span></div>\n",
       "<div class=\"ea-teaser-caption\"><h3><a href=\"http://www.euractiv.com/section/eu-priorities-2020/news/ecb-s-draghi-calls-for-ten-year-eu-growth-plan/\">ECB's Draghi calls for ten-year EU growth plan</a></h3><div class=\"ea-teaser-abstract\">European Central Bank President Mario Draghi, reflecting growing anxiety among Europeans about their economic plight, said on Thursday (3 May) that growth should be at the heart of euro zone policy but that it needed to go hand in hand with fiscal austerity.\n",
       "</div></div>\n",
       "</div>\n",
       "</div><div class=\"col-xs-12 col-sm-6 col-md-4 col-lg-3\">\n",
       "<div class=\"ea-teaser ea-teaser-news\">\n",
       "<div class=\"ea-teaser-labels\"><a href=\"http://www.euractiv.com/news/\">News</a></div>\n",
       "<a href=\"http://www.euractiv.com/section/euro-finance/news/merkel-backs-draghi-s-call-for-growth-pact/\"><span class=\"image-background\"><img class=\"lazy-load img-responsive hidden-no-js\" data-src=\"http://www.euractiv.com/wp-content/uploads/sites/2/2011/12/draghi merkel barroso.jpeg\" data-strategy=\"crop\" src=\"//assets.euractiv.com/lazy-load/placeholder/16x9.png\" style=\"width:100%\"/><noscript><img class=\"img-responsive\" src=\"http://www.euractiv.com/wp-content/uploads/sites/2/2011/12/draghi merkel barroso.jpeg\" style=\"width:100%\"/></noscript></span></a>\n",
       "<div class=\"ea-teaser-meta\"><a href=\"http://www.euractiv.com/sections/euro-finance/\">Euro &amp; Finance</a><span class=\"ea-dateformat\" data-timestamp=\"1335428377\">\n",
       "<i class=\"fa fa-calendar\"></i>\n",
       "                      26-04-2012\n",
       "                  </span></div>\n",
       "<div class=\"ea-teaser-caption\"><h3><a href=\"http://www.euractiv.com/section/euro-finance/news/merkel-backs-draghi-s-call-for-growth-pact/\">Merkel backs Draghi's call for growth pact</a></h3><div class=\"ea-teaser-abstract\">European Central Bank President Mario Draghi urged eurozone governments to shape-up their economies and called for an EU \"growth compact,\" which Germany backed, rejecting charges that they support only austerity measures to solve the debt crisis.\n",
       "</div></div>\n",
       "</div>\n",
       "</div></div><br/></div> </div>\n",
       "</div>"
      ]
     },
     "execution_count": 101,
     "metadata": {},
     "output_type": "execute_result"
    }
   ],
   "source": [
    "block[4]"
   ]
  },
  {
   "cell_type": "code",
   "execution_count": 112,
   "metadata": {
    "collapsed": false,
    "scrolled": false
   },
   "outputs": [
    {
     "name": "stdout",
     "output_type": "stream",
     "text": [
      "http://www.euractiv.com/page/2/?s=mario+draghi\n",
      "http://www.euractiv.com/page/3/?s=mario+draghi\n",
      "http://www.euractiv.com/page/4/?s=mario+draghi\n",
      "http://www.euractiv.com/page/5/?s=mario+draghi\n",
      "http://www.euractiv.com/page/6/?s=mario+draghi\n",
      "http://www.euractiv.com/page/7/?s=mario+draghi\n",
      "http://www.euractiv.com/page/8/?s=mario+draghi\n",
      "You must `download()` an article before calling `parse()` on it!\n",
      "http://www.euractiv.com/page/9/?s=mario+draghi\n",
      "You must `download()` an article before calling `parse()` on it!\n"
     ]
    }
   ],
   "source": [
    "search_url = 'http://www.euractiv.com/?s=mario+draghi'\n",
    "# 'http://www.euractiv.com/page/2/?s=mario+draghi'\n",
    "# for all names, and 10 pages?\n",
    "\n",
    "def getLinksEurActiv(search_url):\n",
    "    r = requests.get(search_url)\n",
    "    soup = BeautifulSoup(r.text, 'lxml')\n",
    "    \n",
    "    block = soup.find_all(\"div\",{\"class\":\"row\"})[4]\n",
    "    article_links = []\n",
    "    \n",
    "    for b in block.find_all(\"a\"):\n",
    "        if len(b['href'].split('/')) > 6 and b['href'] not in article_links:\n",
    "            article_links.append(b['href'])\n",
    "    \n",
    "    return article_links\n",
    "\n",
    "\n",
    "def NewspaperParse(url, authors='authors'):\n",
    "    article = Article(url)   \n",
    "    \n",
    "    try:\n",
    "        article.download()\n",
    "        article.parse()\n",
    "        r_datetime = article.publish_date\n",
    "        d = datetime.strftime(r_datetime, '%Y-%m-%d')\n",
    "        t = datetime.strftime(r_datetime, '%H:%M:%S')\n",
    "        raw_text = article.text\n",
    "        if authors =='authors':\n",
    "            author = article.authors[0]\n",
    "        else:\n",
    "            author = 'none'\n",
    "        return d, t, raw_text, author\n",
    "    except:\n",
    "        return 'none', 'none', 'none', 'none'\n",
    "        \n",
    "\n",
    "article_links = []\n",
    "euractiv_dic = {}\n",
    "\n",
    "for i in range(2,10):\n",
    "    search_url = 'http://www.euractiv.com/page/{}/?s=mario+draghi'.format(i)\n",
    "    print(search_url)\n",
    "    links = getLinksEurActiv(search_url)\n",
    "    article_links.extend(links)\n",
    "    article_links = list(set(article_links))\n",
    "    \n",
    "    for link in article_links:\n",
    "        d, t, raw_text, author = NewspaperParse(link, 'none')\n",
    "        if d != 'none':\n",
    "            if d in euractiv_dic:\n",
    "                euractiv_dic[d].append([(author, t, raw_text)])\n",
    "            else:\n",
    "                euractiv_dic[d] = [(author, t, raw_text)]\n",
    "    \n",
    "\n"
   ]
  },
  {
   "cell_type": "code",
   "execution_count": 118,
   "metadata": {
    "collapsed": false
   },
   "outputs": [
    {
     "name": "stdout",
     "output_type": "stream",
     "text": [
      "  % Total    % Received % Xferd  Average Speed   Time    Time     Time  Current\n",
      "                                 Dload  Upload   Total   Spent    Left  Speed\n",
      "100 31656  100 31656    0     0  38823      0 --:--:-- --:--:-- --:--:-- 38794\n"
     ]
    }
   ],
   "source": [
    "'http://content.guardianapis.com/search?section=business&from-date=2001-01-01&page-size=161&q=vitor%20constancio&api-key=458f61b9-2ff0-4a3f-98a1-feff65660ca6'"
   ]
  },
  {
   "cell_type": "code",
   "execution_count": 119,
   "metadata": {
    "collapsed": true
   },
   "outputs": [],
   "source": [
    "r = requests.get('http://content.guardianapis.com/search?section=business&from-date=2001-01-01&page-size=161&q=vitor%20constancio&api-key=458f61b9-2ff0-4a3f-98a1-feff65660ca6')"
   ]
  },
  {
   "cell_type": "code",
   "execution_count": 1,
   "metadata": {
    "collapsed": false
   },
   "outputs": [],
   "source": [
    "import json\n",
    "\n",
    "with open('../data/guardian.json') as data_file:    \n",
    "    guardian_results = json.load(data_file)"
   ]
  },
  {
   "cell_type": "code",
   "execution_count": 2,
   "metadata": {
    "collapsed": false
   },
   "outputs": [],
   "source": [
    "text = guardian_results['2016-08-05'][0][2]"
   ]
  },
  {
   "cell_type": "code",
   "execution_count": 6,
   "metadata": {
    "collapsed": false
   },
   "outputs": [
    {
     "name": "stdout",
     "output_type": "stream",
     "text": [
      "Score: 0.1\n",
      "Magnitude: 5.8\n"
     ]
    }
   ],
   "source": [
    "# from google.cloud import language\n",
    "\n",
    "# language_client = language.Client()\n",
    "# document = language_client.document_from_text(text)\n",
    "# sentiment = document.analyze_sentiment()\n",
    "# entities = document.analyze_entities()\n",
    "\n",
    "print('Score: {}'.format(sentiment.score))\n",
    "print('Magnitude: {}'.format(sentiment.magnitude))"
   ]
  },
  {
   "cell_type": "code",
   "execution_count": 5,
   "metadata": {
    "collapsed": false
   },
   "outputs": [
    {
     "name": "stdout",
     "output_type": "stream",
     "text": [
      "====================\n",
      "name            : Arsène Wenger\n",
      "type            : PERSON\n",
      "wikipedia_url   : http://en.wikipedia.org/wiki/Ars%C3%A8ne_Wenger\n",
      "metadata        : {'mid': '/m/01gjbw'}\n",
      "salience        : 0.14021197\n",
      "====================\n",
      "name            : picture\n",
      "type            : WORK_OF_ART\n",
      "wikipedia_url   : None\n",
      "metadata        : {}\n",
      "salience        : 0.10435785\n",
      "====================\n",
      "name            : businessman\n",
      "type            : PERSON\n",
      "wikipedia_url   : None\n",
      "metadata        : {}\n",
      "salience        : 0.035288125\n",
      "====================\n",
      "name            : bed\n",
      "type            : OTHER\n",
      "wikipedia_url   : None\n",
      "metadata        : {}\n",
      "salience        : 0.035288125\n",
      "====================\n",
      "name            : transfer talk\n",
      "type            : OTHER\n",
      "wikipedia_url   : None\n",
      "metadata        : {}\n",
      "salience        : 0.035288125\n",
      "====================\n",
      "name            : tittle-tattle\n",
      "type            : EVENT\n",
      "wikipedia_url   : None\n",
      "metadata        : {}\n",
      "salience        : 0.035288125\n",
      "====================\n",
      "name            : Real Madrid\n",
      "type            : ORGANIZATION\n",
      "wikipedia_url   : http://en.wikipedia.org/wiki/Real_Madrid_C.F.\n",
      "metadata        : {'mid': '/m/06l22'}\n",
      "salience        : 0.023057677\n",
      "====================\n",
      "name            : Riyad Mahrez\n",
      "type            : PERSON\n",
      "wikipedia_url   : http://en.wikipedia.org/wiki/Riyad_Mahrez\n",
      "metadata        : {'mid': '/m/0_1k32v'}\n",
      "salience        : 0.021819308\n",
      "====================\n",
      "name            : Thai\n",
      "type            : LOCATION\n",
      "wikipedia_url   : http://en.wikipedia.org/wiki/Thailand\n",
      "metadata        : {'mid': '/m/07f1x'}\n",
      "salience        : 0.021788506\n",
      "====================\n",
      "name            : Vichai Srivaddhanaprabha\n",
      "type            : PERSON\n",
      "wikipedia_url   : http://en.wikipedia.org/wiki/Vichai_Srivaddhanaprabha\n",
      "metadata        : {'mid': '/m/0dlk2pl'}\n",
      "salience        : 0.021788506\n",
      "====================\n",
      "name            : Joleon Lescott\n",
      "type            : PERSON\n",
      "wikipedia_url   : http://en.wikipedia.org/wiki/Joleon_Lescott\n",
      "metadata        : {'mid': '/m/09b_c0'}\n",
      "salience        : 0.01861842\n",
      "====================\n",
      "name            : Mahrez\n",
      "type            : OTHER\n",
      "wikipedia_url   : None\n",
      "metadata        : {}\n",
      "salience        : 0.018353153\n",
      "====================\n",
      "name            : sale\n",
      "type            : OTHER\n",
      "wikipedia_url   : None\n",
      "metadata        : {}\n",
      "salience        : 0.018091477\n",
      "====================\n",
      "name            : armchair\n",
      "type            : CONSUMER_GOOD\n",
      "wikipedia_url   : None\n",
      "metadata        : {}\n",
      "salience        : 0.018091477\n",
      "====================\n",
      "name            : elsewhere\n",
      "type            : LOCATION\n",
      "wikipedia_url   : None\n",
      "metadata        : {}\n",
      "salience        : 0.018091477\n",
      "====================\n",
      "name            : Islam Slimani\n",
      "type            : PERSON\n",
      "wikipedia_url   : http://en.wikipedia.org/wiki/Islam_Slimani\n",
      "metadata        : {'mid': '/m/0gh6hy_'}\n",
      "salience        : 0.016193494\n",
      "====================\n",
      "name            : Romelu Lukaku\n",
      "type            : PERSON\n",
      "wikipedia_url   : http://en.wikipedia.org/wiki/Romelu_Lukaku\n",
      "metadata        : {'mid': '/m/06420dm'}\n",
      "salience        : 0.014541745\n",
      "====================\n",
      "name            : David Alaba\n",
      "type            : PERSON\n",
      "wikipedia_url   : http://en.wikipedia.org/wiki/David_Alaba\n",
      "metadata        : {'mid': '/m/05zlgbs'}\n",
      "salience        : 0.0130526675\n",
      "====================\n",
      "name            : move\n",
      "type            : OTHER\n",
      "wikipedia_url   : None\n",
      "metadata        : {}\n",
      "salience        : 0.010840312\n",
      "====================\n",
      "name            : right-back\n",
      "type            : OTHER\n",
      "wikipedia_url   : None\n",
      "metadata        : {}\n",
      "salience        : 0.009613896\n",
      "====================\n",
      "name            : prospect\n",
      "type            : OTHER\n",
      "wikipedia_url   : None\n",
      "metadata        : {}\n",
      "salience        : 0.009613896\n",
      "====================\n",
      "name            : more\n",
      "type            : OTHER\n",
      "wikipedia_url   : None\n",
      "metadata        : {}\n",
      "salience        : 0.008910793\n",
      "====================\n",
      "name            : Peter Crouch\n",
      "type            : PERSON\n",
      "wikipedia_url   : http://en.wikipedia.org/wiki/Peter_Crouch\n",
      "metadata        : {'mid': '/m/03y5_6'}\n",
      "salience        : 0.008571228\n",
      "====================\n",
      "name            : thing\n",
      "type            : OTHER\n",
      "wikipedia_url   : None\n",
      "metadata        : {}\n",
      "salience        : 0.007951179\n",
      "====================\n",
      "name            : flank\n",
      "type            : OTHER\n",
      "wikipedia_url   : None\n",
      "metadata        : {}\n",
      "salience        : 0.00746337\n",
      "====================\n",
      "name            : nowhere\n",
      "type            : LOCATION\n",
      "wikipedia_url   : None\n",
      "metadata        : {}\n",
      "salience        : 0.00746337\n",
      "====================\n",
      "name            : rigmarole\n",
      "type            : OTHER\n",
      "wikipedia_url   : None\n",
      "metadata        : {}\n",
      "salience        : 0.00746337\n",
      "====================\n",
      "name            : pen\n",
      "type            : OTHER\n",
      "wikipedia_url   : None\n",
      "metadata        : {}\n",
      "salience        : 0.00746337\n",
      "====================\n",
      "name            : paper\n",
      "type            : OTHER\n",
      "wikipedia_url   : None\n",
      "metadata        : {}\n",
      "salience        : 0.00746337\n",
      "====================\n",
      "name            : eyes\n",
      "type            : OTHER\n",
      "wikipedia_url   : None\n",
      "metadata        : {}\n",
      "salience        : 0.00746337\n",
      "====================\n",
      "name            : Valencia\n",
      "type            : LOCATION\n",
      "wikipedia_url   : http://en.wikipedia.org/wiki/Valencia_CF\n",
      "metadata        : {'mid': '/m/080_y'}\n",
      "salience        : 0.0069864583\n",
      "====================\n",
      "name            : Thiago Maia\n",
      "type            : PERSON\n",
      "wikipedia_url   : None\n",
      "metadata        : {}\n",
      "salience        : 0.006963228\n",
      "====================\n",
      "name            : striker\n",
      "type            : OTHER\n",
      "wikipedia_url   : None\n",
      "metadata        : {}\n",
      "salience        : 0.006723882\n",
      "====================\n",
      "name            : Marvin Sordell\n",
      "type            : PERSON\n",
      "wikipedia_url   : http://en.wikipedia.org/wiki/Marvin_Sordell\n",
      "metadata        : {'mid': '/m/07kbdbh'}\n",
      "salience        : 0.00655774\n",
      "====================\n",
      "name            : club\n",
      "type            : ORGANIZATION\n",
      "wikipedia_url   : None\n",
      "metadata        : {}\n",
      "salience        : 0.0058191675\n",
      "====================\n",
      "name            : defenders\n",
      "type            : PERSON\n",
      "wikipedia_url   : None\n",
      "metadata        : {}\n",
      "salience        : 0.0058191675\n",
      "====================\n",
      "name            : season\n",
      "type            : EVENT\n",
      "wikipedia_url   : None\n",
      "metadata        : {}\n",
      "salience        : 0.0058191675\n",
      "====================\n",
      "name            : defenders\n",
      "type            : PERSON\n",
      "wikipedia_url   : None\n",
      "metadata        : {}\n",
      "salience        : 0.0058191675\n",
      "====================\n",
      "name            : Jorge Mendes\n",
      "type            : PERSON\n",
      "wikipedia_url   : http://en.wikipedia.org/wiki/Jorge_Mendes\n",
      "metadata        : {'mid': '/m/0cnz009'}\n",
      "salience        : 0.0058056754\n",
      "====================\n",
      "name            : Liverpool\n",
      "type            : LOCATION\n",
      "wikipedia_url   : http://en.wikipedia.org/wiki/Liverpool_F.C.\n",
      "metadata        : {'mid': '/m/04ltf'}\n",
      "salience        : 0.005492012\n",
      "====================\n",
      "name            : Mario Balotelli\n",
      "type            : PERSON\n",
      "wikipedia_url   : http://en.wikipedia.org/wiki/Mario_Balotelli\n",
      "metadata        : {'mid': '/m/0271y0h'}\n",
      "salience        : 0.005492012\n",
      "====================\n",
      "name            : training ground\n",
      "type            : OTHER\n",
      "wikipedia_url   : None\n",
      "metadata        : {}\n",
      "salience        : 0.0052348003\n",
      "====================\n",
      "name            : place\n",
      "type            : LOCATION\n",
      "wikipedia_url   : None\n",
      "metadata        : {}\n",
      "salience        : 0.0052348003\n",
      "====================\n",
      "name            : euro notes\n",
      "type            : OTHER\n",
      "wikipedia_url   : None\n",
      "metadata        : {}\n",
      "salience        : 0.0052348003\n",
      "====================\n",
      "name            : briefcase\n",
      "type            : OTHER\n",
      "wikipedia_url   : None\n",
      "metadata        : {}\n",
      "salience        : 0.0052348003\n",
      "====================\n",
      "name            : Football transfer rumours\n",
      "type            : OTHER\n",
      "wikipedia_url   : None\n",
      "metadata        : {}\n",
      "salience        : 0.0052348003\n",
      "====================\n",
      "name            : list\n",
      "type            : OTHER\n",
      "wikipedia_url   : None\n",
      "metadata        : {}\n",
      "salience        : 0.005039549\n",
      "====================\n",
      "name            : end\n",
      "type            : OTHER\n",
      "wikipedia_url   : None\n",
      "metadata        : {}\n",
      "salience        : 0.005039549\n",
      "====================\n",
      "name            : stash\n",
      "type            : OTHER\n",
      "wikipedia_url   : None\n",
      "metadata        : {}\n",
      "salience        : 0.005039549\n",
      "====================\n",
      "name            : bid\n",
      "type            : OTHER\n",
      "wikipedia_url   : None\n",
      "metadata        : {}\n",
      "salience        : 0.004873323\n",
      "====================\n",
      "name            : Jonny Evans\n",
      "type            : PERSON\n",
      "wikipedia_url   : http://en.wikipedia.org/wiki/Jonny_Evans\n",
      "metadata        : {'mid': '/m/0bz06j'}\n",
      "salience        : 0.0046545817\n",
      "====================\n",
      "name            : Shkodran Mustafi\n",
      "type            : PERSON\n",
      "wikipedia_url   : http://en.wikipedia.org/wiki/Shkodran_Mustafi\n",
      "metadata        : {'mid': '/m/09rv0_6'}\n",
      "salience        : 0.0045959693\n",
      "====================\n",
      "name            : San Antonio Bay\n",
      "type            : LOCATION\n",
      "wikipedia_url   : None\n",
      "metadata        : {}\n",
      "salience        : 0.0045959693\n",
      "====================\n",
      "name            : Germany\n",
      "type            : LOCATION\n",
      "wikipedia_url   : http://en.wikipedia.org/wiki/Germany_national_football_team\n",
      "metadata        : {'mid': '/m/01l3wr'}\n",
      "salience        : 0.0045959693\n",
      "====================\n",
      "name            : Magaluf\n",
      "type            : LOCATION\n",
      "wikipedia_url   : None\n",
      "metadata        : {}\n",
      "salience        : 0.0045959693\n",
      "====================\n",
      "name            : Emirates\n",
      "type            : LOCATION\n",
      "wikipedia_url   : http://en.wikipedia.org/wiki/Emirates_Stadium\n",
      "metadata        : {'mid': '/m/035zmm'}\n",
      "salience        : 0.0045959693\n",
      "====================\n",
      "name            : Balearic Sea\n",
      "type            : LOCATION\n",
      "wikipedia_url   : None\n",
      "metadata        : {}\n",
      "salience        : 0.0045959693\n",
      "====================\n",
      "name            : club\n",
      "type            : ORGANIZATION\n",
      "wikipedia_url   : None\n",
      "metadata        : {}\n",
      "salience        : 0.0043480378\n",
      "====================\n",
      "name            : idea\n",
      "type            : OTHER\n",
      "wikipedia_url   : None\n",
      "metadata        : {}\n",
      "salience        : 0.0041671414\n",
      "====================\n",
      "name            : season\n",
      "type            : EVENT\n",
      "wikipedia_url   : None\n",
      "metadata        : {}\n",
      "salience        : 0.0036875394\n",
      "====================\n",
      "name            : deal\n",
      "type            : OTHER\n",
      "wikipedia_url   : None\n",
      "metadata        : {}\n",
      "salience        : 0.0035791802\n",
      "====================\n",
      "name            : Rio Games\n",
      "type            : WORK_OF_ART\n",
      "wikipedia_url   : None\n",
      "metadata        : {}\n",
      "salience        : 0.0034338096\n",
      "====================\n",
      "name            : Leicester City\n",
      "type            : ORGANIZATION\n",
      "wikipedia_url   : http://en.wikipedia.org/wiki/Leicester_City_F.C.\n",
      "metadata        : {'mid': '/m/01rlzn'}\n",
      "salience        : 0.0032786774\n",
      "====================\n",
      "name            : Melwood\n",
      "type            : LOCATION\n",
      "wikipedia_url   : http://en.wikipedia.org/wiki/Melwood\n",
      "metadata        : {'mid': '/m/0c98q4'}\n",
      "salience        : 0.0032229216\n",
      "====================\n",
      "name            : Florentino Pérez\n",
      "type            : PERSON\n",
      "wikipedia_url   : http://en.wikipedia.org/wiki/Florentino_P%C3%A9rez\n",
      "metadata        : {'mid': '/m/08cn01'}\n",
      "salience        : 0.0032229216\n",
      "====================\n",
      "name            : Mamadou Sakho\n",
      "type            : PERSON\n",
      "wikipedia_url   : http://en.wikipedia.org/wiki/Mamadou_Sakho\n",
      "metadata        : {'mid': '/m/02rwdy6'}\n",
      "salience        : 0.0032229216\n",
      "====================\n",
      "name            : Julian Draxler\n",
      "type            : PERSON\n",
      "wikipedia_url   : http://en.wikipedia.org/wiki/Julian_Draxler\n",
      "metadata        : {'mid': '/m/0g9y0sx'}\n",
      "salience        : 0.0032229216\n",
      "====================\n",
      "name            : Arsenal\n",
      "type            : ORGANIZATION\n",
      "wikipedia_url   : http://en.wikipedia.org/wiki/Arsenal_F.C.\n",
      "metadata        : {'mid': '/m/0xbm'}\n",
      "salience        : 0.0032229216\n",
      "====================\n",
      "name            : Bayern Munich\n",
      "type            : ORGANIZATION\n",
      "wikipedia_url   : http://en.wikipedia.org/wiki/FC_Bayern_Munich\n",
      "metadata        : {'mid': '/m/0175rc'}\n",
      "salience        : 0.0032229216\n",
      "====================\n",
      "name            : scene\n",
      "type            : LOCATION\n",
      "wikipedia_url   : None\n",
      "metadata        : {}\n",
      "salience        : 0.0031932774\n",
      "====================\n",
      "name            : target\n",
      "type            : OTHER\n",
      "wikipedia_url   : None\n",
      "metadata        : {}\n",
      "salience        : 0.0031932774\n",
      "====================\n",
      "name            : Premier League\n",
      "type            : ORGANIZATION\n",
      "wikipedia_url   : http://en.wikipedia.org/wiki/Premier_League\n",
      "metadata        : {'mid': '/m/02_tc'}\n",
      "salience        : 0.003102653\n",
      "====================\n",
      "name            : La Liga\n",
      "type            : ORGANIZATION\n",
      "wikipedia_url   : http://en.wikipedia.org/wiki/La_Liga\n",
      "metadata        : {'mid': '/m/09gqx'}\n",
      "salience        : 0.003102653\n",
      "====================\n",
      "name            : Calum Chambers\n",
      "type            : PERSON\n",
      "wikipedia_url   : http://en.wikipedia.org/wiki/Calum_Chambers\n",
      "metadata        : {'mid': '/m/0lqfq9y'}\n",
      "salience        : 0.003102653\n",
      "====================\n",
      "name            : Mathieu Debuchy\n",
      "type            : PERSON\n",
      "wikipedia_url   : http://en.wikipedia.org/wiki/Mathieu_Debuchy\n",
      "metadata        : {'mid': '/m/07spsl'}\n",
      "salience        : 0.003102653\n",
      "====================\n",
      "name            : West Brom\n",
      "type            : LOCATION\n",
      "wikipedia_url   : http://en.wikipedia.org/wiki/West_Bromwich_Albion_F.C.\n",
      "metadata        : {'mid': '/m/085v7'}\n",
      "salience        : 0.003102653\n",
      "====================\n",
      "name            : Gabriel\n",
      "type            : PERSON\n",
      "wikipedia_url   : http://en.wikipedia.org/wiki/Gabriel_Paulista\n",
      "metadata        : {'mid': '/m/0ngj_vz'}\n",
      "salience        : 0.003102653\n",
      "====================\n",
      "name            : Chelsea\n",
      "type            : ORGANIZATION\n",
      "wikipedia_url   : http://en.wikipedia.org/wiki/Chelsea_F.C.\n",
      "metadata        : {'mid': '/m/023fb'}\n",
      "salience        : 0.0030271572\n",
      "====================\n",
      "name            : transfer\n",
      "type            : EVENT\n",
      "wikipedia_url   : None\n",
      "metadata        : {}\n",
      "salience        : 0.0029747458\n",
      "====================\n",
      "name            : Maia\n",
      "type            : PERSON\n",
      "wikipedia_url   : None\n",
      "metadata        : {}\n",
      "salience        : 0.0029251508\n",
      "====================\n",
      "name            : striker\n",
      "type            : PERSON\n",
      "wikipedia_url   : None\n",
      "metadata        : {}\n",
      "salience        : 0.0027692239\n",
      "====================\n",
      "name            : picture\n",
      "type            : WORK_OF_ART\n",
      "wikipedia_url   : None\n",
      "metadata        : {}\n",
      "salience        : 0.0026859548\n",
      "====================\n",
      "name            : escape route\n",
      "type            : OTHER\n",
      "wikipedia_url   : None\n",
      "metadata        : {}\n",
      "salience        : 0.0026739598\n",
      "====================\n",
      "name            : Ajax\n",
      "type            : ORGANIZATION\n",
      "wikipedia_url   : http://en.wikipedia.org/wiki/AFC_Ajax\n",
      "metadata        : {'mid': '/m/0y54'}\n",
      "salience        : 0.0026312137\n",
      "====================\n",
      "name            : Jürgen Klopp\n",
      "type            : PERSON\n",
      "wikipedia_url   : http://en.wikipedia.org/wiki/J%C3%BCrgen_Klopp\n",
      "metadata        : {'mid': '/m/0463_p5'}\n",
      "salience        : 0.0026312137\n",
      "====================\n",
      "name            : Belgium\n",
      "type            : LOCATION\n",
      "wikipedia_url   : http://en.wikipedia.org/wiki/Belgium_national_football_team\n",
      "metadata        : {'mid': '/m/0329gm'}\n",
      "salience        : 0.0026312137\n",
      "====================\n",
      "name            : Italy\n",
      "type            : LOCATION\n",
      "wikipedia_url   : http://en.wikipedia.org/wiki/Italy_national_football_team\n",
      "metadata        : {'mid': '/m/01_lhg'}\n",
      "salience        : 0.0026312137\n",
      "====================\n",
      "name            : truth\n",
      "type            : OTHER\n",
      "wikipedia_url   : None\n",
      "metadata        : {}\n",
      "salience        : 0.002325863\n",
      "====================\n",
      "name            : sports car\n",
      "type            : CONSUMER_GOOD\n",
      "wikipedia_url   : None\n",
      "metadata        : {}\n",
      "salience        : 0.002325863\n",
      "====================\n",
      "name            : world\n",
      "type            : LOCATION\n",
      "wikipedia_url   : None\n",
      "metadata        : {}\n",
      "salience        : 0.002325863\n",
      "====================\n",
      "name            : social media\n",
      "type            : OTHER\n",
      "wikipedia_url   : None\n",
      "metadata        : {}\n",
      "salience        : 0.002325863\n",
      "====================\n",
      "name            : accident\n",
      "type            : EVENT\n",
      "wikipedia_url   : None\n",
      "metadata        : {}\n",
      "salience        : 0.002325863\n",
      "====================\n",
      "name            : revolution\n",
      "type            : EVENT\n",
      "wikipedia_url   : None\n",
      "metadata        : {}\n",
      "salience        : 0.002325863\n",
      "====================\n",
      "name            : Coventry City\n",
      "type            : LOCATION\n",
      "wikipedia_url   : http://en.wikipedia.org/wiki/Coventry_City_F.C.\n",
      "metadata        : {'mid': '/m/0284gc'}\n",
      "salience        : 0.0022699803\n",
      "====================\n",
      "name            : bid\n",
      "type            : OTHER\n",
      "wikipedia_url   : None\n",
      "metadata        : {}\n",
      "salience        : 0.0020065298\n",
      "====================\n",
      "name            : Aston Villa\n",
      "type            : ORGANIZATION\n",
      "wikipedia_url   : http://en.wikipedia.org/wiki/Aston_Villa_F.C.\n",
      "metadata        : {'mid': '/m/0bl8l'}\n",
      "salience        : 0.001965629\n",
      "====================\n",
      "name            : Olympics\n",
      "type            : EVENT\n",
      "wikipedia_url   : http://en.wikipedia.org/wiki/2012_Summer_Olympics\n",
      "metadata        : {'mid': '/m/06sks6'}\n",
      "salience        : 0.001965629\n",
      "====================\n",
      "name            : Bolton\n",
      "type            : LOCATION\n",
      "wikipedia_url   : http://en.wikipedia.org/wiki/Bolton_Wanderers_F.C.\n",
      "metadata        : {'mid': '/m/01rlz4'}\n",
      "salience        : 0.001965629\n",
      "====================\n",
      "name            : Brazil\n",
      "type            : LOCATION\n",
      "wikipedia_url   : http://en.wikipedia.org/wiki/Brazil\n",
      "metadata        : {'mid': '/m/015fr'}\n",
      "salience        : 0.001965629\n",
      "====================\n",
      "name            : passport\n",
      "type            : OTHER\n",
      "wikipedia_url   : None\n",
      "metadata        : {}\n",
      "salience        : 0.0017374858\n",
      "====================\n",
      "name            : boarding\n",
      "type            : EVENT\n",
      "wikipedia_url   : None\n",
      "metadata        : {}\n",
      "salience        : 0.0017374858\n",
      "====================\n",
      "name            : flight fit\n",
      "type            : OTHER\n",
      "wikipedia_url   : None\n",
      "metadata        : {}\n",
      "salience        : 0.0016939722\n",
      "====================\n",
      "name            : Leeds United\n",
      "type            : ORGANIZATION\n",
      "wikipedia_url   : http://en.wikipedia.org/wiki/Leeds_United_F.C.\n",
      "metadata        : {'mid': '/m/01xn7x1'}\n",
      "salience        : 0.0014315717\n",
      "====================\n",
      "name            : Garry Monk\n",
      "type            : PERSON\n",
      "wikipedia_url   : http://en.wikipedia.org/wiki/Garry_Monk\n",
      "metadata        : {'mid': '/m/0dsp80'}\n",
      "salience        : 0.0014315717\n",
      "====================\n",
      "name            : England\n",
      "type            : ORGANIZATION\n",
      "wikipedia_url   : http://en.wikipedia.org/wiki/England_national_football_team\n",
      "metadata        : {'mid': '/m/02pp1'}\n",
      "salience        : 0.0014315717\n",
      "====================\n",
      "name            : Stoke\n",
      "type            : LOCATION\n",
      "wikipedia_url   : http://en.wikipedia.org/wiki/Stoke_City_F.C.\n",
      "metadata        : {'mid': '/m/01cwm1'}\n",
      "salience        : 0.0014315717\n",
      "====================\n",
      "name            : Midlands\n",
      "type            : LOCATION\n",
      "wikipedia_url   : http://en.wikipedia.org/wiki/The_Midlands\n",
      "metadata        : {'mid': '/m/04lcp3p'}\n",
      "salience        : 0.0014315717\n",
      "====================\n",
      "name            : Wolves\n",
      "type            : ORGANIZATION\n",
      "wikipedia_url   : http://en.wikipedia.org/wiki/Wolverhampton_Wanderers_F.C.\n",
      "metadata        : {'mid': '/m/01fwqn'}\n",
      "salience        : 0.0014315717\n",
      "====================\n",
      "name            : Molineux\n",
      "type            : LOCATION\n",
      "wikipedia_url   : http://en.wikipedia.org/wiki/Molineux_Stadium\n",
      "metadata        : {'mid': '/m/01mx9z'}\n",
      "salience        : 0.0014315717\n",
      "====================\n",
      "name            : hopes\n",
      "type            : OTHER\n",
      "wikipedia_url   : None\n",
      "metadata        : {}\n",
      "salience        : 0.0014005231\n",
      "====================\n",
      "name            : squad\n",
      "type            : ORGANIZATION\n",
      "wikipedia_url   : None\n",
      "metadata        : {}\n",
      "salience        : 0.0012979031\n",
      "====================\n",
      "name            : Santos\n",
      "type            : PERSON\n",
      "wikipedia_url   : http://en.wikipedia.org/wiki/Santos_FC\n",
      "metadata        : {'mid': '/m/019lxm'}\n",
      "salience        : 0.0010693645\n",
      "====================\n",
      "name            : Everton\n",
      "type            : LOCATION\n",
      "wikipedia_url   : http://en.wikipedia.org/wiki/Everton_F.C.\n",
      "metadata        : {'mid': '/m/0mmd6'}\n",
      "salience        : 0.0010693645\n",
      "====================\n",
      "name            : Ronald Koeman\n",
      "type            : PERSON\n",
      "wikipedia_url   : http://en.wikipedia.org/wiki/Ronald_Koeman\n",
      "metadata        : {'mid': '/m/03ctcm'}\n",
      "salience        : 0.0010693645\n",
      "====================\n",
      "name            : John Lennon Airport\n",
      "type            : LOCATION\n",
      "wikipedia_url   : http://en.wikipedia.org/wiki/Liverpool_John_Lennon_Airport\n",
      "metadata        : {'mid': '/m/015x8d'}\n",
      "salience        : 0.0010693645\n",
      "====================\n",
      "name            : Sporting Lisbon\n",
      "type            : ORGANIZATION\n",
      "wikipedia_url   : http://en.wikipedia.org/wiki/Sporting_Clube_de_Portugal\n",
      "metadata        : {'mid': '/m/03b04g'}\n",
      "salience        : 0.0010693645\n",
      "====================\n",
      "name            : Antonio Conte\n",
      "type            : PERSON\n",
      "wikipedia_url   : http://en.wikipedia.org/wiki/Antonio_Conte\n",
      "metadata        : {'mid': '/m/0dt22v'}\n",
      "salience        : 0.0010693645\n"
     ]
    }
   ],
   "source": [
    "for entity in entities:\n",
    "        print('=' * 20)\n",
    "        print('{:<16}: {}'.format('name', entity.name))\n",
    "        print('{:<16}: {}'.format('type', entity.entity_type))\n",
    "        print('{:<16}: {}'.format('wikipedia_url', entity.wikipedia_url))\n",
    "        print('{:<16}: {}'.format('metadata', entity.metadata))\n",
    "        print('{:<16}: {}'.format('salience', entity.salience))"
   ]
  },
  {
   "cell_type": "code",
   "execution_count": null,
   "metadata": {
    "collapsed": true
   },
   "outputs": [],
   "source": []
  }
 ],
 "metadata": {
  "kernelspec": {
   "display_name": "Python 3",
   "language": "python",
   "name": "python3"
  },
  "language_info": {
   "codemirror_mode": {
    "name": "ipython",
    "version": 3
   },
   "file_extension": ".py",
   "mimetype": "text/x-python",
   "name": "python",
   "nbconvert_exporter": "python",
   "pygments_lexer": "ipython3",
   "version": "3.5.1"
  }
 },
 "nbformat": 4,
 "nbformat_minor": 0
}
